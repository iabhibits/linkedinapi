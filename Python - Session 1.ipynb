{
 "cells": [
  {
   "cell_type": "markdown",
   "metadata": {},
   "source": [
    "### Data Types\n",
    "- integer, float\n",
    "- strings\n",
    "- list (collection of elements)\n",
    "- Tuples (immutable)\n",
    "- Sets (store only unique elements)\n",
    "- Dictionary (Keys values pairs, REST APIs, JSON )\n",
    "\n",
    "External data types\n",
    "- Numpy arrays\n",
    "- Pandas (series, dataframe)"
   ]
  },
  {
   "cell_type": "code",
   "execution_count": 9,
   "metadata": {},
   "outputs": [
    {
     "name": "stdout",
     "output_type": "stream",
     "text": [
      "10\n",
      "<class 'int'>\n"
     ]
    }
   ],
   "source": [
    "# integer and float\n",
    "x = 10\n",
    "print(x)\n",
    "print(type(x))"
   ]
  },
  {
   "cell_type": "code",
   "execution_count": 10,
   "metadata": {},
   "outputs": [
    {
     "name": "stdout",
     "output_type": "stream",
     "text": [
      "10.5\n",
      "<class 'float'>\n"
     ]
    }
   ],
   "source": [
    "y = 10.5\n",
    "print(y)\n",
    "print(type(y))"
   ]
  },
  {
   "cell_type": "code",
   "execution_count": 12,
   "metadata": {},
   "outputs": [
    {
     "name": "stdout",
     "output_type": "stream",
     "text": [
      "True\n",
      "<class 'bool'>\n"
     ]
    }
   ],
   "source": [
    "is_na = True # 1\n",
    "print(is_na)\n",
    "print(type(is_na))"
   ]
  },
  {
   "cell_type": "code",
   "execution_count": 13,
   "metadata": {},
   "outputs": [
    {
     "name": "stdout",
     "output_type": "stream",
     "text": [
      "<class 'bool'>\n"
     ]
    }
   ],
   "source": [
    "is_na = False # 0\n",
    "print(type(is_na))"
   ]
  },
  {
   "cell_type": "code",
   "execution_count": 15,
   "metadata": {},
   "outputs": [
    {
     "name": "stdout",
     "output_type": "stream",
     "text": [
      "<class 'str'>\n"
     ]
    }
   ],
   "source": [
    "name = 'data science'\n",
    "print(type(name))"
   ]
  },
  {
   "cell_type": "code",
   "execution_count": 17,
   "metadata": {},
   "outputs": [
    {
     "data": {
      "text/plain": [
       "12"
      ]
     },
     "execution_count": 17,
     "metadata": {},
     "output_type": "execute_result"
    }
   ],
   "source": [
    "len(name) # no. of characters including white space"
   ]
  },
  {
   "cell_type": "code",
   "execution_count": 32,
   "metadata": {},
   "outputs": [
    {
     "name": "stdout",
     "output_type": "stream",
     "text": [
      "<class 'list'>\n",
      "[10, 20, 20, 30, 50]\n",
      "5\n"
     ]
    }
   ],
   "source": [
    "ages = [10, 20, 20, 30, 50]\n",
    "print(type(ages))\n",
    "print(ages)\n",
    "print(len(ages))"
   ]
  },
  {
   "cell_type": "code",
   "execution_count": 24,
   "metadata": {},
   "outputs": [
    {
     "name": "stdout",
     "output_type": "stream",
     "text": [
      "<class 'tuple'>\n",
      "(10, 20, 40, 50, 60)\n"
     ]
    }
   ],
   "source": [
    "ages = (10, 20, 40, 50, 60)\n",
    "print(type(ages))\n",
    "print(ages)"
   ]
  },
  {
   "cell_type": "code",
   "execution_count": 30,
   "metadata": {},
   "outputs": [
    {
     "data": {
      "text/plain": [
       "{10, 20, 30, 40}"
      ]
     },
     "execution_count": 30,
     "metadata": {},
     "output_type": "execute_result"
    }
   ],
   "source": [
    "ages = set([10, 10, 20, 30, 40, 40])\n",
    "ages"
   ]
  },
  {
   "cell_type": "code",
   "execution_count": 31,
   "metadata": {},
   "outputs": [
    {
     "data": {
      "text/plain": [
       "4"
      ]
     },
     "execution_count": 31,
     "metadata": {},
     "output_type": "execute_result"
    }
   ],
   "source": [
    "len(ages)"
   ]
  },
  {
   "cell_type": "code",
   "execution_count": 27,
   "metadata": {},
   "outputs": [
    {
     "name": "stdout",
     "output_type": "stream",
     "text": [
      "<class 'dict'>\n",
      "{'bang': 22, 'pune': 30, 'delhi': 25}\n"
     ]
    }
   ],
   "source": [
    "cities_temp = {'bang': 22, 'pune': 30, 'delhi': 25}\n",
    "print(type(cities_temp))\n",
    "print(cities_temp)"
   ]
  },
  {
   "cell_type": "code",
   "execution_count": 28,
   "metadata": {},
   "outputs": [
    {
     "data": {
      "text/plain": [
       "3"
      ]
     },
     "execution_count": 28,
     "metadata": {},
     "output_type": "execute_result"
    }
   ],
   "source": [
    "len(cities_temp)"
   ]
  },
  {
   "cell_type": "markdown",
   "metadata": {},
   "source": [
    "### Numpy arrays"
   ]
  },
  {
   "cell_type": "code",
   "execution_count": 34,
   "metadata": {},
   "outputs": [
    {
     "data": {
      "text/plain": [
       "numpy.ndarray"
      ]
     },
     "execution_count": 34,
     "metadata": {},
     "output_type": "execute_result"
    }
   ],
   "source": [
    "import numpy as np\n",
    "\n",
    "ages_array = np.array(ages)\n",
    "type(ages_array)"
   ]
  },
  {
   "cell_type": "code",
   "execution_count": 44,
   "metadata": {},
   "outputs": [
    {
     "data": {
      "text/plain": [
       "array(['s', '1', '2', '4'], dtype='<U1')"
      ]
     },
     "execution_count": 44,
     "metadata": {},
     "output_type": "execute_result"
    }
   ],
   "source": [
    "ages_array"
   ]
  },
  {
   "cell_type": "code",
   "execution_count": 35,
   "metadata": {},
   "outputs": [
    {
     "data": {
      "text/plain": [
       "10"
      ]
     },
     "execution_count": 35,
     "metadata": {},
     "output_type": "execute_result"
    }
   ],
   "source": [
    "ages_array.min()"
   ]
  },
  {
   "cell_type": "code",
   "execution_count": 36,
   "metadata": {},
   "outputs": [
    {
     "data": {
      "text/plain": [
       "26.0"
      ]
     },
     "execution_count": 36,
     "metadata": {},
     "output_type": "execute_result"
    }
   ],
   "source": [
    "ages_array.mean()"
   ]
  },
  {
   "cell_type": "code",
   "execution_count": 37,
   "metadata": {},
   "outputs": [
    {
     "data": {
      "text/plain": [
       "['s', 1, 2, 4]"
      ]
     },
     "execution_count": 37,
     "metadata": {},
     "output_type": "execute_result"
    }
   ],
   "source": [
    "ages = ['s', 1, 2, 4]\n",
    "ages"
   ]
  },
  {
   "cell_type": "code",
   "execution_count": 38,
   "metadata": {},
   "outputs": [
    {
     "data": {
      "text/plain": [
       "array(['s', '1', '2', '4'], dtype='<U1')"
      ]
     },
     "execution_count": 38,
     "metadata": {},
     "output_type": "execute_result"
    }
   ],
   "source": [
    "ages_array = np.array(ages)\n",
    "ages_array"
   ]
  },
  {
   "cell_type": "markdown",
   "metadata": {},
   "source": [
    "## Pandas"
   ]
  },
  {
   "cell_type": "code",
   "execution_count": 42,
   "metadata": {},
   "outputs": [],
   "source": [
    "import pandas as pd\n",
    "# series\n",
    "# data frame"
   ]
  },
  {
   "cell_type": "code",
   "execution_count": 43,
   "metadata": {},
   "outputs": [
    {
     "data": {
      "text/plain": [
       "0    10\n",
       "1    30\n",
       "2    50\n",
       "3    60\n",
       "dtype: int64"
      ]
     },
     "execution_count": 43,
     "metadata": {},
     "output_type": "execute_result"
    }
   ],
   "source": [
    "ages = [10, 30, 50, 60]\n",
    "ages_series = pd.Series(ages)\n",
    "ages_series"
   ]
  },
  {
   "cell_type": "code",
   "execution_count": 46,
   "metadata": {},
   "outputs": [
    {
     "data": {
      "text/plain": [
       "pandas.core.series.Series"
      ]
     },
     "execution_count": 46,
     "metadata": {},
     "output_type": "execute_result"
    }
   ],
   "source": [
    "type(ages_series)"
   ]
  },
  {
   "cell_type": "code",
   "execution_count": null,
   "metadata": {},
   "outputs": [],
   "source": [
    "import pandas as pd"
   ]
  },
  {
   "cell_type": "code",
   "execution_count": null,
   "metadata": {},
   "outputs": [],
   "source": [
    "# https://notepad.pw/skathirmani"
   ]
  },
  {
   "cell_type": "code",
   "execution_count": 47,
   "metadata": {},
   "outputs": [
    {
     "data": {
      "text/html": [
       "<div>\n",
       "<style scoped>\n",
       "    .dataframe tbody tr th:only-of-type {\n",
       "        vertical-align: middle;\n",
       "    }\n",
       "\n",
       "    .dataframe tbody tr th {\n",
       "        vertical-align: top;\n",
       "    }\n",
       "\n",
       "    .dataframe thead th {\n",
       "        text-align: right;\n",
       "    }\n",
       "</style>\n",
       "<table border=\"1\" class=\"dataframe\">\n",
       "  <thead>\n",
       "    <tr style=\"text-align: right;\">\n",
       "      <th></th>\n",
       "      <th>Country</th>\n",
       "      <th>Player</th>\n",
       "      <th>Runs</th>\n",
       "      <th>ScoreRate</th>\n",
       "      <th>MatchDate</th>\n",
       "      <th>Ground</th>\n",
       "      <th>Versus</th>\n",
       "      <th>URL</th>\n",
       "    </tr>\n",
       "  </thead>\n",
       "  <tbody>\n",
       "    <tr>\n",
       "      <td>0</td>\n",
       "      <td>Afghanistan</td>\n",
       "      <td>Mohammad Shahzad</td>\n",
       "      <td>118.0</td>\n",
       "      <td>97.52</td>\n",
       "      <td>2-16-2010</td>\n",
       "      <td>Sharjah CA Stadium</td>\n",
       "      <td>Canada</td>\n",
       "      <td>../Matches/MatchScorecard_ODI.asp?MatchCode=3087</td>\n",
       "    </tr>\n",
       "    <tr>\n",
       "      <td>1</td>\n",
       "      <td>Afghanistan</td>\n",
       "      <td>Mohammad Shahzad</td>\n",
       "      <td>110.0</td>\n",
       "      <td>99.09</td>\n",
       "      <td>9-1-2009</td>\n",
       "      <td>VRA Ground</td>\n",
       "      <td>Netherlands</td>\n",
       "      <td>../Matches/MatchScorecard_ODI.asp?MatchCode=3008</td>\n",
       "    </tr>\n",
       "    <tr>\n",
       "      <td>2</td>\n",
       "      <td>Afghanistan</td>\n",
       "      <td>Mohammad Shahzad</td>\n",
       "      <td>100.0</td>\n",
       "      <td>138.88</td>\n",
       "      <td>8-16-2010</td>\n",
       "      <td>Cambusdoon New Ground</td>\n",
       "      <td>Scotland</td>\n",
       "      <td>../Matches/MatchScorecard_ODI.asp?MatchCode=3164</td>\n",
       "    </tr>\n",
       "    <tr>\n",
       "      <td>3</td>\n",
       "      <td>Afghanistan</td>\n",
       "      <td>Mohammad Shahzad</td>\n",
       "      <td>82.0</td>\n",
       "      <td>75.92</td>\n",
       "      <td>7-10-2010</td>\n",
       "      <td>Hazelaarweg</td>\n",
       "      <td>Netherlands</td>\n",
       "      <td>../Matches/MatchScorecard_ODI.asp?MatchCode=3153</td>\n",
       "    </tr>\n",
       "    <tr>\n",
       "      <td>4</td>\n",
       "      <td>Afghanistan</td>\n",
       "      <td>Mohammad Shahzad</td>\n",
       "      <td>57.0</td>\n",
       "      <td>100.00</td>\n",
       "      <td>7-1-2010</td>\n",
       "      <td>Sportpark Westvliet</td>\n",
       "      <td>Canada</td>\n",
       "      <td>../Matches/MatchScorecard_ODI.asp?MatchCode=3135</td>\n",
       "    </tr>\n",
       "  </tbody>\n",
       "</table>\n",
       "</div>"
      ],
      "text/plain": [
       "       Country            Player   Runs  ScoreRate  MatchDate  \\\n",
       "0  Afghanistan  Mohammad Shahzad  118.0      97.52  2-16-2010   \n",
       "1  Afghanistan  Mohammad Shahzad  110.0      99.09   9-1-2009   \n",
       "2  Afghanistan  Mohammad Shahzad  100.0     138.88  8-16-2010   \n",
       "3  Afghanistan  Mohammad Shahzad   82.0      75.92  7-10-2010   \n",
       "4  Afghanistan  Mohammad Shahzad   57.0     100.00   7-1-2010   \n",
       "\n",
       "                  Ground       Versus  \\\n",
       "0     Sharjah CA Stadium       Canada   \n",
       "1             VRA Ground  Netherlands   \n",
       "2  Cambusdoon New Ground     Scotland   \n",
       "3            Hazelaarweg  Netherlands   \n",
       "4    Sportpark Westvliet       Canada   \n",
       "\n",
       "                                                URL  \n",
       "0  ../Matches/MatchScorecard_ODI.asp?MatchCode=3087  \n",
       "1  ../Matches/MatchScorecard_ODI.asp?MatchCode=3008  \n",
       "2  ../Matches/MatchScorecard_ODI.asp?MatchCode=3164  \n",
       "3  ../Matches/MatchScorecard_ODI.asp?MatchCode=3153  \n",
       "4  ../Matches/MatchScorecard_ODI.asp?MatchCode=3135  "
      ]
     },
     "execution_count": 47,
     "metadata": {},
     "output_type": "execute_result"
    }
   ],
   "source": [
    "path = 'https://github.com/skathirmani/datasets/raw/master/odi-batting.csv'\n",
    "odi = pd.read_csv(path)\n",
    "odi.head()"
   ]
  },
  {
   "cell_type": "markdown",
   "metadata": {},
   "source": [
    "### List operations"
   ]
  },
  {
   "cell_type": "code",
   "execution_count": 50,
   "metadata": {},
   "outputs": [
    {
     "data": {
      "text/plain": [
       "5"
      ]
     },
     "execution_count": 50,
     "metadata": {},
     "output_type": "execute_result"
    }
   ],
   "source": [
    "ages = [10, 30, 50, 60, 40]\n",
    "len(ages)"
   ]
  },
  {
   "cell_type": "code",
   "execution_count": 51,
   "metadata": {},
   "outputs": [
    {
     "data": {
      "text/plain": [
       "10"
      ]
     },
     "execution_count": 51,
     "metadata": {},
     "output_type": "execute_result"
    }
   ],
   "source": [
    "# Access one element\n",
    "ages[0]"
   ]
  },
  {
   "cell_type": "code",
   "execution_count": 52,
   "metadata": {},
   "outputs": [
    {
     "data": {
      "text/plain": [
       "30"
      ]
     },
     "execution_count": 52,
     "metadata": {},
     "output_type": "execute_result"
    }
   ],
   "source": [
    "ages[1]"
   ]
  },
  {
   "cell_type": "code",
   "execution_count": 53,
   "metadata": {},
   "outputs": [
    {
     "data": {
      "text/plain": [
       "40"
      ]
     },
     "execution_count": 53,
     "metadata": {},
     "output_type": "execute_result"
    }
   ],
   "source": [
    "ages[4]"
   ]
  },
  {
   "cell_type": "code",
   "execution_count": 54,
   "metadata": {},
   "outputs": [
    {
     "data": {
      "text/plain": [
       "40"
      ]
     },
     "execution_count": 54,
     "metadata": {},
     "output_type": "execute_result"
    }
   ],
   "source": [
    "ages[len(ages)-1]"
   ]
  },
  {
   "cell_type": "code",
   "execution_count": 55,
   "metadata": {},
   "outputs": [
    {
     "data": {
      "text/plain": [
       "40"
      ]
     },
     "execution_count": 55,
     "metadata": {},
     "output_type": "execute_result"
    }
   ],
   "source": [
    "ages[-1] # get last element by negative indexing"
   ]
  },
  {
   "cell_type": "code",
   "execution_count": 56,
   "metadata": {},
   "outputs": [
    {
     "data": {
      "text/plain": [
       "[10, 30]"
      ]
     },
     "execution_count": 56,
     "metadata": {},
     "output_type": "execute_result"
    }
   ],
   "source": [
    "# Slice\n",
    "ages[0:2]"
   ]
  },
  {
   "cell_type": "code",
   "execution_count": 57,
   "metadata": {},
   "outputs": [
    {
     "data": {
      "text/plain": [
       "[10, 30]"
      ]
     },
     "execution_count": 57,
     "metadata": {},
     "output_type": "execute_result"
    }
   ],
   "source": [
    "ages[:2]"
   ]
  },
  {
   "cell_type": "code",
   "execution_count": 58,
   "metadata": {},
   "outputs": [
    {
     "data": {
      "text/plain": [
       "[50, 60, 40]"
      ]
     },
     "execution_count": 58,
     "metadata": {},
     "output_type": "execute_result"
    }
   ],
   "source": [
    "ages[2:]"
   ]
  },
  {
   "cell_type": "code",
   "execution_count": 59,
   "metadata": {},
   "outputs": [
    {
     "name": "stdout",
     "output_type": "stream",
     "text": [
      "10\n",
      "---\n",
      "30\n",
      "---\n",
      "50\n",
      "---\n",
      "60\n",
      "---\n",
      "40\n",
      "---\n"
     ]
    }
   ],
   "source": [
    "for age in ages:\n",
    "    print(age)\n",
    "    print('---')"
   ]
  },
  {
   "cell_type": "code",
   "execution_count": 61,
   "metadata": {},
   "outputs": [
    {
     "name": "stdout",
     "output_type": "stream",
     "text": [
      "0 10\n",
      "1 30\n",
      "2 50\n",
      "3 60\n",
      "4 40\n"
     ]
    }
   ],
   "source": [
    "for i in range(5):\n",
    "    print(i, ages[i])"
   ]
  },
  {
   "cell_type": "code",
   "execution_count": null,
   "metadata": {},
   "outputs": [],
   "source": [
    "# enumerate"
   ]
  },
  {
   "cell_type": "code",
   "execution_count": 62,
   "metadata": {},
   "outputs": [
    {
     "name": "stdout",
     "output_type": "stream",
     "text": [
      "10\n",
      "20\n",
      "30\n",
      "50\n"
     ]
    }
   ],
   "source": [
    "## Loop through tuples\n",
    "ages = (10, 20, 30, 50)\n",
    "for age in ages:\n",
    "    print(age)"
   ]
  },
  {
   "cell_type": "code",
   "execution_count": 63,
   "metadata": {},
   "outputs": [
    {
     "data": {
      "text/plain": [
       "{'bang': 22, 'pune': 30, 'delhi': 25}"
      ]
     },
     "execution_count": 63,
     "metadata": {},
     "output_type": "execute_result"
    }
   ],
   "source": [
    "## Dictionary operations\n",
    "cities_temp = {'bang': 22, 'pune': 30, 'delhi': 25}\n",
    "cities_temp"
   ]
  },
  {
   "cell_type": "code",
   "execution_count": 64,
   "metadata": {},
   "outputs": [
    {
     "data": {
      "text/plain": [
       "22"
      ]
     },
     "execution_count": 64,
     "metadata": {},
     "output_type": "execute_result"
    }
   ],
   "source": [
    "cities_temp['bang'] # access element in a dictionary"
   ]
  },
  {
   "cell_type": "code",
   "execution_count": 65,
   "metadata": {},
   "outputs": [
    {
     "data": {
      "text/plain": [
       "dict_keys(['bang', 'pune', 'delhi'])"
      ]
     },
     "execution_count": 65,
     "metadata": {},
     "output_type": "execute_result"
    }
   ],
   "source": [
    "cities_temp.keys()"
   ]
  },
  {
   "cell_type": "code",
   "execution_count": 66,
   "metadata": {},
   "outputs": [
    {
     "data": {
      "text/plain": [
       "dict_values([22, 30, 25])"
      ]
     },
     "execution_count": 66,
     "metadata": {},
     "output_type": "execute_result"
    }
   ],
   "source": [
    "cities_temp.values()"
   ]
  },
  {
   "cell_type": "code",
   "execution_count": 67,
   "metadata": {},
   "outputs": [
    {
     "name": "stdout",
     "output_type": "stream",
     "text": [
      "bang 22\n",
      "pune 30\n",
      "delhi 25\n"
     ]
    }
   ],
   "source": [
    "for k, v in cities_temp.items():\n",
    "    print(k, v)"
   ]
  },
  {
   "cell_type": "code",
   "execution_count": 68,
   "metadata": {},
   "outputs": [
    {
     "data": {
      "text/plain": [
       "(10, 20, 30, 50)"
      ]
     },
     "execution_count": 68,
     "metadata": {},
     "output_type": "execute_result"
    }
   ],
   "source": [
    "ages"
   ]
  },
  {
   "cell_type": "code",
   "execution_count": 69,
   "metadata": {},
   "outputs": [
    {
     "data": {
      "text/plain": [
       "(10, 20, 30, 50)"
      ]
     },
     "execution_count": 69,
     "metadata": {},
     "output_type": "execute_result"
    }
   ],
   "source": [
    "# average age\n",
    "ages = (10, 20, 30, 50)\n",
    "ages"
   ]
  },
  {
   "cell_type": "code",
   "execution_count": 71,
   "metadata": {},
   "outputs": [
    {
     "data": {
      "text/plain": [
       "27.5"
      ]
     },
     "execution_count": 71,
     "metadata": {},
     "output_type": "execute_result"
    }
   ],
   "source": [
    "total_sum = 0\n",
    "for age in ages:\n",
    "    total_sum = total_sum + age\n",
    "total_sum / len(ages)"
   ]
  },
  {
   "cell_type": "code",
   "execution_count": 77,
   "metadata": {},
   "outputs": [
    {
     "data": {
      "text/plain": [
       "[10, 20, 30, 50, 60]"
      ]
     },
     "execution_count": 77,
     "metadata": {},
     "output_type": "execute_result"
    }
   ],
   "source": [
    "## Appending values to a list\n",
    "\n",
    "ages = [10, 20, 30, 50]\n",
    "ages.append(60) #in place operation\n",
    "ages"
   ]
  },
  {
   "cell_type": "code",
   "execution_count": 78,
   "metadata": {},
   "outputs": [
    {
     "data": {
      "text/plain": [
       "[10, 20, 30, 50, 60, [80, 90, 100]]"
      ]
     },
     "execution_count": 78,
     "metadata": {},
     "output_type": "execute_result"
    }
   ],
   "source": [
    "ages.append([80, 90, 100])\n",
    "ages"
   ]
  },
  {
   "cell_type": "code",
   "execution_count": 82,
   "metadata": {},
   "outputs": [
    {
     "data": {
      "text/plain": [
       "[300, 20, 30, 50, 80, 90, 100]"
      ]
     },
     "execution_count": 82,
     "metadata": {},
     "output_type": "execute_result"
    }
   ],
   "source": [
    "ages = [10, 20, 30, 50]\n",
    "ages.extend([80, 90, 100]) # in place\n",
    "ages[0] = 300\n",
    "ages"
   ]
  },
  {
   "cell_type": "code",
   "execution_count": 81,
   "metadata": {},
   "outputs": [
    {
     "ename": "TypeError",
     "evalue": "'tuple' object does not support item assignment",
     "output_type": "error",
     "traceback": [
      "\u001b[0;31m---------------------------------------------------------------------------\u001b[0m",
      "\u001b[0;31mTypeError\u001b[0m                                 Traceback (most recent call last)",
      "\u001b[0;32m<ipython-input-81-d7e1042b89c1>\u001b[0m in \u001b[0;36m<module>\u001b[0;34m\u001b[0m\n\u001b[1;32m      1\u001b[0m \u001b[0mages\u001b[0m \u001b[0;34m=\u001b[0m \u001b[0;34m(\u001b[0m\u001b[0;36m10\u001b[0m\u001b[0;34m,\u001b[0m \u001b[0;36m20\u001b[0m\u001b[0;34m,\u001b[0m \u001b[0;36m30\u001b[0m\u001b[0;34m,\u001b[0m \u001b[0;36m50\u001b[0m\u001b[0;34m)\u001b[0m\u001b[0;34m\u001b[0m\u001b[0;34m\u001b[0m\u001b[0m\n\u001b[0;32m----> 2\u001b[0;31m \u001b[0mages\u001b[0m\u001b[0;34m[\u001b[0m\u001b[0;36m0\u001b[0m\u001b[0;34m]\u001b[0m \u001b[0;34m=\u001b[0m \u001b[0;36m20\u001b[0m\u001b[0;34m\u001b[0m\u001b[0;34m\u001b[0m\u001b[0m\n\u001b[0m",
      "\u001b[0;31mTypeError\u001b[0m: 'tuple' object does not support item assignment"
     ]
    }
   ],
   "source": [
    "ages = (10, 20, 30, 50)\n",
    "ages[0] = 20"
   ]
  },
  {
   "cell_type": "code",
   "execution_count": 89,
   "metadata": {},
   "outputs": [
    {
     "data": {
      "text/html": [
       "<div>\n",
       "<style scoped>\n",
       "    .dataframe tbody tr th:only-of-type {\n",
       "        vertical-align: middle;\n",
       "    }\n",
       "\n",
       "    .dataframe tbody tr th {\n",
       "        vertical-align: top;\n",
       "    }\n",
       "\n",
       "    .dataframe thead th {\n",
       "        text-align: right;\n",
       "    }\n",
       "</style>\n",
       "<table border=\"1\" class=\"dataframe\">\n",
       "  <thead>\n",
       "    <tr style=\"text-align: right;\">\n",
       "      <th></th>\n",
       "      <th>Country</th>\n",
       "      <th>Player</th>\n",
       "      <th>Runs</th>\n",
       "      <th>ScoreRate</th>\n",
       "      <th>MatchDate</th>\n",
       "      <th>Ground</th>\n",
       "      <th>Versus</th>\n",
       "      <th>URL</th>\n",
       "    </tr>\n",
       "  </thead>\n",
       "  <tbody>\n",
       "    <tr>\n",
       "      <td>0</td>\n",
       "      <td>Afghanistan</td>\n",
       "      <td>Mohammad Shahzad</td>\n",
       "      <td>118.0</td>\n",
       "      <td>97.52</td>\n",
       "      <td>2-16-2010</td>\n",
       "      <td>Sharjah CA Stadium</td>\n",
       "      <td>Canada</td>\n",
       "      <td>../Matches/MatchScorecard_ODI.asp?MatchCode=3087</td>\n",
       "    </tr>\n",
       "    <tr>\n",
       "      <td>1</td>\n",
       "      <td>Afghanistan</td>\n",
       "      <td>Mohammad Shahzad</td>\n",
       "      <td>110.0</td>\n",
       "      <td>99.09</td>\n",
       "      <td>9-1-2009</td>\n",
       "      <td>VRA Ground</td>\n",
       "      <td>Netherlands</td>\n",
       "      <td>../Matches/MatchScorecard_ODI.asp?MatchCode=3008</td>\n",
       "    </tr>\n",
       "  </tbody>\n",
       "</table>\n",
       "</div>"
      ],
      "text/plain": [
       "       Country            Player   Runs  ScoreRate  MatchDate  \\\n",
       "0  Afghanistan  Mohammad Shahzad  118.0      97.52  2-16-2010   \n",
       "1  Afghanistan  Mohammad Shahzad  110.0      99.09   9-1-2009   \n",
       "\n",
       "               Ground       Versus  \\\n",
       "0  Sharjah CA Stadium       Canada   \n",
       "1          VRA Ground  Netherlands   \n",
       "\n",
       "                                                URL  \n",
       "0  ../Matches/MatchScorecard_ODI.asp?MatchCode=3087  \n",
       "1  ../Matches/MatchScorecard_ODI.asp?MatchCode=3008  "
      ]
     },
     "execution_count": 89,
     "metadata": {},
     "output_type": "execute_result"
    }
   ],
   "source": [
    "odi.head(2)"
   ]
  },
  {
   "cell_type": "code",
   "execution_count": 91,
   "metadata": {},
   "outputs": [
    {
     "data": {
      "text/plain": [
       "(55926, 8)"
      ]
     },
     "execution_count": 91,
     "metadata": {},
     "output_type": "execute_result"
    }
   ],
   "source": [
    "odi.shape"
   ]
  },
  {
   "cell_type": "code",
   "execution_count": 92,
   "metadata": {},
   "outputs": [
    {
     "data": {
      "text/plain": [
       "Country       object\n",
       "Player        object\n",
       "Runs         float64\n",
       "ScoreRate    float64\n",
       "MatchDate     object\n",
       "Ground        object\n",
       "Versus        object\n",
       "URL           object\n",
       "dtype: object"
      ]
     },
     "execution_count": 92,
     "metadata": {},
     "output_type": "execute_result"
    }
   ],
   "source": [
    "odi.dtypes"
   ]
  },
  {
   "cell_type": "code",
   "execution_count": 95,
   "metadata": {},
   "outputs": [
    {
     "name": "stdout",
     "output_type": "stream",
     "text": [
      "<class 'pandas.core.frame.DataFrame'>\n",
      "RangeIndex: 55926 entries, 0 to 55925\n",
      "Data columns (total 8 columns):\n",
      "Country      55926 non-null object\n",
      "Player       55926 non-null object\n",
      "Runs         55900 non-null float64\n",
      "ScoreRate    55900 non-null float64\n",
      "MatchDate    55926 non-null object\n",
      "Ground       55926 non-null object\n",
      "Versus       55926 non-null object\n",
      "URL          55926 non-null object\n",
      "dtypes: float64(2), object(6)\n",
      "memory usage: 3.4+ MB\n"
     ]
    }
   ],
   "source": [
    "odi.info()"
   ]
  },
  {
   "cell_type": "code",
   "execution_count": 98,
   "metadata": {},
   "outputs": [
    {
     "data": {
      "text/plain": [
       "0        118.0\n",
       "1        110.0\n",
       "2        100.0\n",
       "3         82.0\n",
       "4         57.0\n",
       "         ...  \n",
       "55921      0.0\n",
       "55922      0.0\n",
       "55923      0.0\n",
       "55924      0.0\n",
       "55925      0.0\n",
       "Name: Runs, Length: 55926, dtype: float64"
      ]
     },
     "execution_count": 98,
     "metadata": {},
     "output_type": "execute_result"
    }
   ],
   "source": [
    "odi['Runs']"
   ]
  },
  {
   "cell_type": "code",
   "execution_count": 101,
   "metadata": {},
   "outputs": [
    {
     "data": {
      "text/plain": [
       "(0.0, 200.0)"
      ]
     },
     "execution_count": 101,
     "metadata": {},
     "output_type": "execute_result"
    }
   ],
   "source": [
    "odi['Runs'].min(), odi['Runs'].max()"
   ]
  },
  {
   "cell_type": "code",
   "execution_count": 109,
   "metadata": {},
   "outputs": [
    {
     "data": {
      "text/html": [
       "<div>\n",
       "<style scoped>\n",
       "    .dataframe tbody tr th:only-of-type {\n",
       "        vertical-align: middle;\n",
       "    }\n",
       "\n",
       "    .dataframe tbody tr th {\n",
       "        vertical-align: top;\n",
       "    }\n",
       "\n",
       "    .dataframe thead th {\n",
       "        text-align: right;\n",
       "    }\n",
       "</style>\n",
       "<table border=\"1\" class=\"dataframe\">\n",
       "  <thead>\n",
       "    <tr style=\"text-align: right;\">\n",
       "      <th></th>\n",
       "      <th>Country</th>\n",
       "      <th>Player</th>\n",
       "      <th>MatchDate</th>\n",
       "      <th>Ground</th>\n",
       "      <th>Versus</th>\n",
       "      <th>URL</th>\n",
       "    </tr>\n",
       "  </thead>\n",
       "  <tbody>\n",
       "    <tr>\n",
       "      <td>count</td>\n",
       "      <td>55926</td>\n",
       "      <td>55926</td>\n",
       "      <td>55926</td>\n",
       "      <td>55926</td>\n",
       "      <td>55926</td>\n",
       "      <td>55926</td>\n",
       "    </tr>\n",
       "    <tr>\n",
       "      <td>unique</td>\n",
       "      <td>22</td>\n",
       "      <td>1936</td>\n",
       "      <td>2757</td>\n",
       "      <td>178</td>\n",
       "      <td>25</td>\n",
       "      <td>3209</td>\n",
       "    </tr>\n",
       "    <tr>\n",
       "      <td>top</td>\n",
       "      <td>India</td>\n",
       "      <td>Sachin R Tendulkar</td>\n",
       "      <td>2-4-2007</td>\n",
       "      <td>Sharjah CA Stadium</td>\n",
       "      <td>Australia</td>\n",
       "      <td>../Matches/MatchScorecard_ODI.asp?MatchCode=1300</td>\n",
       "    </tr>\n",
       "    <tr>\n",
       "      <td>freq</td>\n",
       "      <td>6634</td>\n",
       "      <td>442</td>\n",
       "      <td>108</td>\n",
       "      <td>3581</td>\n",
       "      <td>7216</td>\n",
       "      <td>22</td>\n",
       "    </tr>\n",
       "  </tbody>\n",
       "</table>\n",
       "</div>"
      ],
      "text/plain": [
       "       Country              Player MatchDate              Ground     Versus  \\\n",
       "count    55926               55926     55926               55926      55926   \n",
       "unique      22                1936      2757                 178         25   \n",
       "top      India  Sachin R Tendulkar  2-4-2007  Sharjah CA Stadium  Australia   \n",
       "freq      6634                 442       108                3581       7216   \n",
       "\n",
       "                                                     URL  \n",
       "count                                              55926  \n",
       "unique                                              3209  \n",
       "top     ../Matches/MatchScorecard_ODI.asp?MatchCode=1300  \n",
       "freq                                                  22  "
      ]
     },
     "execution_count": 109,
     "metadata": {},
     "output_type": "execute_result"
    }
   ],
   "source": [
    "odi.describe(include='object')"
   ]
  },
  {
   "cell_type": "code",
   "execution_count": 106,
   "metadata": {},
   "outputs": [
    {
     "data": {
      "text/plain": [
       "0           Mohammad Shahzad\n",
       "1           Mohammad Shahzad\n",
       "2           Mohammad Shahzad\n",
       "3           Mohammad Shahzad\n",
       "4           Mohammad Shahzad\n",
       "                ...         \n",
       "55921    Waddington Mwayenga\n",
       "55922     Tafadzwa Kamungozi\n",
       "55923     Tafadzwa Kamungozi\n",
       "55924     Tafadzwa Kamungozi\n",
       "55925          Njabulo Ncube\n",
       "Name: Player, Length: 55926, dtype: object"
      ]
     },
     "execution_count": 106,
     "metadata": {},
     "output_type": "execute_result"
    }
   ],
   "source": [
    "odi['Player']"
   ]
  },
  {
   "cell_type": "code",
   "execution_count": null,
   "metadata": {},
   "outputs": [],
   "source": [
    "# odi.shape\n",
    "# odi.dtypes\n",
    "# odi.info()\n",
    "# odi.describe()\n",
    "# odi.describe(include='object')"
   ]
  },
  {
   "cell_type": "code",
   "execution_count": 104,
   "metadata": {},
   "outputs": [
    {
     "data": {
      "text/plain": [
       "0.0"
      ]
     },
     "execution_count": 104,
     "metadata": {},
     "output_type": "execute_result"
    }
   ],
   "source": [
    "odi['Runs'].min()"
   ]
  },
  {
   "cell_type": "code",
   "execution_count": null,
   "metadata": {},
   "outputs": [],
   "source": []
  }
 ],
 "metadata": {
  "kernelspec": {
   "display_name": "Python 3",
   "language": "python",
   "name": "python3"
  },
  "language_info": {
   "codemirror_mode": {
    "name": "ipython",
    "version": 3
   },
   "file_extension": ".py",
   "mimetype": "text/x-python",
   "name": "python",
   "nbconvert_exporter": "python",
   "pygments_lexer": "ipython3",
   "version": "3.7.4"
  }
 },
 "nbformat": 4,
 "nbformat_minor": 2
}
