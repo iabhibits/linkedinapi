{
 "cells": [
  {
   "cell_type": "code",
   "execution_count": 160,
   "metadata": {},
   "outputs": [],
   "source": [
    "import pandas as pd\n",
    "import numpy as np\n",
    "import seaborn as sns\n",
    "%matplotlib inline"
   ]
  },
  {
   "cell_type": "markdown",
   "metadata": {},
   "source": [
    "### Agenda\n",
    "- Corona analysis\n",
    "    - melt, pivot_table, join, merge\n",
    "- Random variable\n",
    "- Correlation analysis\n",
    "    - Correlation matrix\n",
    "    - Heatmap to visualize correlation matrix\n",
    "    - Identify top correlated variables in a data frame\n",
    "- Cosine similarity\n",
    "- Structured data\n",
    "- Unstructured text data -> Structured data - Document Term Matrix\n",
    "- Word similarity\n",
    "- Document similarity\n",
    "- Populate custom functions in a python file and import it in jupyter notebook\n",
    "- Exercises"
   ]
  },
  {
   "cell_type": "code",
   "execution_count": 7,
   "metadata": {},
   "outputs": [],
   "source": [
    "url = 'https://github.com/CSSEGISandData/COVID-19/raw/master/csse_covid_19_data/csse_covid_19_time_series/time_series_covid19_confirmed_global.csv'\n",
    "confirmed = pd.read_csv(url)\n",
    "cols_retain = ['Province/State', 'Country/Region', 'Lat', 'Long']\n",
    "df_confirmed = confirmed.melt(id_vars=cols_retain)\n",
    "df_confirmed = df_confirmed.rename(columns={'variable': 'Date',\n",
    "                                            'value': 'confirmed'})\n",
    "df_confirmed['Date'] = pd.to_datetime(df_confirmed['Date'],\n",
    "                                  format=\"%m/%d/%y\")"
   ]
  },
  {
   "cell_type": "code",
   "execution_count": 21,
   "metadata": {},
   "outputs": [],
   "source": [
    "# Identify top 10 countries with maximum cases as on yesterday\n",
    "australia = df_confirmed[df_confirmed['Country/Region']=='Australia']"
   ]
  },
  {
   "cell_type": "code",
   "execution_count": 47,
   "metadata": {},
   "outputs": [],
   "source": [
    "\n",
    "sample = pd.DataFrame({\n",
    "    'product': ['a', 'b', 'c', 'a', 'b'],\n",
    "    'Date': ['M', 'M',' M', 'T', 'T'],\n",
    "    'sales': [1,2,3,4,5]\n",
    "})\n",
    "summary = sample.groupby(['product', 'Date']).agg({'sales': sum})\n",
    "#summary.reset_index()"
   ]
  },
  {
   "cell_type": "code",
   "execution_count": 57,
   "metadata": {},
   "outputs": [],
   "source": [
    "country_confirmed = df_confirmed.groupby(\n",
    "    ['Country/Region', 'Date']).agg({'confirmed': sum})\n",
    "country_confirmed = country_confirmed.reset_index()\n",
    "#australia = country_confirmed[country_confirmed['Country/Region']=='Australia']\n",
    "#australia['confirmed_abs'] = australia['confirmed'].diff()\n",
    "#australia.plot.line(x='Date', y='confirmed_abs')"
   ]
  },
  {
   "cell_type": "code",
   "execution_count": 66,
   "metadata": {},
   "outputs": [],
   "source": [
    "country_counts = country_confirmed.groupby(['Country/Region']).agg({'confirmed': 'last'})"
   ]
  },
  {
   "cell_type": "code",
   "execution_count": 65,
   "metadata": {},
   "outputs": [],
   "source": [
    "latest_date = country_confirmed['Date'].max()\n",
    "country_counts = country_confirmed[country_confirmed['Date'] == latest_date]"
   ]
  },
  {
   "cell_type": "code",
   "execution_count": 70,
   "metadata": {},
   "outputs": [
    {
     "data": {
      "text/plain": [
       "<matplotlib.axes._subplots.AxesSubplot at 0x1167c8a90>"
      ]
     },
     "execution_count": 70,
     "metadata": {},
     "output_type": "execute_result"
    },
    {
     "data": {
      "image/png": "[encoded data removed]",
      "text/plain": [
       "<Figure size 432x288 with 1 Axes>"
      ]
     },
     "metadata": {
      "needs_background": "light"
     },
     "output_type": "display_data"
    }
   ],
   "source": [
    "top_countries = country_counts.sort_values(by='confirmed',\n",
    "                                           ascending=False).head(10)\n",
    "\n",
    "top_countries['confirmed'].plot.bar()"
   ]
  },
  {
   "cell_type": "code",
   "execution_count": 83,
   "metadata": {},
   "outputs": [],
   "source": [
    "def wrangle_data(url, entity_name):\n",
    "    confirmed = pd.read_csv(url)\n",
    "    cols_retain = ['Province/State', 'Country/Region', 'Lat', 'Long']\n",
    "    df_confirmed = confirmed.melt(id_vars=cols_retain)\n",
    "    df_confirmed = df_confirmed.rename(columns={'variable': 'Date',\n",
    "                                                'value': entity_name})\n",
    "    df_confirmed['Date'] = pd.to_datetime(df_confirmed['Date'],\n",
    "                                      format=\"%m/%d/%y\")\n",
    "    country_confirmed = df_confirmed.groupby(\n",
    "        ['Country/Region', 'Date']).agg({entity_name: sum})\n",
    "    country_confirmed = country_confirmed.reset_index()\n",
    "    return country_confirmed"
   ]
  },
  {
   "cell_type": "code",
   "execution_count": 89,
   "metadata": {},
   "outputs": [],
   "source": [
    "url = 'https://github.com/CSSEGISandData/COVID-19/raw/master/csse_covid_19_data/csse_covid_19_time_series/time_series_covid19_confirmed_global.csv'\n",
    "confirmed = wrangle_data(url, 'confirmed')\n",
    "\n",
    "url = 'https://raw.githubusercontent.com/CSSEGISandData/COVID-19/master/csse_covid_19_data/csse_covid_19_time_series/time_series_covid19_deaths_global.csv'\n",
    "deaths = wrangle_data(url, 'deaths')\n",
    "\n",
    "url = 'https://raw.githubusercontent.com/CSSEGISandData/COVID-19/master/csse_covid_19_data/csse_covid_19_time_series/time_series_covid19_recovered_global.csv'\n",
    "recovered = wrangle_data(url, 'recovered')"
   ]
  },
  {
   "cell_type": "code",
   "execution_count": 95,
   "metadata": {},
   "outputs": [],
   "source": [
    "# merge/join"
   ]
  },
  {
   "cell_type": "code",
   "execution_count": 110,
   "metadata": {},
   "outputs": [
    {
     "data": {
      "text/html": [
       "<div>\n",
       "<style scoped>\n",
       "    .dataframe tbody tr th:only-of-type {\n",
       "        vertical-align: middle;\n",
       "    }\n",
       "\n",
       "    .dataframe tbody tr th {\n",
       "        vertical-align: top;\n",
       "    }\n",
       "\n",
       "    .dataframe thead th {\n",
       "        text-align: right;\n",
       "    }\n",
       "</style>\n",
       "<table border=\"1\" class=\"dataframe\">\n",
       "  <thead>\n",
       "    <tr style=\"text-align: right;\">\n",
       "      <th></th>\n",
       "      <th>Country/Region</th>\n",
       "      <th>Date</th>\n",
       "      <th>confirmed</th>\n",
       "      <th>deaths</th>\n",
       "      <th>recovered</th>\n",
       "    </tr>\n",
       "  </thead>\n",
       "  <tbody>\n",
       "    <tr>\n",
       "      <td>0</td>\n",
       "      <td>Afghanistan</td>\n",
       "      <td>2020-01-22</td>\n",
       "      <td>0</td>\n",
       "      <td>0</td>\n",
       "      <td>0</td>\n",
       "    </tr>\n",
       "    <tr>\n",
       "      <td>1</td>\n",
       "      <td>Afghanistan</td>\n",
       "      <td>2020-01-23</td>\n",
       "      <td>0</td>\n",
       "      <td>0</td>\n",
       "      <td>0</td>\n",
       "    </tr>\n",
       "    <tr>\n",
       "      <td>2</td>\n",
       "      <td>Afghanistan</td>\n",
       "      <td>2020-01-24</td>\n",
       "      <td>0</td>\n",
       "      <td>0</td>\n",
       "      <td>0</td>\n",
       "    </tr>\n",
       "    <tr>\n",
       "      <td>3</td>\n",
       "      <td>Afghanistan</td>\n",
       "      <td>2020-01-25</td>\n",
       "      <td>0</td>\n",
       "      <td>0</td>\n",
       "      <td>0</td>\n",
       "    </tr>\n",
       "    <tr>\n",
       "      <td>4</td>\n",
       "      <td>Afghanistan</td>\n",
       "      <td>2020-01-26</td>\n",
       "      <td>0</td>\n",
       "      <td>0</td>\n",
       "      <td>0</td>\n",
       "    </tr>\n",
       "  </tbody>\n",
       "</table>\n",
       "</div>"
      ],
      "text/plain": [
       "  Country/Region       Date  confirmed  deaths  recovered\n",
       "0    Afghanistan 2020-01-22          0       0          0\n",
       "1    Afghanistan 2020-01-23          0       0          0\n",
       "2    Afghanistan 2020-01-24          0       0          0\n",
       "3    Afghanistan 2020-01-25          0       0          0\n",
       "4    Afghanistan 2020-01-26          0       0          0"
      ]
     },
     "execution_count": 110,
     "metadata": {},
     "output_type": "execute_result"
    }
   ],
   "source": [
    "# Merge\n",
    "corona = pd.merge(left=confirmed,\n",
    "                  right=deaths,\n",
    "                 left_on=['Country/Region', 'Date'],\n",
    "                 right_on=['Country/Region', 'Date'],\n",
    "                 how='left')\n",
    "corona = pd.merge(left=corona,\n",
    "                  right=recovered,\n",
    "                 on=['Country/Region', 'Date'],\n",
    "                 how='left')\n",
    "corona.head()"
   ]
  },
  {
   "cell_type": "code",
   "execution_count": 118,
   "metadata": {},
   "outputs": [],
   "source": [
    "# join\n",
    "confirmed_new = confirmed.set_index(['Country/Region', 'Date'])\n",
    "deaths_new = deaths.set_index(['Country/Region', 'Date'])\n",
    "recovered_new = recovered.set_index(['Country/Region', 'Date'])\n",
    "\n",
    "corona = confirmed_new.join([\n",
    "    deaths_new,\n",
    "    recovered_new], how='left')\n",
    "corona = corona.reset_index()"
   ]
  },
  {
   "cell_type": "code",
   "execution_count": 121,
   "metadata": {},
   "outputs": [],
   "source": [
    "com_cols = ['Country/Region', 'Date']\n",
    "corona = confirmed.set_index(com_cols).join([\n",
    "    deaths.set_index(com_cols),\n",
    "    recovered.set_index(com_cols)], how='left')\n",
    "corona = corona.reset_index()"
   ]
  },
  {
   "cell_type": "code",
   "execution_count": 126,
   "metadata": {},
   "outputs": [
    {
     "data": {
      "text/html": [
       "<div>\n",
       "<style scoped>\n",
       "    .dataframe tbody tr th:only-of-type {\n",
       "        vertical-align: middle;\n",
       "    }\n",
       "\n",
       "    .dataframe tbody tr th {\n",
       "        vertical-align: top;\n",
       "    }\n",
       "\n",
       "    .dataframe thead th {\n",
       "        text-align: right;\n",
       "    }\n",
       "</style>\n",
       "<table border=\"1\" class=\"dataframe\">\n",
       "  <thead>\n",
       "    <tr style=\"text-align: right;\">\n",
       "      <th></th>\n",
       "      <th>chennai</th>\n",
       "      <th>bangalore</th>\n",
       "    </tr>\n",
       "    <tr>\n",
       "      <th>product</th>\n",
       "      <th></th>\n",
       "      <th></th>\n",
       "    </tr>\n",
       "  </thead>\n",
       "  <tbody>\n",
       "    <tr>\n",
       "      <td>a</td>\n",
       "      <td>1.0</td>\n",
       "      <td>1.0</td>\n",
       "    </tr>\n",
       "    <tr>\n",
       "      <td>b</td>\n",
       "      <td>2.0</td>\n",
       "      <td>2.0</td>\n",
       "    </tr>\n",
       "    <tr>\n",
       "      <td>c</td>\n",
       "      <td>3.0</td>\n",
       "      <td>NaN</td>\n",
       "    </tr>\n",
       "    <tr>\n",
       "      <td>d</td>\n",
       "      <td>4.0</td>\n",
       "      <td>3.0</td>\n",
       "    </tr>\n",
       "    <tr>\n",
       "      <td>e</td>\n",
       "      <td>5.0</td>\n",
       "      <td>4.0</td>\n",
       "    </tr>\n",
       "    <tr>\n",
       "      <td>f</td>\n",
       "      <td>NaN</td>\n",
       "      <td>5.0</td>\n",
       "    </tr>\n",
       "  </tbody>\n",
       "</table>\n",
       "</div>"
      ],
      "text/plain": [
       "         chennai  bangalore\n",
       "product                    \n",
       "a            1.0        1.0\n",
       "b            2.0        2.0\n",
       "c            3.0        NaN\n",
       "d            4.0        3.0\n",
       "e            5.0        4.0\n",
       "f            NaN        5.0"
      ]
     },
     "execution_count": 126,
     "metadata": {},
     "output_type": "execute_result"
    }
   ],
   "source": [
    "sample1 = pd.DataFrame({\n",
    "    'product': ['a', 'b', 'c', 'd', 'e'],\n",
    "    'chennai': [1,2,3,4,5]\n",
    "})\n",
    "\n",
    "sample2 = pd.DataFrame({\n",
    "    'product': ['a', 'b', 'd', 'e', 'f'],\n",
    "    'bangalore': [1,2,3,4,5]\n",
    "})\n",
    "\n",
    "sample1.set_index(['product']).join(sample2.set_index(['product']), how='outer')"
   ]
  },
  {
   "cell_type": "code",
   "execution_count": null,
   "metadata": {},
   "outputs": [],
   "source": [
    "# https://github.com/skathirmani/wf-python-training"
   ]
  },
  {
   "cell_type": "code",
   "execution_count": 127,
   "metadata": {},
   "outputs": [
    {
     "data": {
      "text/html": [
       "<div>\n",
       "<style scoped>\n",
       "    .dataframe tbody tr th:only-of-type {\n",
       "        vertical-align: middle;\n",
       "    }\n",
       "\n",
       "    .dataframe tbody tr th {\n",
       "        vertical-align: top;\n",
       "    }\n",
       "\n",
       "    .dataframe thead th {\n",
       "        text-align: right;\n",
       "    }\n",
       "</style>\n",
       "<table border=\"1\" class=\"dataframe\">\n",
       "  <thead>\n",
       "    <tr style=\"text-align: right;\">\n",
       "      <th></th>\n",
       "      <th>Country/Region</th>\n",
       "      <th>Date</th>\n",
       "      <th>confirmed</th>\n",
       "      <th>deaths</th>\n",
       "      <th>recovered</th>\n",
       "    </tr>\n",
       "  </thead>\n",
       "  <tbody>\n",
       "    <tr>\n",
       "      <td>0</td>\n",
       "      <td>Afghanistan</td>\n",
       "      <td>2020-01-22</td>\n",
       "      <td>0</td>\n",
       "      <td>0</td>\n",
       "      <td>0</td>\n",
       "    </tr>\n",
       "    <tr>\n",
       "      <td>1</td>\n",
       "      <td>Afghanistan</td>\n",
       "      <td>2020-01-23</td>\n",
       "      <td>0</td>\n",
       "      <td>0</td>\n",
       "      <td>0</td>\n",
       "    </tr>\n",
       "    <tr>\n",
       "      <td>2</td>\n",
       "      <td>Afghanistan</td>\n",
       "      <td>2020-01-24</td>\n",
       "      <td>0</td>\n",
       "      <td>0</td>\n",
       "      <td>0</td>\n",
       "    </tr>\n",
       "    <tr>\n",
       "      <td>3</td>\n",
       "      <td>Afghanistan</td>\n",
       "      <td>2020-01-25</td>\n",
       "      <td>0</td>\n",
       "      <td>0</td>\n",
       "      <td>0</td>\n",
       "    </tr>\n",
       "    <tr>\n",
       "      <td>4</td>\n",
       "      <td>Afghanistan</td>\n",
       "      <td>2020-01-26</td>\n",
       "      <td>0</td>\n",
       "      <td>0</td>\n",
       "      <td>0</td>\n",
       "    </tr>\n",
       "  </tbody>\n",
       "</table>\n",
       "</div>"
      ],
      "text/plain": [
       "  Country/Region       Date  confirmed  deaths  recovered\n",
       "0    Afghanistan 2020-01-22          0       0          0\n",
       "1    Afghanistan 2020-01-23          0       0          0\n",
       "2    Afghanistan 2020-01-24          0       0          0\n",
       "3    Afghanistan 2020-01-25          0       0          0\n",
       "4    Afghanistan 2020-01-26          0       0          0"
      ]
     },
     "execution_count": 127,
     "metadata": {},
     "output_type": "execute_result"
    }
   ],
   "source": [
    "corona.head()"
   ]
  },
  {
   "cell_type": "markdown",
   "metadata": {},
   "source": [
    "### Exercises\n",
    "- 1. Melt the columns (confirmed, deaths & recovered) in `corona` dataframe\n",
    "    - corona_melted --> country/region, date, variable, values\n",
    "- 2. Using corona data frame\n",
    "    - Calculate countrywise total number confirmed, deaths & recovered cases as on yesterday\n",
    "    - Calculate %deaths and print top 10 countries with highest %deaths\n",
    "- 3. Identify the country which saw very highest number of cases in a single day"
   ]
  },
  {
   "cell_type": "code",
   "execution_count": 132,
   "metadata": {},
   "outputs": [
    {
     "data": {
      "text/plain": [
       "((122952, 4), (40984, 5))"
      ]
     },
     "execution_count": 132,
     "metadata": {},
     "output_type": "execute_result"
    }
   ],
   "source": [
    "corona_melted = corona.melt(id_vars=['Country/Region', 'Date'])\n",
    "corona_melted.shape, corona.shape"
   ]
  },
  {
   "cell_type": "code",
   "execution_count": 138,
   "metadata": {},
   "outputs": [
    {
     "data": {
      "text/plain": [
       "(40984, 5)"
      ]
     },
     "execution_count": 138,
     "metadata": {},
     "output_type": "execute_result"
    }
   ],
   "source": [
    "corona.shape"
   ]
  },
  {
   "cell_type": "code",
   "execution_count": 140,
   "metadata": {},
   "outputs": [],
   "source": [
    "# countrywise we need to take diff\n",
    "# for each country identify day in which max values are there\n",
    "# among these results, identify the date in which max value is there"
   ]
  },
  {
   "cell_type": "code",
   "execution_count": 143,
   "metadata": {},
   "outputs": [],
   "source": [
    "#results = []\n",
    "#for country, subset in corona.groupby(['Country/Region']):\n",
    "#    print(country, subset.shape)\n",
    "#    ('India', '2020/02/10', 30000)"
   ]
  },
  {
   "cell_type": "code",
   "execution_count": null,
   "metadata": {},
   "outputs": [],
   "source": [
    "#[('India', '2020/02/10', 30000), ('Australia', '2020/05/22', 5000)]"
   ]
  },
  {
   "cell_type": "markdown",
   "metadata": {},
   "source": [
    "### Pivot table"
   ]
  },
  {
   "cell_type": "code",
   "execution_count": 146,
   "metadata": {},
   "outputs": [],
   "source": [
    "url = 'https://raw.githubusercontent.com/skathirmani/datasets/master/odi-batting.csv'\n",
    "odi = pd.read_csv(url)\n",
    "odi['MatchDate'] = pd.to_datetime(odi['MatchDate'],\n",
    "                                 format='%m-%d-%Y')"
   ]
  },
  {
   "cell_type": "code",
   "execution_count": 156,
   "metadata": {},
   "outputs": [],
   "source": [
    "odi['year'] = odi['MatchDate'].dt.year\n",
    "odi['month'] = odi['MatchDate'].dt.month"
   ]
  },
  {
   "cell_type": "code",
   "execution_count": 157,
   "metadata": {},
   "outputs": [
    {
     "data": {
      "text/html": [
       "<div>\n",
       "<style scoped>\n",
       "    .dataframe tbody tr th:only-of-type {\n",
       "        vertical-align: middle;\n",
       "    }\n",
       "\n",
       "    .dataframe tbody tr th {\n",
       "        vertical-align: top;\n",
       "    }\n",
       "\n",
       "    .dataframe thead th {\n",
       "        text-align: right;\n",
       "    }\n",
       "</style>\n",
       "<table border=\"1\" class=\"dataframe\">\n",
       "  <thead>\n",
       "    <tr style=\"text-align: right;\">\n",
       "      <th></th>\n",
       "      <th>month</th>\n",
       "      <th>year</th>\n",
       "      <th>Runs</th>\n",
       "    </tr>\n",
       "  </thead>\n",
       "  <tbody>\n",
       "    <tr>\n",
       "      <td>0</td>\n",
       "      <td>2</td>\n",
       "      <td>2010</td>\n",
       "      <td>118.0</td>\n",
       "    </tr>\n",
       "  </tbody>\n",
       "</table>\n",
       "</div>"
      ],
      "text/plain": [
       "   month  year   Runs\n",
       "0      2  2010  118.0"
      ]
     },
     "execution_count": 157,
     "metadata": {},
     "output_type": "execute_result"
    }
   ],
   "source": [
    "cols = ['month', 'year', 'Runs']\n",
    "odi[cols].head(1)"
   ]
  },
  {
   "cell_type": "code",
   "execution_count": 158,
   "metadata": {},
   "outputs": [],
   "source": [
    "sachin = odi[odi['Player'] == 'Sachin R Tendulkar']"
   ]
  },
  {
   "cell_type": "code",
   "execution_count": 165,
   "metadata": {},
   "outputs": [
    {
     "data": {
      "text/plain": [
       "<matplotlib.axes._subplots.AxesSubplot at 0x1213c48d0>"
      ]
     },
     "execution_count": 165,
     "metadata": {},
     "output_type": "execute_result"
    },
    {
     "data": {
      "image/png": "[encoded data removed]",
      "text/plain": [
       "<Figure size 432x288 with 2 Axes>"
      ]
     },
     "metadata": {
      "needs_background": "light"
     },
     "output_type": "display_data"
    }
   ],
   "source": [
    "sachin_summary = pd.pivot_table(sachin,\n",
    "                               columns='month',\n",
    "                               index='year',\n",
    "                               values='Runs',\n",
    "                               aggfunc='mean')\n",
    "sns.heatmap(sachin_summary, cmap='Blues')"
   ]
  },
  {
   "cell_type": "code",
   "execution_count": 167,
   "metadata": {},
   "outputs": [
    {
     "data": {
      "text/html": [
       "<div>\n",
       "<style scoped>\n",
       "    .dataframe tbody tr th:only-of-type {\n",
       "        vertical-align: middle;\n",
       "    }\n",
       "\n",
       "    .dataframe tbody tr th {\n",
       "        vertical-align: top;\n",
       "    }\n",
       "\n",
       "    .dataframe thead th {\n",
       "        text-align: right;\n",
       "    }\n",
       "</style>\n",
       "<table border=\"1\" class=\"dataframe\">\n",
       "  <thead>\n",
       "    <tr style=\"text-align: right;\">\n",
       "      <th></th>\n",
       "      <th>Age</th>\n",
       "      <th>Attrition</th>\n",
       "      <th>BusinessTravel</th>\n",
       "      <th>DailyRate</th>\n",
       "      <th>Department</th>\n",
       "      <th>DistanceFromHome</th>\n",
       "      <th>Education</th>\n",
       "      <th>EducationField</th>\n",
       "      <th>EmployeeCount</th>\n",
       "      <th>EmployeeNumber</th>\n",
       "      <th>...</th>\n",
       "      <th>RelationshipSatisfaction</th>\n",
       "      <th>StandardHours</th>\n",
       "      <th>StockOptionLevel</th>\n",
       "      <th>TotalWorkingYears</th>\n",
       "      <th>TrainingTimesLastYear</th>\n",
       "      <th>WorkLifeBalance</th>\n",
       "      <th>YearsAtCompany</th>\n",
       "      <th>YearsInCurrentRole</th>\n",
       "      <th>YearsSinceLastPromotion</th>\n",
       "      <th>YearsWithCurrManager</th>\n",
       "    </tr>\n",
       "  </thead>\n",
       "  <tbody>\n",
       "    <tr>\n",
       "      <td>0</td>\n",
       "      <td>41</td>\n",
       "      <td>1</td>\n",
       "      <td>Travel_Rarely</td>\n",
       "      <td>1102</td>\n",
       "      <td>Sales</td>\n",
       "      <td>1</td>\n",
       "      <td>2</td>\n",
       "      <td>Life Sciences</td>\n",
       "      <td>1</td>\n",
       "      <td>1</td>\n",
       "      <td>...</td>\n",
       "      <td>1</td>\n",
       "      <td>80</td>\n",
       "      <td>0</td>\n",
       "      <td>8</td>\n",
       "      <td>0</td>\n",
       "      <td>1</td>\n",
       "      <td>6</td>\n",
       "      <td>4</td>\n",
       "      <td>0</td>\n",
       "      <td>5</td>\n",
       "    </tr>\n",
       "    <tr>\n",
       "      <td>1</td>\n",
       "      <td>49</td>\n",
       "      <td>0</td>\n",
       "      <td>Travel_Frequently</td>\n",
       "      <td>279</td>\n",
       "      <td>Research &amp; Development</td>\n",
       "      <td>8</td>\n",
       "      <td>1</td>\n",
       "      <td>Life Sciences</td>\n",
       "      <td>1</td>\n",
       "      <td>2</td>\n",
       "      <td>...</td>\n",
       "      <td>4</td>\n",
       "      <td>80</td>\n",
       "      <td>1</td>\n",
       "      <td>10</td>\n",
       "      <td>3</td>\n",
       "      <td>3</td>\n",
       "      <td>10</td>\n",
       "      <td>7</td>\n",
       "      <td>1</td>\n",
       "      <td>7</td>\n",
       "    </tr>\n",
       "    <tr>\n",
       "      <td>2</td>\n",
       "      <td>37</td>\n",
       "      <td>1</td>\n",
       "      <td>Travel_Rarely</td>\n",
       "      <td>1373</td>\n",
       "      <td>Research &amp; Development</td>\n",
       "      <td>2</td>\n",
       "      <td>2</td>\n",
       "      <td>Other</td>\n",
       "      <td>1</td>\n",
       "      <td>4</td>\n",
       "      <td>...</td>\n",
       "      <td>2</td>\n",
       "      <td>80</td>\n",
       "      <td>0</td>\n",
       "      <td>7</td>\n",
       "      <td>3</td>\n",
       "      <td>3</td>\n",
       "      <td>0</td>\n",
       "      <td>0</td>\n",
       "      <td>0</td>\n",
       "      <td>0</td>\n",
       "    </tr>\n",
       "    <tr>\n",
       "      <td>3</td>\n",
       "      <td>33</td>\n",
       "      <td>0</td>\n",
       "      <td>Travel_Frequently</td>\n",
       "      <td>1392</td>\n",
       "      <td>Research &amp; Development</td>\n",
       "      <td>3</td>\n",
       "      <td>4</td>\n",
       "      <td>Life Sciences</td>\n",
       "      <td>1</td>\n",
       "      <td>5</td>\n",
       "      <td>...</td>\n",
       "      <td>3</td>\n",
       "      <td>80</td>\n",
       "      <td>0</td>\n",
       "      <td>8</td>\n",
       "      <td>3</td>\n",
       "      <td>3</td>\n",
       "      <td>8</td>\n",
       "      <td>7</td>\n",
       "      <td>3</td>\n",
       "      <td>0</td>\n",
       "    </tr>\n",
       "    <tr>\n",
       "      <td>4</td>\n",
       "      <td>27</td>\n",
       "      <td>0</td>\n",
       "      <td>Travel_Rarely</td>\n",
       "      <td>591</td>\n",
       "      <td>Research &amp; Development</td>\n",
       "      <td>2</td>\n",
       "      <td>1</td>\n",
       "      <td>Medical</td>\n",
       "      <td>1</td>\n",
       "      <td>7</td>\n",
       "      <td>...</td>\n",
       "      <td>4</td>\n",
       "      <td>80</td>\n",
       "      <td>1</td>\n",
       "      <td>6</td>\n",
       "      <td>3</td>\n",
       "      <td>3</td>\n",
       "      <td>2</td>\n",
       "      <td>2</td>\n",
       "      <td>2</td>\n",
       "      <td>2</td>\n",
       "    </tr>\n",
       "  </tbody>\n",
       "</table>\n",
       "<p>5 rows × 35 columns</p>\n",
       "</div>"
      ],
      "text/plain": [
       "   Age  Attrition     BusinessTravel  DailyRate              Department  \\\n",
       "0   41          1      Travel_Rarely       1102                   Sales   \n",
       "1   49          0  Travel_Frequently        279  Research & Development   \n",
       "2   37          1      Travel_Rarely       1373  Research & Development   \n",
       "3   33          0  Travel_Frequently       1392  Research & Development   \n",
       "4   27          0      Travel_Rarely        591  Research & Development   \n",
       "\n",
       "   DistanceFromHome  Education EducationField  EmployeeCount  EmployeeNumber  \\\n",
       "0                 1          2  Life Sciences              1               1   \n",
       "1                 8          1  Life Sciences              1               2   \n",
       "2                 2          2          Other              1               4   \n",
       "3                 3          4  Life Sciences              1               5   \n",
       "4                 2          1        Medical              1               7   \n",
       "\n",
       "   ...  RelationshipSatisfaction StandardHours  StockOptionLevel  \\\n",
       "0  ...                         1            80                 0   \n",
       "1  ...                         4            80                 1   \n",
       "2  ...                         2            80                 0   \n",
       "3  ...                         3            80                 0   \n",
       "4  ...                         4            80                 1   \n",
       "\n",
       "   TotalWorkingYears  TrainingTimesLastYear WorkLifeBalance  YearsAtCompany  \\\n",
       "0                  8                      0               1               6   \n",
       "1                 10                      3               3              10   \n",
       "2                  7                      3               3               0   \n",
       "3                  8                      3               3               8   \n",
       "4                  6                      3               3               2   \n",
       "\n",
       "  YearsInCurrentRole  YearsSinceLastPromotion  YearsWithCurrManager  \n",
       "0                  4                        0                     5  \n",
       "1                  7                        1                     7  \n",
       "2                  0                        0                     0  \n",
       "3                  7                        3                     0  \n",
       "4                  2                        2                     2  \n",
       "\n",
       "[5 rows x 35 columns]"
      ]
     },
     "execution_count": 167,
     "metadata": {},
     "output_type": "execute_result"
    }
   ],
   "source": [
    "url = 'https://raw.githubusercontent.com/skathirmani/datasets/master/HR%20Analytics.csv'\n",
    "employees = pd.read_csv(url)\n",
    "employees.head()"
   ]
  },
  {
   "cell_type": "code",
   "execution_count": 182,
   "metadata": {},
   "outputs": [
    {
     "data": {
      "text/html": [
       "<style  type=\"text/css\" >\n",
       "    #T_c814c0f8_e835_11ea_aa66_88e9fe6f225frow0_col0 {\n",
       "            background-color:  #abd0e6;\n",
       "            color:  #000000;\n",
       "        }    #T_c814c0f8_e835_11ea_aa66_88e9fe6f225frow0_col1 {\n",
       "            background-color:  #aacfe5;\n",
       "            color:  #000000;\n",
       "        }    #T_c814c0f8_e835_11ea_aa66_88e9fe6f225frow1_col0 {\n",
       "            background-color:  #ddeaf7;\n",
       "            color:  #000000;\n",
       "        }    #T_c814c0f8_e835_11ea_aa66_88e9fe6f225frow1_col1 {\n",
       "            background-color:  #e3eef8;\n",
       "            color:  #000000;\n",
       "        }    #T_c814c0f8_e835_11ea_aa66_88e9fe6f225frow2_col0 {\n",
       "            background-color:  #eff6fc;\n",
       "            color:  #000000;\n",
       "        }    #T_c814c0f8_e835_11ea_aa66_88e9fe6f225frow2_col1 {\n",
       "            background-color:  #eef5fc;\n",
       "            color:  #000000;\n",
       "        }    #T_c814c0f8_e835_11ea_aa66_88e9fe6f225frow3_col0 {\n",
       "            background-color:  #08306b;\n",
       "            color:  #f1f1f1;\n",
       "        }    #T_c814c0f8_e835_11ea_aa66_88e9fe6f225frow3_col1 {\n",
       "            background-color:  #08306b;\n",
       "            color:  #f1f1f1;\n",
       "        }    #T_c814c0f8_e835_11ea_aa66_88e9fe6f225frow4_col0 {\n",
       "            background-color:  #abd0e6;\n",
       "            color:  #000000;\n",
       "        }    #T_c814c0f8_e835_11ea_aa66_88e9fe6f225frow4_col1 {\n",
       "            background-color:  #b3d3e8;\n",
       "            color:  #000000;\n",
       "        }    #T_c814c0f8_e835_11ea_aa66_88e9fe6f225frow5_col0 {\n",
       "            background-color:  #08509b;\n",
       "            color:  #f1f1f1;\n",
       "        }    #T_c814c0f8_e835_11ea_aa66_88e9fe6f225frow5_col1 {\n",
       "            background-color:  #083c7d;\n",
       "            color:  #f1f1f1;\n",
       "        }    #T_c814c0f8_e835_11ea_aa66_88e9fe6f225frow6_col0 {\n",
       "            background-color:  #eef5fc;\n",
       "            color:  #000000;\n",
       "        }    #T_c814c0f8_e835_11ea_aa66_88e9fe6f225frow6_col1 {\n",
       "            background-color:  #eff6fc;\n",
       "            color:  #000000;\n",
       "        }    #T_c814c0f8_e835_11ea_aa66_88e9fe6f225frow7_col0 {\n",
       "            background-color:  #bad6eb;\n",
       "            color:  #000000;\n",
       "        }    #T_c814c0f8_e835_11ea_aa66_88e9fe6f225frow7_col1 {\n",
       "            background-color:  #b7d4ea;\n",
       "            color:  #000000;\n",
       "        }    #T_c814c0f8_e835_11ea_aa66_88e9fe6f225frow8_col0 {\n",
       "            background-color:  #f7fbff;\n",
       "            color:  #000000;\n",
       "        }    #T_c814c0f8_e835_11ea_aa66_88e9fe6f225frow8_col1 {\n",
       "            background-color:  #f7fbff;\n",
       "            color:  #000000;\n",
       "        }</style><table id=\"T_c814c0f8_e835_11ea_aa66_88e9fe6f225f\" ><thead>    <tr>        <th class=\"index_name level0\" >Gender</th>        <th class=\"col_heading level0 col0\" >Female</th>        <th class=\"col_heading level0 col1\" >Male</th>    </tr>    <tr>        <th class=\"index_name level0\" >JobRole</th>        <th class=\"blank\" ></th>        <th class=\"blank\" ></th>    </tr></thead><tbody>\n",
       "                <tr>\n",
       "                        <th id=\"T_c814c0f8_e835_11ea_aa66_88e9fe6f225flevel0_row0\" class=\"row_heading level0 row0\" >Healthcare Representative</th>\n",
       "                        <td id=\"T_c814c0f8_e835_11ea_aa66_88e9fe6f225frow0_col0\" class=\"data row0 col0\" >7433.8</td>\n",
       "                        <td id=\"T_c814c0f8_e835_11ea_aa66_88e9fe6f225frow0_col1\" class=\"data row0 col1\" >7589.3</td>\n",
       "            </tr>\n",
       "            <tr>\n",
       "                        <th id=\"T_c814c0f8_e835_11ea_aa66_88e9fe6f225flevel0_row1\" class=\"row_heading level0 row1\" >Human Resources</th>\n",
       "                        <td id=\"T_c814c0f8_e835_11ea_aa66_88e9fe6f225frow1_col0\" class=\"data row1 col0\" >4540.69</td>\n",
       "                        <td id=\"T_c814c0f8_e835_11ea_aa66_88e9fe6f225frow1_col1\" class=\"data row1 col1\" >4100.22</td>\n",
       "            </tr>\n",
       "            <tr>\n",
       "                        <th id=\"T_c814c0f8_e835_11ea_aa66_88e9fe6f225flevel0_row2\" class=\"row_heading level0 row2\" >Laboratory Technician</th>\n",
       "                        <td id=\"T_c814c0f8_e835_11ea_aa66_88e9fe6f225frow2_col0\" class=\"data row2 col0\" >3246.91</td>\n",
       "                        <td id=\"T_c814c0f8_e835_11ea_aa66_88e9fe6f225frow2_col1\" class=\"data row2 col1\" >3232.41</td>\n",
       "            </tr>\n",
       "            <tr>\n",
       "                        <th id=\"T_c814c0f8_e835_11ea_aa66_88e9fe6f225flevel0_row3\" class=\"row_heading level0 row3\" >Manager</th>\n",
       "                        <td id=\"T_c814c0f8_e835_11ea_aa66_88e9fe6f225frow3_col0\" class=\"data row3 col0\" >16915.3</td>\n",
       "                        <td id=\"T_c814c0f8_e835_11ea_aa66_88e9fe6f225frow3_col1\" class=\"data row3 col1\" >17409.3</td>\n",
       "            </tr>\n",
       "            <tr>\n",
       "                        <th id=\"T_c814c0f8_e835_11ea_aa66_88e9fe6f225flevel0_row4\" class=\"row_heading level0 row4\" >Manufacturing Director</th>\n",
       "                        <td id=\"T_c814c0f8_e835_11ea_aa66_88e9fe6f225frow4_col0\" class=\"data row4 col0\" >7409.17</td>\n",
       "                        <td id=\"T_c814c0f8_e835_11ea_aa66_88e9fe6f225frow4_col1\" class=\"data row4 col1\" >7182.67</td>\n",
       "            </tr>\n",
       "            <tr>\n",
       "                        <th id=\"T_c814c0f8_e835_11ea_aa66_88e9fe6f225flevel0_row5\" class=\"row_heading level0 row5\" >Research Director</th>\n",
       "                        <td id=\"T_c814c0f8_e835_11ea_aa66_88e9fe6f225frow5_col0\" class=\"data row5 col0\" >15144.5</td>\n",
       "                        <td id=\"T_c814c0f8_e835_11ea_aa66_88e9fe6f225frow5_col1\" class=\"data row5 col1\" >16657.8</td>\n",
       "            </tr>\n",
       "            <tr>\n",
       "                        <th id=\"T_c814c0f8_e835_11ea_aa66_88e9fe6f225flevel0_row6\" class=\"row_heading level0 row6\" >Research Scientist</th>\n",
       "                        <td id=\"T_c814c0f8_e835_11ea_aa66_88e9fe6f225frow6_col0\" class=\"data row6 col0\" >3344.47</td>\n",
       "                        <td id=\"T_c814c0f8_e835_11ea_aa66_88e9fe6f225frow6_col1\" class=\"data row6 col1\" >3173.04</td>\n",
       "            </tr>\n",
       "            <tr>\n",
       "                        <th id=\"T_c814c0f8_e835_11ea_aa66_88e9fe6f225flevel0_row7\" class=\"row_heading level0 row7\" >Sales Executive</th>\n",
       "                        <td id=\"T_c814c0f8_e835_11ea_aa66_88e9fe6f225frow7_col0\" class=\"data row7 col0\" >6764.31</td>\n",
       "                        <td id=\"T_c814c0f8_e835_11ea_aa66_88e9fe6f225frow7_col1\" class=\"data row7 col1\" >7033.12</td>\n",
       "            </tr>\n",
       "            <tr>\n",
       "                        <th id=\"T_c814c0f8_e835_11ea_aa66_88e9fe6f225flevel0_row8\" class=\"row_heading level0 row8\" >Sales Representative</th>\n",
       "                        <td id=\"T_c814c0f8_e835_11ea_aa66_88e9fe6f225frow8_col0\" class=\"data row8 col0\" >2671.95</td>\n",
       "                        <td id=\"T_c814c0f8_e835_11ea_aa66_88e9fe6f225frow8_col1\" class=\"data row8 col1\" >2587.2</td>\n",
       "            </tr>\n",
       "    </tbody></table>"
      ],
      "text/plain": [
       "<pandas.io.formats.style.Styler at 0x12a5658d0>"
      ]
     },
     "execution_count": 182,
     "metadata": {},
     "output_type": "execute_result"
    }
   ],
   "source": [
    "summary = pd.pivot_table(employees,\n",
    "                        columns='Gender',\n",
    "                        index='JobRole',\n",
    "                        values='MonthlyIncome',\n",
    "                        aggfunc='mean')\n",
    "summary.style.background_gradient(cmap='Blues')"
   ]
  },
  {
   "cell_type": "markdown",
   "metadata": {},
   "source": [
    "### Hands-on"
   ]
  },
  {
   "cell_type": "code",
   "execution_count": 192,
   "metadata": {},
   "outputs": [
    {
     "name": "stderr",
     "output_type": "stream",
     "text": [
      "/Users/skathirmani/opt/anaconda3/lib/python3.7/site-packages/ipykernel_launcher.py:3: SettingWithCopyWarning: \n",
      "A value is trying to be set on a copy of a slice from a DataFrame.\n",
      "Try using .loc[row_indexer,col_indexer] = value instead\n",
      "\n",
      "See the caveats in the documentation: http://pandas.pydata.org/pandas-docs/stable/user_guide/indexing.html#returning-a-view-versus-a-copy\n",
      "  This is separate from the ipykernel package so we can avoid doing imports until\n"
     ]
    }
   ],
   "source": [
    "max_date = corona['Date'].max()\n",
    "country_summary = corona[corona['Date']==max_date]\n",
    "country_summary['per_deaths'] = country_summary['deaths'] / country_summary['confirmed']"
   ]
  },
  {
   "cell_type": "code",
   "execution_count": 196,
   "metadata": {},
   "outputs": [
    {
     "data": {
      "text/plain": [
       "'Yemen'"
      ]
     },
     "execution_count": 196,
     "metadata": {},
     "output_type": "execute_result"
    }
   ],
   "source": [
    "country_summary.sort_values(by='per_deaths',ascending=False).iloc[0]['Country/Region']"
   ]
  },
  {
   "cell_type": "code",
   "execution_count": 205,
   "metadata": {},
   "outputs": [
    {
     "name": "stderr",
     "output_type": "stream",
     "text": [
      "/Users/skathirmani/opt/anaconda3/lib/python3.7/site-packages/ipykernel_launcher.py:9: SettingWithCopyWarning: \n",
      "A value is trying to be set on a copy of a slice from a DataFrame.\n",
      "Try using .loc[row_indexer,col_indexer] = value instead\n",
      "\n",
      "See the caveats in the documentation: http://pandas.pydata.org/pandas-docs/stable/user_guide/indexing.html#returning-a-view-versus-a-copy\n",
      "  if __name__ == '__main__':\n"
     ]
    }
   ],
   "source": [
    "## Exercise 3\n",
    "# countrywise we need to take diff\n",
    "# for each country identify day in which max values are there\n",
    "# among these results, identify the date in which max value is there\n",
    "result = []\n",
    "for country, data in corona.groupby(['Country/Region']):\n",
    "    data['confirmed_absolute'] = data['confirmed'].diff()\n",
    "    max_value = data['confirmed_absolute'].max()\n",
    "    max_row = data[data['confirmed_absolute'] == max_value].head(1)\n",
    "    result.append((country,\n",
    "                   max_row['Date'].values[0],\n",
    "                   max_value))\n",
    "    "
   ]
  },
  {
   "cell_type": "code",
   "execution_count": 208,
   "metadata": {},
   "outputs": [
    {
     "data": {
      "text/html": [
       "<div>\n",
       "<style scoped>\n",
       "    .dataframe tbody tr th:only-of-type {\n",
       "        vertical-align: middle;\n",
       "    }\n",
       "\n",
       "    .dataframe tbody tr th {\n",
       "        vertical-align: top;\n",
       "    }\n",
       "\n",
       "    .dataframe thead th {\n",
       "        text-align: right;\n",
       "    }\n",
       "</style>\n",
       "<table border=\"1\" class=\"dataframe\">\n",
       "  <thead>\n",
       "    <tr style=\"text-align: right;\">\n",
       "      <th></th>\n",
       "      <th>Country/Region</th>\n",
       "      <th>Date</th>\n",
       "      <th>cases</th>\n",
       "    </tr>\n",
       "  </thead>\n",
       "  <tbody>\n",
       "    <tr>\n",
       "      <td>79</td>\n",
       "      <td>India</td>\n",
       "      <td>2020-08-26</td>\n",
       "      <td>85687.0</td>\n",
       "    </tr>\n",
       "  </tbody>\n",
       "</table>\n",
       "</div>"
      ],
      "text/plain": [
       "   Country/Region       Date    cases\n",
       "79          India 2020-08-26  85687.0"
      ]
     },
     "execution_count": 208,
     "metadata": {},
     "output_type": "execute_result"
    }
   ],
   "source": [
    "countries_max = pd.DataFrame(result,\n",
    "                             columns=['Country/Region', 'Date', 'cases'])\n",
    "countries_max.sort_values('cases', ascending=False).head(1)"
   ]
  },
  {
   "cell_type": "code",
   "execution_count": 228,
   "metadata": {},
   "outputs": [
    {
     "data": {
      "text/html": [
       "<div>\n",
       "<style scoped>\n",
       "    .dataframe tbody tr th:only-of-type {\n",
       "        vertical-align: middle;\n",
       "    }\n",
       "\n",
       "    .dataframe tbody tr th {\n",
       "        vertical-align: top;\n",
       "    }\n",
       "\n",
       "    .dataframe thead th {\n",
       "        text-align: right;\n",
       "    }\n",
       "</style>\n",
       "<table border=\"1\" class=\"dataframe\">\n",
       "  <thead>\n",
       "    <tr style=\"text-align: right;\">\n",
       "      <th></th>\n",
       "      <th>Country/Region</th>\n",
       "      <th>Date</th>\n",
       "      <th>value</th>\n",
       "    </tr>\n",
       "  </thead>\n",
       "  <tbody>\n",
       "    <tr>\n",
       "      <td>40875</td>\n",
       "      <td>India</td>\n",
       "      <td>2020-08-26</td>\n",
       "      <td>85687.0</td>\n",
       "    </tr>\n",
       "  </tbody>\n",
       "</table>\n",
       "</div>"
      ],
      "text/plain": [
       "      Country/Region       Date    value\n",
       "40875          India 2020-08-26  85687.0"
      ]
     },
     "execution_count": 228,
     "metadata": {},
     "output_type": "execute_result"
    }
   ],
   "source": [
    "corona_wide = pd.pivot_table(corona,\n",
    "              index='Country/Region',\n",
    "              columns='Date',\n",
    "              values='confirmed',\n",
    "              aggfunc='first')\n",
    "corona_wide_diff = corona_wide.diff(axis=1)\n",
    "corona_wide_diff.reset_index().melt(\n",
    "    id_vars=['Country/Region']).sort_values(by='value', ascending=False).head(1)"
   ]
  },
  {
   "cell_type": "markdown",
   "metadata": {},
   "source": [
    "### Pandas\n",
    "- groupby\n",
    "- filtering operation\n",
    "- pivot/melt\n",
    "- join/merge\n",
    "- describe\n",
    "- nunique, unique, value_counts\n",
    "- set_index, reset_index,\n",
    "- iloc/loc\n",
    "- sort_values\n",
    "- apply\n",
    "- dt, str, plot, style\n",
    "- resample\n",
    "\n",
    "### yet to learn\n",
    "- reindex, append, concat"
   ]
  },
  {
   "cell_type": "code",
   "execution_count": 230,
   "metadata": {},
   "outputs": [
    {
     "data": {
      "text/plain": [
       "Player\n",
       "Aamir Sohail              5\n",
       "Abdool M Samad            1\n",
       "Abdul Razzaq              3\n",
       "Abraham B de Villiers    11\n",
       "Adam C Gilchrist         16\n",
       "                         ..\n",
       "Xavier M Marshall         1\n",
       "Yasir Hameed              3\n",
       "Younis Khan               6\n",
       "Yusuf K Pathan            2\n",
       "Yuvraj Singh             13\n",
       "Name: Runs, Length: 280, dtype: int64"
      ]
     },
     "execution_count": 230,
     "metadata": {},
     "output_type": "execute_result"
    }
   ],
   "source": [
    "odi[odi['Runs']>99].groupby('Player')['Runs'].count()"
   ]
  },
  {
   "cell_type": "markdown",
   "metadata": {},
   "source": [
    "### Exercise:\n",
    "Using odi\n",
    "- Identify Number of years missed by each player, and then compute top 10 players\n",
    "- Number of times sachin scored less than 10 runs in atleast three consecutive matches"
   ]
  }
 ],
 "metadata": {
  "kernelspec": {
   "display_name": "Python 3",
   "language": "python",
   "name": "python3"
  },
  "language_info": {
   "codemirror_mode": {
    "name": "ipython",
    "version": 3
   },
   "file_extension": ".py",
   "mimetype": "text/x-python",
   "name": "python",
   "nbconvert_exporter": "python",
   "pygments_lexer": "ipython3",
   "version": "3.7.4"
  }
 },
 "nbformat": 4,
 "nbformat_minor": 2
}
