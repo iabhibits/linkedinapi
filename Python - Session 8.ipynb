{
 "cells": [
  {
   "cell_type": "code",
   "execution_count": 1,
   "metadata": {},
   "outputs": [],
   "source": [
    "import pandas as pd\n",
    "import numpy as np\n",
    "import scipy.stats as st\n",
    "import matplotlib.pyplot as plt\n",
    "import seaborn as sns\n",
    "%matplotlib inline"
   ]
  },
  {
   "cell_type": "markdown",
   "metadata": {},
   "source": [
    "### Agenda\n",
    "- T-Test comparing two means (unpaired, unequal variance)\n",
    "- Anova\n",
    "    - One way anova\n",
    "    - Welch Anova\n",
    "- Chi-square test\n",
    "- Applications"
   ]
  },
  {
   "cell_type": "markdown",
   "metadata": {},
   "source": [
    "### T-Test"
   ]
  },
  {
   "cell_type": "code",
   "execution_count": 2,
   "metadata": {},
   "outputs": [
    {
     "data": {
      "text/plain": [
       "(1470, 35)"
      ]
     },
     "execution_count": 2,
     "metadata": {},
     "output_type": "execute_result"
    }
   ],
   "source": [
    "url = 'https://raw.githubusercontent.com/skathirmani/datasets/master/HR%20Analytics.csv'\n",
    "employees = pd.read_csv(url)\n",
    "employees.shape"
   ]
  },
  {
   "cell_type": "code",
   "execution_count": 3,
   "metadata": {},
   "outputs": [
    {
     "data": {
      "text/plain": [
       "306.05839002267567"
      ]
     },
     "execution_count": 3,
     "metadata": {},
     "output_type": "execute_result"
    }
   ],
   "source": [
    "females = employees[employees['Gender'] == 'Female']['MonthlyIncome']\n",
    "males = employees[employees['Gender'] == 'Male']['MonthlyIncome']\n",
    "females.mean()- males.mean()"
   ]
  },
  {
   "cell_type": "code",
   "execution_count": 4,
   "metadata": {},
   "outputs": [],
   "source": [
    "# Ho: Avg income for male and female is same\n",
    "# Ha: Avg income for male and female is not same"
   ]
  },
  {
   "cell_type": "code",
   "execution_count": 5,
   "metadata": {},
   "outputs": [],
   "source": [
    "# population should be having from normal distribution\n",
    "    # modified version of t-test Welch T Test\n",
    "    # Robust to handle non normal distribution, if sample size is large\n",
    "# Unpaired\n",
    "# Unequal variance"
   ]
  },
  {
   "cell_type": "code",
   "execution_count": 7,
   "metadata": {},
   "outputs": [],
   "source": [
    "#sns.boxplot(data=employees, x='Gender', y='MonthlyIncome')"
   ]
  },
  {
   "cell_type": "code",
   "execution_count": 9,
   "metadata": {},
   "outputs": [],
   "source": [
    "t, pvalue = st.ttest_ind(males, females)"
   ]
  },
  {
   "cell_type": "code",
   "execution_count": 11,
   "metadata": {},
   "outputs": [],
   "source": [
    "## probability of the means being equal ->m1 = m2\n",
    "## 5% or 10%\n",
    "## 95% confidence - 5% -> 0.05"
   ]
  },
  {
   "cell_type": "code",
   "execution_count": 12,
   "metadata": {},
   "outputs": [
    {
     "data": {
      "text/plain": [
       "0.22218303455087898"
      ]
     },
     "execution_count": 12,
     "metadata": {},
     "output_type": "execute_result"
    }
   ],
   "source": [
    "pvalue"
   ]
  },
  {
   "cell_type": "code",
   "execution_count": 13,
   "metadata": {},
   "outputs": [
    {
     "name": "stdout",
     "output_type": "stream",
     "text": [
      "Accept your null hypothesis\n"
     ]
    }
   ],
   "source": [
    "if pvalue < 0.05:\n",
    "    print('Reject null hypothesis')\n",
    "else:\n",
    "    print('Accept null hypothesis')"
   ]
  },
  {
   "cell_type": "code",
   "execution_count": 16,
   "metadata": {},
   "outputs": [
    {
     "data": {
      "text/plain": [
       "array(['Sales Executive', 'Research Scientist', 'Laboratory Technician',\n",
       "       'Manufacturing Director', 'Healthcare Representative', 'Manager',\n",
       "       'Sales Representative', 'Research Director', 'Human Resources'],\n",
       "      dtype=object)"
      ]
     },
     "execution_count": 16,
     "metadata": {},
     "output_type": "execute_result"
    }
   ],
   "source": [
    "employees['JobRole'].unique()"
   ]
  },
  {
   "cell_type": "code",
   "execution_count": 19,
   "metadata": {},
   "outputs": [
    {
     "data": {
      "text/plain": [
       "<matplotlib.axes._subplots.AxesSubplot at 0x123b52350>"
      ]
     },
     "execution_count": 19,
     "metadata": {},
     "output_type": "execute_result"
    },
    {
     "data": {
      "image/png": "[encoded data removed]",
      "text/plain": [
       "<Figure size 1008x288 with 1 Axes>"
      ]
     },
     "metadata": {
      "needs_background": "light"
     },
     "output_type": "display_data"
    }
   ],
   "source": [
    "plt.figure(figsize=(14,4))\n",
    "sns.boxplot(data=employees, x='JobRole', y='MonthlyIncome')"
   ]
  },
  {
   "cell_type": "code",
   "execution_count": 21,
   "metadata": {},
   "outputs": [
    {
     "data": {
      "text/plain": [
       "JobRole\n",
       "Sales Representative          2626.000000\n",
       "Laboratory Technician         3237.169884\n",
       "Research Scientist            3239.972603\n",
       "Human Resources               4235.750000\n",
       "Sales Executive               6924.279141\n",
       "Manufacturing Director        7295.137931\n",
       "Healthcare Representative     7528.763359\n",
       "Research Director            16033.550000\n",
       "Manager                      17181.676471\n",
       "Name: MonthlyIncome, dtype: float64"
      ]
     },
     "execution_count": 21,
     "metadata": {},
     "output_type": "execute_result"
    }
   ],
   "source": [
    "employees.groupby('JobRole')['MonthlyIncome'].mean().sort_values()"
   ]
  },
  {
   "cell_type": "code",
   "execution_count": 28,
   "metadata": {},
   "outputs": [],
   "source": [
    "## sales_representative & lab tech -> 5%\n",
    "## lab tech & research scientist -> 5%"
   ]
  },
  {
   "cell_type": "code",
   "execution_count": null,
   "metadata": {},
   "outputs": [],
   "source": [
    "## sales_representative & manager"
   ]
  },
  {
   "cell_type": "code",
   "execution_count": 23,
   "metadata": {},
   "outputs": [
    {
     "data": {
      "text/plain": [
       "((83,), (102,))"
      ]
     },
     "execution_count": 23,
     "metadata": {},
     "output_type": "execute_result"
    }
   ],
   "source": [
    "sales = employees[employees['JobRole'] == 'Sales Representative']['MonthlyIncome']\n",
    "manager = employees[employees['JobRole'] == 'Manager']['MonthlyIncome']\n",
    "sales.shape, manager.shape"
   ]
  },
  {
   "cell_type": "code",
   "execution_count": 26,
   "metadata": {},
   "outputs": [
    {
     "name": "stdout",
     "output_type": "stream",
     "text": [
      "5.446090443478108e-97\n",
      "Reject null hypothesis\n"
     ]
    }
   ],
   "source": [
    "t, pvalue = st.ttest_ind(sales, manager, equal_var=False)\n",
    "print(pvalue)\n",
    "if pvalue < 0.05:\n",
    "    print('Reject null hypothesis')\n",
    "else:\n",
    "    print('Accept null hypothesis')"
   ]
  },
  {
   "cell_type": "markdown",
   "metadata": {},
   "source": [
    "### ANOVA: Analysis of Variance"
   ]
  },
  {
   "cell_type": "code",
   "execution_count": null,
   "metadata": {},
   "outputs": [],
   "source": [
    "### F -Distribution\n",
    "### Chi-square distribution"
   ]
  },
  {
   "cell_type": "code",
   "execution_count": 35,
   "metadata": {},
   "outputs": [],
   "source": [
    "### Chi-square distribution\n",
    "sample1 = pd.Series(np.random.normal(loc=5, scale=2, size=5000))\n",
    "sample2 = pd.Series(np.random.normal(loc=5, scale=2, size=5000))\n",
    "sample3 = pd.Series(np.random.normal(loc=5, scale=2, size=5000))\n",
    "sample4 = pd.Series(np.random.normal(loc=5, scale=2, size=5000))\n",
    "sample5 = pd.Series(np.random.normal(loc=5, scale=2, size=5000))"
   ]
  },
  {
   "cell_type": "code",
   "execution_count": 36,
   "metadata": {},
   "outputs": [
    {
     "data": {
      "text/plain": [
       "<matplotlib.axes._subplots.AxesSubplot at 0x12485bd90>"
      ]
     },
     "execution_count": 36,
     "metadata": {},
     "output_type": "execute_result"
    },
    {
     "data": {
      "image/png": "[encoded data removed]",
      "text/plain": [
       "<Figure size 432x288 with 1 Axes>"
      ]
     },
     "metadata": {
      "needs_background": "light"
     },
     "output_type": "display_data"
    }
   ],
   "source": [
    "np.square(sample1).plot.kde(xlim=(0, 200))\n",
    "(np.square(sample1)+np.square(sample2)).plot.kde(xlim=(0, 200))"
   ]
  },
  {
   "cell_type": "code",
   "execution_count": 86,
   "metadata": {},
   "outputs": [
    {
     "data": {
      "text/plain": [
       "(9.917007106901126, 10.010448174214195, 10.054212262455412, 15.00885721171354)"
      ]
     },
     "execution_count": 86,
     "metadata": {},
     "output_type": "execute_result"
    }
   ],
   "source": [
    "population = pd.Series(np.random.normal(loc=10, scale=2, size=100000))\n",
    "sample1 = population.sample(1000)\n",
    "sample2 = population.sample(1000)\n",
    "sample3 = population.sample(1000)\n",
    "sample4 = pd.Series(np.random.normal(loc=15, scale=2, size=100000))\n",
    "sample1.mean(), sample2.mean(), sample3.mean(), sample4.mean()"
   ]
  },
  {
   "cell_type": "code",
   "execution_count": 88,
   "metadata": {},
   "outputs": [],
   "source": [
    "r = 3\n",
    "n1 = len(sample1)\n",
    "n2 = len(sample2)\n",
    "n3 = len(sample3)\n",
    "x1_bar = sample1.mean()\n",
    "x2_bar = sample2.mean()\n",
    "x3_bar = sample3.mean()\n",
    "sample_all = np.hstack([sample1, sample2, sample3])\n",
    "xbar = sample_all.mean()\n",
    "\n",
    "ssf = np.sum([n1*np.square(x1_bar-xbar),\n",
    "             n2*np.square(x2_bar-xbar),\n",
    "             n3*np.square(x3_bar-xbar)])\n",
    "bwt_var = ssf/(r-1)\n",
    "\n",
    "sse = np.sum(np.hstack([np.square(sample1-x1_bar),\n",
    "np.square(sample2-x2_bar),\n",
    "np.square(sample3-x3_bar)]))\n",
    "within_var = sse / (len(sample_all)-r)\n",
    "\n",
    "fstatistic = bwt_var / within_var\n",
    "#fstatistic"
   ]
  },
  {
   "cell_type": "code",
   "execution_count": null,
   "metadata": {},
   "outputs": [],
   "source": [
    "st.f_oneway()"
   ]
  },
  {
   "cell_type": "code",
   "execution_count": 99,
   "metadata": {},
   "outputs": [
    {
     "data": {
      "text/plain": [
       "(6151.5835407392, 0.0)"
      ]
     },
     "execution_count": 99,
     "metadata": {},
     "output_type": "execute_result"
    }
   ],
   "source": [
    "f, pvalue = st.f_oneway(sample1, sample2, sample3, sample4)\n",
    "f, pvalue"
   ]
  },
  {
   "cell_type": "code",
   "execution_count": 91,
   "metadata": {},
   "outputs": [
    {
     "name": "stdout",
     "output_type": "stream",
     "text": [
      "One of the sample is coming from different population\n"
     ]
    }
   ],
   "source": [
    "if pvalue>0.05:\n",
    "    print('All three samples are coming from same population, hence accept null hypothesis', )\n",
    "else:\n",
    "    print('One of the sample is coming from different population')"
   ]
  },
  {
   "cell_type": "code",
   "execution_count": 90,
   "metadata": {},
   "outputs": [
    {
     "name": "stdout",
     "output_type": "stream",
     "text": [
      "Reject null hypothesis\n"
     ]
    }
   ],
   "source": [
    "if pvalue>0.05:\n",
    "    print('Accept null hypothesis', )\n",
    "else:\n",
    "    print('Reject null hypothesis')"
   ]
  },
  {
   "cell_type": "code",
   "execution_count": 76,
   "metadata": {},
   "outputs": [
    {
     "data": {
      "text/plain": [
       "\"\\npopulation = pd.Series(np.random.normal(loc=10, scale=2, size=100000))\\n\\nsample1 = population.sample(100)\\nsample2 = population.sample(100)\\nsample3 = pd.Series(np.random.normal(loc=15, scale=2, size=100000))\\nsample1.mean(), sample2.mean(), sample3.mean()\\npopulation.plot.kde(xlim=(3,22))\\nsample1.plot.kde(xlim=(3, 22))\\nsample2.plot.kde(xlim=(3,22))\\nsample3.plot.kde(xlim=(3,22))\\nplt.legend(['pop', 's1', 's2', 's3'])\\n\""
      ]
     },
     "execution_count": 76,
     "metadata": {},
     "output_type": "execute_result"
    }
   ],
   "source": [
    "'''\n",
    "population = pd.Series(np.random.normal(loc=10, scale=2, size=100000))\n",
    "\n",
    "sample1 = population.sample(100)\n",
    "sample2 = population.sample(100)\n",
    "sample3 = pd.Series(np.random.normal(loc=15, scale=2, size=100000))\n",
    "sample1.mean(), sample2.mean(), sample3.mean()\n",
    "population.plot.kde(xlim=(3,22))\n",
    "sample1.plot.kde(xlim=(3, 22))\n",
    "sample2.plot.kde(xlim=(3,22))\n",
    "sample3.plot.kde(xlim=(3,22))\n",
    "plt.legend(['pop', 's1', 's2', 's3'])\n",
    "'''"
   ]
  },
  {
   "cell_type": "markdown",
   "metadata": {},
   "source": [
    "### Welch ANOVA"
   ]
  },
  {
   "cell_type": "code",
   "execution_count": 93,
   "metadata": {},
   "outputs": [],
   "source": [
    "#!pip install pingouin"
   ]
  },
  {
   "cell_type": "code",
   "execution_count": 100,
   "metadata": {},
   "outputs": [
    {
     "data": {
      "text/html": [
       "<div>\n",
       "<style scoped>\n",
       "    .dataframe tbody tr th:only-of-type {\n",
       "        vertical-align: middle;\n",
       "    }\n",
       "\n",
       "    .dataframe tbody tr th {\n",
       "        vertical-align: top;\n",
       "    }\n",
       "\n",
       "    .dataframe thead th {\n",
       "        text-align: right;\n",
       "    }\n",
       "</style>\n",
       "<table border=\"1\" class=\"dataframe\">\n",
       "  <thead>\n",
       "    <tr style=\"text-align: right;\">\n",
       "      <th></th>\n",
       "      <th>Source</th>\n",
       "      <th>ddof1</th>\n",
       "      <th>ddof2</th>\n",
       "      <th>F</th>\n",
       "      <th>p-unc</th>\n",
       "      <th>np2</th>\n",
       "    </tr>\n",
       "  </thead>\n",
       "  <tbody>\n",
       "    <tr>\n",
       "      <td>0</td>\n",
       "      <td>Gender</td>\n",
       "      <td>1</td>\n",
       "      <td>1261.546661</td>\n",
       "      <td>1.493924</td>\n",
       "      <td>0.221837</td>\n",
       "      <td>0.001015</td>\n",
       "    </tr>\n",
       "  </tbody>\n",
       "</table>\n",
       "</div>"
      ],
      "text/plain": [
       "   Source  ddof1        ddof2         F     p-unc       np2\n",
       "0  Gender      1  1261.546661  1.493924  0.221837  0.001015"
      ]
     },
     "execution_count": 100,
     "metadata": {},
     "output_type": "execute_result"
    }
   ],
   "source": [
    "from pingouin import welch_anova\n",
    "\n",
    "fresults = welch_anova(data=employees,\n",
    "                       dv='MonthlyIncome',\n",
    "                       between='Gender'\n",
    "                      )\n",
    "fresults"
   ]
  },
  {
   "cell_type": "code",
   "execution_count": 123,
   "metadata": {},
   "outputs": [
    {
     "data": {
      "text/plain": [
       "43"
      ]
     },
     "execution_count": 123,
     "metadata": {},
     "output_type": "execute_result"
    }
   ],
   "source": [
    "df['Age'].nunique()"
   ]
  },
  {
   "cell_type": "code",
   "execution_count": 96,
   "metadata": {},
   "outputs": [],
   "source": [
    "### Gender vs MonthlyIncome\n",
    "## pvalue >0.05\n",
    "## accept null hypothesis\n",
    "## avg income of male is equal to avg income of female\n",
    "## Gender is not influencing monthlyincome"
   ]
  },
  {
   "cell_type": "code",
   "execution_count": 97,
   "metadata": {},
   "outputs": [
    {
     "data": {
      "text/html": [
       "<div>\n",
       "<style scoped>\n",
       "    .dataframe tbody tr th:only-of-type {\n",
       "        vertical-align: middle;\n",
       "    }\n",
       "\n",
       "    .dataframe tbody tr th {\n",
       "        vertical-align: top;\n",
       "    }\n",
       "\n",
       "    .dataframe thead th {\n",
       "        text-align: right;\n",
       "    }\n",
       "</style>\n",
       "<table border=\"1\" class=\"dataframe\">\n",
       "  <thead>\n",
       "    <tr style=\"text-align: right;\">\n",
       "      <th></th>\n",
       "      <th>Source</th>\n",
       "      <th>ddof1</th>\n",
       "      <th>ddof2</th>\n",
       "      <th>F</th>\n",
       "      <th>p-unc</th>\n",
       "      <th>np2</th>\n",
       "    </tr>\n",
       "  </thead>\n",
       "  <tbody>\n",
       "    <tr>\n",
       "      <td>0</td>\n",
       "      <td>JobRole</td>\n",
       "      <td>8</td>\n",
       "      <td>387.69168</td>\n",
       "      <td>752.257163</td>\n",
       "      <td>7.875237e-231</td>\n",
       "      <td>0.816058</td>\n",
       "    </tr>\n",
       "  </tbody>\n",
       "</table>\n",
       "</div>"
      ],
      "text/plain": [
       "    Source  ddof1      ddof2           F          p-unc       np2\n",
       "0  JobRole      8  387.69168  752.257163  7.875237e-231  0.816058"
      ]
     },
     "execution_count": 97,
     "metadata": {},
     "output_type": "execute_result"
    }
   ],
   "source": [
    "fresults = welch_anova(data=employees,\n",
    "                       dv='MonthlyIncome',\n",
    "                       between='JobRole'\n",
    "                      )\n",
    "fresults"
   ]
  },
  {
   "cell_type": "code",
   "execution_count": null,
   "metadata": {},
   "outputs": [],
   "source": [
    "### JobRole vs MonthlyIncome\n",
    "## pvalue >0.05: False\n",
    "## reject null hypothesis\n",
    "## avg income between jobrole is not same.\n",
    "## Alteast one of the jobrole's avg income is different\n",
    "## JobRole is influencing monthlyincome"
   ]
  },
  {
   "cell_type": "code",
   "execution_count": null,
   "metadata": {},
   "outputs": [],
   "source": [
    "### Exercises\n",
    "### Using employees dataset\n",
    "### for these numerical variables [MonthlyIncome]\n",
    "### Identify which categorical variables influences monthlyincome"
   ]
  },
  {
   "cell_type": "code",
   "execution_count": 120,
   "metadata": {},
   "outputs": [
    {
     "data": {
      "text/plain": [
       "1"
      ]
     },
     "execution_count": 120,
     "metadata": {},
     "output_type": "execute_result"
    }
   ],
   "source": [
    "df['Over18'].nunique()"
   ]
  },
  {
   "cell_type": "code",
   "execution_count": 129,
   "metadata": {},
   "outputs": [
    {
     "data": {
      "text/html": [
       "<div>\n",
       "<style scoped>\n",
       "    .dataframe tbody tr th:only-of-type {\n",
       "        vertical-align: middle;\n",
       "    }\n",
       "\n",
       "    .dataframe tbody tr th {\n",
       "        vertical-align: top;\n",
       "    }\n",
       "\n",
       "    .dataframe thead th {\n",
       "        text-align: right;\n",
       "    }\n",
       "</style>\n",
       "<table border=\"1\" class=\"dataframe\">\n",
       "  <thead>\n",
       "    <tr style=\"text-align: right;\">\n",
       "      <th></th>\n",
       "      <th>categorical</th>\n",
       "      <th>numerical</th>\n",
       "    </tr>\n",
       "  </thead>\n",
       "  <tbody>\n",
       "    <tr>\n",
       "      <td>0</td>\n",
       "      <td>JobRole</td>\n",
       "      <td>Age</td>\n",
       "    </tr>\n",
       "    <tr>\n",
       "      <td>1</td>\n",
       "      <td>MaritalStatus</td>\n",
       "      <td>Age</td>\n",
       "    </tr>\n",
       "  </tbody>\n",
       "</table>\n",
       "</div>"
      ],
      "text/plain": [
       "     categorical numerical\n",
       "0        JobRole       Age\n",
       "1  MaritalStatus       Age"
      ]
     },
     "execution_count": 129,
     "metadata": {},
     "output_type": "execute_result"
    }
   ],
   "source": [
    "df = employees\n",
    "\n",
    "def get_anova_results(df, pvalue_thresh=0.05):\n",
    "    num_col = 'MonthlyIncome'\n",
    "    cat_cols = df.dtypes[df.dtypes==object].index.tolist()\n",
    "    #num_cols = np.setdiff1d([df.columns, cat_cols])\n",
    "    #num_cols = df.describe().columns\n",
    "    num_cols = df._get_numeric_data().columns\n",
    "    thresh = 0.05\n",
    "    results = []\n",
    "    for num_col in num_cols:\n",
    "        for cat_col in cat_cols:\n",
    "            if df[cat_col].nunique()>1:\n",
    "                fresults = welch_anova(data=df,\n",
    "                                   dv=num_col,\n",
    "                                   between=cat_col\n",
    "                                  )\n",
    "                pvalue = fresults.loc[0, 'p-unc']\n",
    "                if pvalue < thresh:\n",
    "                     results.append((cat_col, num_col))\n",
    "    df_results = pd.DataFrame(results, columns=['categorical',\n",
    "                                                'numerical'])\n",
    "    return df_results"
   ]
  },
  {
   "cell_type": "code",
   "execution_count": null,
   "metadata": {},
   "outputs": [],
   "source": [
    "# numerical-> nunique/nrows ->\n",
    "# nunique is very & nunique/nrows is very small"
   ]
  },
  {
   "cell_type": "code",
   "execution_count": 130,
   "metadata": {},
   "outputs": [],
   "source": [
    "### kwargs"
   ]
  },
  {
   "cell_type": "code",
   "execution_count": 135,
   "metadata": {},
   "outputs": [],
   "source": [
    "#sample3"
   ]
  },
  {
   "cell_type": "code",
   "execution_count": 136,
   "metadata": {},
   "outputs": [
    {
     "name": "stdout",
     "output_type": "stream",
     "text": [
      "1000 1000 1000\n"
     ]
    }
   ],
   "source": [
    "def one_way_anova(sample1, sample2, sample3):\n",
    "    print(len(sample1), len(sample2), len(sample3))\n",
    "one_way_anova(sample1, sample2, sample3)"
   ]
  },
  {
   "cell_type": "code",
   "execution_count": 142,
   "metadata": {},
   "outputs": [
    {
     "name": "stdout",
     "output_type": "stream",
     "text": [
      "3\n",
      "1000 1000\n"
     ]
    }
   ],
   "source": [
    "def one_way_anova(x):\n",
    "    print(len(x))\n",
    "    print(len(x[0]), len(x[1]))\n",
    "one_way_anova((sample1, sample2, sample3))"
   ]
  },
  {
   "cell_type": "code",
   "execution_count": 149,
   "metadata": {},
   "outputs": [
    {
     "name": "stdout",
     "output_type": "stream",
     "text": [
      "100000\n"
     ]
    }
   ],
   "source": [
    "def one_way_anova(*args):\n",
    "    print(len(args[3]))\n",
    "one_way_anova(sample1, sample2, sample3, sample4)"
   ]
  },
  {
   "cell_type": "code",
   "execution_count": 152,
   "metadata": {},
   "outputs": [
    {
     "name": "stdout",
     "output_type": "stream",
     "text": [
      "{'s1': [4], 's2': [5], 's3': [6], 's4': [7], 's5': [9]}\n"
     ]
    }
   ],
   "source": [
    "def one_way_anova(**args):\n",
    "    print(args)\n",
    "one_way_anova(s1 = [4], s2=[5], s3=[6], s4=[7], s5=[9])"
   ]
  },
  {
   "cell_type": "code",
   "execution_count": 156,
   "metadata": {},
   "outputs": [
    {
     "data": {
      "text/plain": [
       "F_onewayResult(statistic=1.2488163007868809, pvalue=0.2869933535180164)"
      ]
     },
     "execution_count": 156,
     "metadata": {},
     "output_type": "execute_result"
    }
   ],
   "source": [
    "inp = (sample1, sample2, sample3)\n",
    "st.f_oneway(*inp)"
   ]
  },
  {
   "cell_type": "code",
   "execution_count": 170,
   "metadata": {},
   "outputs": [
    {
     "data": {
      "text/plain": [
       "F_onewayResult(statistic=1.4914802153292723, pvalue=0.22218303455087515)"
      ]
     },
     "execution_count": 170,
     "metadata": {},
     "output_type": "execute_result"
    }
   ],
   "source": [
    "females = employees[employees['Gender'] == 'Female']['MonthlyIncome']\n",
    "males = employees[employees['Gender'] == 'Male']['MonthlyIncome']\n",
    "st.f_oneway(females, males)"
   ]
  },
  {
   "cell_type": "code",
   "execution_count": 169,
   "metadata": {},
   "outputs": [
    {
     "data": {
      "text/plain": [
       "F_onewayResult(statistic=810.2140539160126, pvalue=0.0)"
      ]
     },
     "execution_count": 169,
     "metadata": {},
     "output_type": "execute_result"
    }
   ],
   "source": [
    "employees['JobRole']\n",
    "\n",
    "inp = []\n",
    "for level in employees['JobRole'].unique():\n",
    "    sample = employees[employees['JobRole'] == level]\n",
    "    inp.append(sample['MonthlyIncome'])\n",
    "st.f_oneway(,)"
   ]
  },
  {
   "cell_type": "code",
   "execution_count": 172,
   "metadata": {},
   "outputs": [
    {
     "data": {
      "text/plain": [
       "43"
      ]
     },
     "execution_count": 172,
     "metadata": {},
     "output_type": "execute_result"
    }
   ],
   "source": [
    "employees['Age'].nunique()"
   ]
  },
  {
   "cell_type": "code",
   "execution_count": null,
   "metadata": {},
   "outputs": [],
   "source": [
    "18-30\n",
    "31-45\n",
    "46-60\n",
    "60+"
   ]
  },
  {
   "cell_type": "code",
   "execution_count": 171,
   "metadata": {},
   "outputs": [
    {
     "data": {
      "text/plain": [
       "0       41\n",
       "1       49\n",
       "2       37\n",
       "3       33\n",
       "4       27\n",
       "        ..\n",
       "1465    36\n",
       "1466    39\n",
       "1467    27\n",
       "1468    49\n",
       "1469    34\n",
       "Name: Age, Length: 1470, dtype: int64"
      ]
     },
     "execution_count": 171,
     "metadata": {},
     "output_type": "execute_result"
    }
   ],
   "source": [
    "s1 = age18\n",
    "s2 = age19\n",
    "s3\n",
    "\n",
    "\n",
    "..."
   ]
  }
 ],
 "metadata": {
  "kernelspec": {
   "display_name": "Python 3",
   "language": "python",
   "name": "python3"
  },
  "language_info": {
   "codemirror_mode": {
    "name": "ipython",
    "version": 3
   },
   "file_extension": ".py",
   "mimetype": "text/x-python",
   "name": "python",
   "nbconvert_exporter": "python",
   "pygments_lexer": "ipython3",
   "version": "3.7.4"
  }
 },
 "nbformat": 4,
 "nbformat_minor": 2
}
