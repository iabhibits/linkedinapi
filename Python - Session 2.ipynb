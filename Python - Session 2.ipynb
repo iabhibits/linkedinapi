{
 "cells": [
  {
   "cell_type": "code",
   "execution_count": 11,
   "metadata": {},
   "outputs": [],
   "source": [
    "import pandas as pd\n",
    "import numpy as np\n",
    "%matplotlib inline"
   ]
  },
  {
   "cell_type": "code",
   "execution_count": null,
   "metadata": {},
   "outputs": [],
   "source": [
    "# string operations (hashtags analysis / trending analysis)\n",
    "# grouping, filtering\n",
    "# Plotting\n",
    "# Reshaping (pivot, crosstabs)\n",
    "# EDA "
   ]
  },
  {
   "cell_type": "code",
   "execution_count": 3,
   "metadata": {},
   "outputs": [
    {
     "data": {
      "text/html": [
       "<div>\n",
       "<style scoped>\n",
       "    .dataframe tbody tr th:only-of-type {\n",
       "        vertical-align: middle;\n",
       "    }\n",
       "\n",
       "    .dataframe tbody tr th {\n",
       "        vertical-align: top;\n",
       "    }\n",
       "\n",
       "    .dataframe thead th {\n",
       "        text-align: right;\n",
       "    }\n",
       "</style>\n",
       "<table border=\"1\" class=\"dataframe\">\n",
       "  <thead>\n",
       "    <tr style=\"text-align: right;\">\n",
       "      <th></th>\n",
       "      <th>Country</th>\n",
       "      <th>Player</th>\n",
       "      <th>Runs</th>\n",
       "      <th>ScoreRate</th>\n",
       "      <th>MatchDate</th>\n",
       "      <th>Ground</th>\n",
       "      <th>Versus</th>\n",
       "      <th>URL</th>\n",
       "    </tr>\n",
       "  </thead>\n",
       "  <tbody>\n",
       "    <tr>\n",
       "      <td>0</td>\n",
       "      <td>Afghanistan</td>\n",
       "      <td>Mohammad Shahzad</td>\n",
       "      <td>118.0</td>\n",
       "      <td>97.52</td>\n",
       "      <td>2-16-2010</td>\n",
       "      <td>Sharjah CA Stadium</td>\n",
       "      <td>Canada</td>\n",
       "      <td>../Matches/MatchScorecard_ODI.asp?MatchCode=3087</td>\n",
       "    </tr>\n",
       "    <tr>\n",
       "      <td>1</td>\n",
       "      <td>Afghanistan</td>\n",
       "      <td>Mohammad Shahzad</td>\n",
       "      <td>110.0</td>\n",
       "      <td>99.09</td>\n",
       "      <td>9-1-2009</td>\n",
       "      <td>VRA Ground</td>\n",
       "      <td>Netherlands</td>\n",
       "      <td>../Matches/MatchScorecard_ODI.asp?MatchCode=3008</td>\n",
       "    </tr>\n",
       "    <tr>\n",
       "      <td>2</td>\n",
       "      <td>Afghanistan</td>\n",
       "      <td>Mohammad Shahzad</td>\n",
       "      <td>100.0</td>\n",
       "      <td>138.88</td>\n",
       "      <td>8-16-2010</td>\n",
       "      <td>Cambusdoon New Ground</td>\n",
       "      <td>Scotland</td>\n",
       "      <td>../Matches/MatchScorecard_ODI.asp?MatchCode=3164</td>\n",
       "    </tr>\n",
       "    <tr>\n",
       "      <td>3</td>\n",
       "      <td>Afghanistan</td>\n",
       "      <td>Mohammad Shahzad</td>\n",
       "      <td>82.0</td>\n",
       "      <td>75.92</td>\n",
       "      <td>7-10-2010</td>\n",
       "      <td>Hazelaarweg</td>\n",
       "      <td>Netherlands</td>\n",
       "      <td>../Matches/MatchScorecard_ODI.asp?MatchCode=3153</td>\n",
       "    </tr>\n",
       "    <tr>\n",
       "      <td>4</td>\n",
       "      <td>Afghanistan</td>\n",
       "      <td>Mohammad Shahzad</td>\n",
       "      <td>57.0</td>\n",
       "      <td>100.00</td>\n",
       "      <td>7-1-2010</td>\n",
       "      <td>Sportpark Westvliet</td>\n",
       "      <td>Canada</td>\n",
       "      <td>../Matches/MatchScorecard_ODI.asp?MatchCode=3135</td>\n",
       "    </tr>\n",
       "  </tbody>\n",
       "</table>\n",
       "</div>"
      ],
      "text/plain": [
       "       Country            Player   Runs  ScoreRate  MatchDate  \\\n",
       "0  Afghanistan  Mohammad Shahzad  118.0      97.52  2-16-2010   \n",
       "1  Afghanistan  Mohammad Shahzad  110.0      99.09   9-1-2009   \n",
       "2  Afghanistan  Mohammad Shahzad  100.0     138.88  8-16-2010   \n",
       "3  Afghanistan  Mohammad Shahzad   82.0      75.92  7-10-2010   \n",
       "4  Afghanistan  Mohammad Shahzad   57.0     100.00   7-1-2010   \n",
       "\n",
       "                  Ground       Versus  \\\n",
       "0     Sharjah CA Stadium       Canada   \n",
       "1             VRA Ground  Netherlands   \n",
       "2  Cambusdoon New Ground     Scotland   \n",
       "3            Hazelaarweg  Netherlands   \n",
       "4    Sportpark Westvliet       Canada   \n",
       "\n",
       "                                                URL  \n",
       "0  ../Matches/MatchScorecard_ODI.asp?MatchCode=3087  \n",
       "1  ../Matches/MatchScorecard_ODI.asp?MatchCode=3008  \n",
       "2  ../Matches/MatchScorecard_ODI.asp?MatchCode=3164  \n",
       "3  ../Matches/MatchScorecard_ODI.asp?MatchCode=3153  \n",
       "4  ../Matches/MatchScorecard_ODI.asp?MatchCode=3135  "
      ]
     },
     "execution_count": 3,
     "metadata": {},
     "output_type": "execute_result"
    }
   ],
   "source": [
    "path = 'https://github.com/skathirmani/datasets/raw/master/odi-batting.csv'\n",
    "odi = pd.read_csv(path)\n",
    "odi.head()"
   ]
  },
  {
   "cell_type": "code",
   "execution_count": null,
   "metadata": {},
   "outputs": [],
   "source": [
    "# odi.shape # no. of rows & columns\n",
    "# odi.dytpes # Type of each column\n",
    "# odi.describe() # summarize individual columns\n",
    "# odi.head(), odi.tail()"
   ]
  },
  {
   "cell_type": "markdown",
   "metadata": {},
   "source": [
    "### EDA Steps\n",
    "- Summarize the data\n",
    "- Data types\n",
    "    - Numeric (distribution analysis)\n",
    "    - Categorical (frequency analysis)\n",
    "    - Date (Trendina analysis)\n",
    "    - Text (text analytics)\n",
    "    - Geographical (Geographical analysis)\n",
    "    - Misc - email, phone numbers, ids, urls\n",
    "- Derived metrics / Feature engineering / Mutation\n",
    "- Univariate analysis\n",
    "    - Numerical (boxplot, histograms)\n",
    "    - Categorical (pareto analysis)\n",
    "    - Text columns (bag of word analysis)\n",
    "    - Date columns (treat them as categorical columns)\n",
    "- Bivariate analysis\n",
    "    - Categorical column vs Numerical column\n",
    "        - Bar charts, box plots, T-Test, ANNOVA\n",
    "    - Numerical vs Numerical\n",
    "        - Correlation plot, pair plot\n",
    "    - Categorical vs Categorical\n",
    "        - Cross tab analysis, heatmaps, Chi-square\n",
    "- Multi variate analysis\n",
    "    - 2 Cats, 2 num - Hierarachical analysis, treemaps, sunburst\n",
    "    - Many numerical variables - Scatter plot"
   ]
  },
  {
   "cell_type": "code",
   "execution_count": 4,
   "metadata": {},
   "outputs": [
    {
     "data": {
      "text/html": [
       "<div>\n",
       "<style scoped>\n",
       "    .dataframe tbody tr th:only-of-type {\n",
       "        vertical-align: middle;\n",
       "    }\n",
       "\n",
       "    .dataframe tbody tr th {\n",
       "        vertical-align: top;\n",
       "    }\n",
       "\n",
       "    .dataframe thead th {\n",
       "        text-align: right;\n",
       "    }\n",
       "</style>\n",
       "<table border=\"1\" class=\"dataframe\">\n",
       "  <thead>\n",
       "    <tr style=\"text-align: right;\">\n",
       "      <th></th>\n",
       "      <th>Country</th>\n",
       "      <th>Player</th>\n",
       "      <th>Runs</th>\n",
       "      <th>ScoreRate</th>\n",
       "      <th>MatchDate</th>\n",
       "      <th>Ground</th>\n",
       "      <th>Versus</th>\n",
       "      <th>URL</th>\n",
       "    </tr>\n",
       "  </thead>\n",
       "  <tbody>\n",
       "    <tr>\n",
       "      <td>0</td>\n",
       "      <td>Afghanistan</td>\n",
       "      <td>Mohammad Shahzad</td>\n",
       "      <td>118.0</td>\n",
       "      <td>97.52</td>\n",
       "      <td>2-16-2010</td>\n",
       "      <td>Sharjah CA Stadium</td>\n",
       "      <td>Canada</td>\n",
       "      <td>../Matches/MatchScorecard_ODI.asp?MatchCode=3087</td>\n",
       "    </tr>\n",
       "    <tr>\n",
       "      <td>1</td>\n",
       "      <td>Afghanistan</td>\n",
       "      <td>Mohammad Shahzad</td>\n",
       "      <td>110.0</td>\n",
       "      <td>99.09</td>\n",
       "      <td>9-1-2009</td>\n",
       "      <td>VRA Ground</td>\n",
       "      <td>Netherlands</td>\n",
       "      <td>../Matches/MatchScorecard_ODI.asp?MatchCode=3008</td>\n",
       "    </tr>\n",
       "  </tbody>\n",
       "</table>\n",
       "</div>"
      ],
      "text/plain": [
       "       Country            Player   Runs  ScoreRate  MatchDate  \\\n",
       "0  Afghanistan  Mohammad Shahzad  118.0      97.52  2-16-2010   \n",
       "1  Afghanistan  Mohammad Shahzad  110.0      99.09   9-1-2009   \n",
       "\n",
       "               Ground       Versus  \\\n",
       "0  Sharjah CA Stadium       Canada   \n",
       "1          VRA Ground  Netherlands   \n",
       "\n",
       "                                                URL  \n",
       "0  ../Matches/MatchScorecard_ODI.asp?MatchCode=3087  \n",
       "1  ../Matches/MatchScorecard_ODI.asp?MatchCode=3008  "
      ]
     },
     "execution_count": 4,
     "metadata": {},
     "output_type": "execute_result"
    }
   ],
   "source": [
    "odi.head(2)"
   ]
  },
  {
   "cell_type": "markdown",
   "metadata": {},
   "source": [
    "### Data types\n",
    "- Numerical\n",
    "    - Runs, Score Rate\n",
    "- Categorical\n",
    "    - Country, Ground, Versus\n",
    "- Dates\n",
    "    MatchDate\n",
    "- Text\n",
    "    - None\n",
    "- Geographical\n",
    "    - Country, Ground, Versus\n",
    "- Misc\n",
    "    - URL"
   ]
  },
  {
   "cell_type": "markdown",
   "metadata": {},
   "source": [
    "### Derived Metrics\n",
    "- Date\n",
    "    - day, month, year, dayofweek\n",
    "- Country, Ground\n",
    "    - Lat, long\n",
    "- Runs\n",
    "    - Runs binning\n",
    "    - Century, Fifty, Missed century"
   ]
  },
  {
   "cell_type": "markdown",
   "metadata": {},
   "source": [
    "### Frequency analysis"
   ]
  },
  {
   "cell_type": "code",
   "execution_count": 5,
   "metadata": {},
   "outputs": [
    {
     "data": {
      "text/plain": [
       "1936"
      ]
     },
     "execution_count": 5,
     "metadata": {},
     "output_type": "execute_result"
    }
   ],
   "source": [
    "odi['Player'].nunique()"
   ]
  },
  {
   "cell_type": "code",
   "execution_count": 8,
   "metadata": {},
   "outputs": [
    {
     "data": {
      "text/plain": [
       "array(['Mohammad Shahzad', 'Mohammad Nabi', 'Nawroz Mangal', ...,\n",
       "       'Waddington Mwayenga', 'Tafadzwa Kamungozi', 'Njabulo Ncube'],\n",
       "      dtype=object)"
      ]
     },
     "execution_count": 8,
     "metadata": {},
     "output_type": "execute_result"
    }
   ],
   "source": [
    "odi['Player'].unique()"
   ]
  },
  {
   "cell_type": "code",
   "execution_count": 13,
   "metadata": {},
   "outputs": [
    {
     "data": {
      "text/plain": [
       "<matplotlib.axes._subplots.AxesSubplot at 0x124509590>"
      ]
     },
     "execution_count": 13,
     "metadata": {},
     "output_type": "execute_result"
    },
    {
     "data": {
      "image/png": "[encoded data removed]",
      "text/plain": [
       "<Figure size 432x288 with 1 Axes>"
      ]
     },
     "metadata": {
      "needs_background": "light"
     },
     "output_type": "display_data"
    }
   ],
   "source": [
    "# Identifies unique values\n",
    "# Computes frequency of each unique value\n",
    "# Sort the results in the descending order of frequency\n",
    "odi['Player'].value_counts().head(10).plot.barh()"
   ]
  },
  {
   "cell_type": "markdown",
   "metadata": {},
   "source": [
    "### Numerical analysis"
   ]
  },
  {
   "cell_type": "code",
   "execution_count": 14,
   "metadata": {},
   "outputs": [
    {
     "data": {
      "text/plain": [
       "count    55900.000000\n",
       "mean        22.241413\n",
       "std         25.558363\n",
       "min          0.000000\n",
       "25%          4.000000\n",
       "50%         13.000000\n",
       "75%         32.000000\n",
       "max        200.000000\n",
       "Name: Runs, dtype: float64"
      ]
     },
     "execution_count": 14,
     "metadata": {},
     "output_type": "execute_result"
    }
   ],
   "source": [
    "odi['Runs'].describe()"
   ]
  },
  {
   "cell_type": "code",
   "execution_count": 16,
   "metadata": {},
   "outputs": [
    {
     "data": {
      "text/plain": [
       "<matplotlib.axes._subplots.AxesSubplot at 0x124a762d0>"
      ]
     },
     "execution_count": 16,
     "metadata": {},
     "output_type": "execute_result"
    },
    {
     "data": {
      "image/png": "[encoded data removed]",
      "text/plain": [
       "<Figure size 432x288 with 1 Axes>"
      ]
     },
     "metadata": {
      "needs_background": "light"
     },
     "output_type": "display_data"
    }
   ],
   "source": [
    "odi['Runs'].plot.box()"
   ]
  },
  {
   "cell_type": "code",
   "execution_count": null,
   "metadata": {},
   "outputs": [],
   "source": [
    "#apply, lambda"
   ]
  },
  {
   "cell_type": "code",
   "execution_count": 31,
   "metadata": {},
   "outputs": [],
   "source": [
    "def check_if_century(run):\n",
    "    if run > 99:\n",
    "        return 1\n",
    "    else:\n",
    "        return 0"
   ]
  },
  {
   "cell_type": "code",
   "execution_count": 32,
   "metadata": {},
   "outputs": [],
   "source": [
    "check_if_century = lambda run: 1 if run>99 else 0"
   ]
  },
  {
   "cell_type": "code",
   "execution_count": 19,
   "metadata": {},
   "outputs": [
    {
     "data": {
      "text/plain": [
       "1"
      ]
     },
     "execution_count": 19,
     "metadata": {},
     "output_type": "execute_result"
    }
   ],
   "source": [
    "check_if_century(105)"
   ]
  },
  {
   "cell_type": "code",
   "execution_count": 33,
   "metadata": {},
   "outputs": [],
   "source": [
    "odi['is_century'] = odi['Runs'].apply(check_if_century)"
   ]
  },
  {
   "cell_type": "code",
   "execution_count": 35,
   "metadata": {},
   "outputs": [],
   "source": [
    "odi['is_century'] = odi['Runs'].apply(lambda run: 1 if run>99 else 0)"
   ]
  },
  {
   "cell_type": "code",
   "execution_count": 36,
   "metadata": {},
   "outputs": [
    {
     "data": {
      "text/plain": [
       "1161"
      ]
     },
     "execution_count": 36,
     "metadata": {},
     "output_type": "execute_result"
    }
   ],
   "source": [
    "odi['is_century'].sum()"
   ]
  },
  {
   "cell_type": "code",
   "execution_count": 37,
   "metadata": {},
   "outputs": [],
   "source": [
    "# Top 10 players based on total number of centuries\n",
    "players_centuries = odi.groupby(['Player']).agg({'is_century': sum})\n",
    "top_players = players_centuries.sort_values(by='is_century',\n",
    "                                            ascending=False).head(10)\n",
    "#top_players['is_century'].plot.barh()"
   ]
  },
  {
   "cell_type": "code",
   "execution_count": null,
   "metadata": {},
   "outputs": [],
   "source": [
    "# Calculate top 10 players based on missed centuries\n",
    "#run: (run>90) and (run<100)"
   ]
  },
  {
   "cell_type": "code",
   "execution_count": 42,
   "metadata": {},
   "outputs": [],
   "source": [
    "odi['is_duck'] = odi['Runs'].apply(lambda run: 1 if run==0 else 0)\n",
    "odi['is_missed_century'] = odi['Runs'].apply(\n",
    "    lambda run: 1 if (run>90) and (run<100) else 0)\n",
    "odi['is_fifty'] = odi['Runs'].apply(\n",
    "    lambda run: 1 if (run>49) and (run<100) else 0)"
   ]
  },
  {
   "cell_type": "code",
   "execution_count": null,
   "metadata": {},
   "outputs": [],
   "source": [
    "# min runs, max run, avg runs, median runs"
   ]
  },
  {
   "cell_type": "code",
   "execution_count": 44,
   "metadata": {},
   "outputs": [
    {
     "data": {
      "text/html": [
       "<div>\n",
       "<style scoped>\n",
       "    .dataframe tbody tr th:only-of-type {\n",
       "        vertical-align: middle;\n",
       "    }\n",
       "\n",
       "    .dataframe tbody tr th {\n",
       "        vertical-align: top;\n",
       "    }\n",
       "\n",
       "    .dataframe thead tr th {\n",
       "        text-align: left;\n",
       "    }\n",
       "\n",
       "    .dataframe thead tr:last-of-type th {\n",
       "        text-align: right;\n",
       "    }\n",
       "</style>\n",
       "<table border=\"1\" class=\"dataframe\">\n",
       "  <thead>\n",
       "    <tr>\n",
       "      <th></th>\n",
       "      <th colspan=\"4\" halign=\"left\">Runs</th>\n",
       "      <th>ScoreRate</th>\n",
       "      <th>is_century</th>\n",
       "      <th>is_duck</th>\n",
       "      <th>is_missed_century</th>\n",
       "      <th>is_fifty</th>\n",
       "    </tr>\n",
       "    <tr>\n",
       "      <th></th>\n",
       "      <th>min</th>\n",
       "      <th>max</th>\n",
       "      <th>sum</th>\n",
       "      <th>mean</th>\n",
       "      <th>mean</th>\n",
       "      <th>sum</th>\n",
       "      <th>sum</th>\n",
       "      <th>sum</th>\n",
       "      <th>sum</th>\n",
       "    </tr>\n",
       "    <tr>\n",
       "      <th>Player</th>\n",
       "      <th></th>\n",
       "      <th></th>\n",
       "      <th></th>\n",
       "      <th></th>\n",
       "      <th></th>\n",
       "      <th></th>\n",
       "      <th></th>\n",
       "      <th></th>\n",
       "      <th></th>\n",
       "    </tr>\n",
       "  </thead>\n",
       "  <tbody>\n",
       "    <tr>\n",
       "      <td>Aamer Hanif</td>\n",
       "      <td>17.0</td>\n",
       "      <td>36.0</td>\n",
       "      <td>89.0</td>\n",
       "      <td>22.25</td>\n",
       "      <td>70.295</td>\n",
       "      <td>0</td>\n",
       "      <td>0</td>\n",
       "      <td>0</td>\n",
       "      <td>0</td>\n",
       "    </tr>\n",
       "  </tbody>\n",
       "</table>\n",
       "</div>"
      ],
      "text/plain": [
       "             Runs                    ScoreRate is_century is_duck  \\\n",
       "              min   max   sum   mean      mean        sum     sum   \n",
       "Player                                                              \n",
       "Aamer Hanif  17.0  36.0  89.0  22.25    70.295          0       0   \n",
       "\n",
       "            is_missed_century is_fifty  \n",
       "                          sum      sum  \n",
       "Player                                  \n",
       "Aamer Hanif                 0        0  "
      ]
     },
     "execution_count": 44,
     "metadata": {},
     "output_type": "execute_result"
    }
   ],
   "source": [
    "odi.groupby(['Player']).agg({\n",
    "    'Runs': [min, max, sum, 'mean'],\n",
    "    'ScoreRate': 'mean',\n",
    "    'is_century': sum,\n",
    "    'is_duck': sum,\n",
    "    'is_missed_century': sum,\n",
    "    'is_fifty': sum\n",
    "}).head(1)"
   ]
  },
  {
   "cell_type": "code",
   "execution_count": 108,
   "metadata": {},
   "outputs": [
    {
     "data": {
      "text/html": [
       "<style  type=\"text/css\" >\n",
       "    #T_a598c1ca_e69e_11ea_a149_88e9fe6f225frow0_col0 {\n",
       "            background-color:  #f7fbff;\n",
       "            color:  #000000;\n",
       "        }    #T_a598c1ca_e69e_11ea_a149_88e9fe6f225frow0_col1 {\n",
       "            background-color:  #08306b;\n",
       "            color:  #f1f1f1;\n",
       "        }    #T_a598c1ca_e69e_11ea_a149_88e9fe6f225frow0_col2 {\n",
       "            background-color:  #08306b;\n",
       "            color:  #f1f1f1;\n",
       "        }    #T_a598c1ca_e69e_11ea_a149_88e9fe6f225frow0_col3 {\n",
       "            background-color:  #08306b;\n",
       "            color:  #f1f1f1;\n",
       "        }    #T_a598c1ca_e69e_11ea_a149_88e9fe6f225frow0_col4 {\n",
       "            background-color:  #1967ad;\n",
       "            color:  #f1f1f1;\n",
       "        }    #T_a598c1ca_e69e_11ea_a149_88e9fe6f225frow0_col5 {\n",
       "            background-color:  #08306b;\n",
       "            color:  #f1f1f1;\n",
       "        }    #T_a598c1ca_e69e_11ea_a149_88e9fe6f225frow0_col6 {\n",
       "            background-color:  #abd0e6;\n",
       "            color:  #000000;\n",
       "        }    #T_a598c1ca_e69e_11ea_a149_88e9fe6f225frow0_col7 {\n",
       "            background-color:  #08306b;\n",
       "            color:  #f1f1f1;\n",
       "        }    #T_a598c1ca_e69e_11ea_a149_88e9fe6f225frow0_col8 {\n",
       "            background-color:  #08306b;\n",
       "            color:  #f1f1f1;\n",
       "        }    #T_a598c1ca_e69e_11ea_a149_88e9fe6f225frow1_col0 {\n",
       "            background-color:  #f7fbff;\n",
       "            color:  #000000;\n",
       "        }    #T_a598c1ca_e69e_11ea_a149_88e9fe6f225frow1_col1 {\n",
       "            background-color:  #89bedc;\n",
       "            color:  #000000;\n",
       "        }    #T_a598c1ca_e69e_11ea_a149_88e9fe6f225frow1_col2 {\n",
       "            background-color:  #2676b8;\n",
       "            color:  #000000;\n",
       "        }    #T_a598c1ca_e69e_11ea_a149_88e9fe6f225frow1_col3 {\n",
       "            background-color:  #77b5d9;\n",
       "            color:  #000000;\n",
       "        }    #T_a598c1ca_e69e_11ea_a149_88e9fe6f225frow1_col4 {\n",
       "            background-color:  #81badb;\n",
       "            color:  #000000;\n",
       "        }    #T_a598c1ca_e69e_11ea_a149_88e9fe6f225frow1_col5 {\n",
       "            background-color:  #63a8d3;\n",
       "            color:  #000000;\n",
       "        }    #T_a598c1ca_e69e_11ea_a149_88e9fe6f225frow1_col6 {\n",
       "            background-color:  #abd0e6;\n",
       "            color:  #000000;\n",
       "        }    #T_a598c1ca_e69e_11ea_a149_88e9fe6f225frow1_col7 {\n",
       "            background-color:  #d0e1f2;\n",
       "            color:  #000000;\n",
       "        }    #T_a598c1ca_e69e_11ea_a149_88e9fe6f225frow1_col8 {\n",
       "            background-color:  #4191c6;\n",
       "            color:  #000000;\n",
       "        }    #T_a598c1ca_e69e_11ea_a149_88e9fe6f225frow2_col0 {\n",
       "            background-color:  #f7fbff;\n",
       "            color:  #000000;\n",
       "        }    #T_a598c1ca_e69e_11ea_a149_88e9fe6f225frow2_col1 {\n",
       "            background-color:  #125da6;\n",
       "            color:  #f1f1f1;\n",
       "        }    #T_a598c1ca_e69e_11ea_a149_88e9fe6f225frow2_col2 {\n",
       "            background-color:  #e6f0f9;\n",
       "            color:  #000000;\n",
       "        }    #T_a598c1ca_e69e_11ea_a149_88e9fe6f225frow2_col3 {\n",
       "            background-color:  #82bbdb;\n",
       "            color:  #000000;\n",
       "        }    #T_a598c1ca_e69e_11ea_a149_88e9fe6f225frow2_col4 {\n",
       "            background-color:  #08306b;\n",
       "            color:  #f1f1f1;\n",
       "        }    #T_a598c1ca_e69e_11ea_a149_88e9fe6f225frow2_col5 {\n",
       "            background-color:  #75b4d8;\n",
       "            color:  #000000;\n",
       "        }    #T_a598c1ca_e69e_11ea_a149_88e9fe6f225frow2_col6 {\n",
       "            background-color:  #08306b;\n",
       "            color:  #f1f1f1;\n",
       "        }    #T_a598c1ca_e69e_11ea_a149_88e9fe6f225frow2_col7 {\n",
       "            background-color:  #c1d9ed;\n",
       "            color:  #000000;\n",
       "        }    #T_a598c1ca_e69e_11ea_a149_88e9fe6f225frow2_col8 {\n",
       "            background-color:  #cadef0;\n",
       "            color:  #000000;\n",
       "        }    #T_a598c1ca_e69e_11ea_a149_88e9fe6f225frow3_col0 {\n",
       "            background-color:  #f7fbff;\n",
       "            color:  #000000;\n",
       "        }    #T_a598c1ca_e69e_11ea_a149_88e9fe6f225frow3_col1 {\n",
       "            background-color:  #f7fbff;\n",
       "            color:  #000000;\n",
       "        }    #T_a598c1ca_e69e_11ea_a149_88e9fe6f225frow3_col2 {\n",
       "            background-color:  #b0d2e7;\n",
       "            color:  #000000;\n",
       "        }    #T_a598c1ca_e69e_11ea_a149_88e9fe6f225frow3_col3 {\n",
       "            background-color:  #c8dcf0;\n",
       "            color:  #000000;\n",
       "        }    #T_a598c1ca_e69e_11ea_a149_88e9fe6f225frow3_col4 {\n",
       "            background-color:  #bed8ec;\n",
       "            color:  #000000;\n",
       "        }    #T_a598c1ca_e69e_11ea_a149_88e9fe6f225frow3_col5 {\n",
       "            background-color:  #f7fbff;\n",
       "            color:  #000000;\n",
       "        }    #T_a598c1ca_e69e_11ea_a149_88e9fe6f225frow3_col6 {\n",
       "            background-color:  #abd0e6;\n",
       "            color:  #000000;\n",
       "        }    #T_a598c1ca_e69e_11ea_a149_88e9fe6f225frow3_col7 {\n",
       "            background-color:  #f7fbff;\n",
       "            color:  #000000;\n",
       "        }    #T_a598c1ca_e69e_11ea_a149_88e9fe6f225frow3_col8 {\n",
       "            background-color:  #3989c1;\n",
       "            color:  #000000;\n",
       "        }    #T_a598c1ca_e69e_11ea_a149_88e9fe6f225frow4_col0 {\n",
       "            background-color:  #f7fbff;\n",
       "            color:  #000000;\n",
       "        }    #T_a598c1ca_e69e_11ea_a149_88e9fe6f225frow4_col1 {\n",
       "            background-color:  #f1f7fd;\n",
       "            color:  #000000;\n",
       "        }    #T_a598c1ca_e69e_11ea_a149_88e9fe6f225frow4_col2 {\n",
       "            background-color:  #3282be;\n",
       "            color:  #000000;\n",
       "        }    #T_a598c1ca_e69e_11ea_a149_88e9fe6f225frow4_col3 {\n",
       "            background-color:  #d0e2f2;\n",
       "            color:  #000000;\n",
       "        }    #T_a598c1ca_e69e_11ea_a149_88e9fe6f225frow4_col4 {\n",
       "            background-color:  #f7fbff;\n",
       "            color:  #000000;\n",
       "        }    #T_a598c1ca_e69e_11ea_a149_88e9fe6f225frow4_col5 {\n",
       "            background-color:  #d3e3f3;\n",
       "            color:  #000000;\n",
       "        }    #T_a598c1ca_e69e_11ea_a149_88e9fe6f225frow4_col6 {\n",
       "            background-color:  #d2e3f3;\n",
       "            color:  #000000;\n",
       "        }    #T_a598c1ca_e69e_11ea_a149_88e9fe6f225frow4_col7 {\n",
       "            background-color:  #94c4df;\n",
       "            color:  #000000;\n",
       "        }    #T_a598c1ca_e69e_11ea_a149_88e9fe6f225frow4_col8 {\n",
       "            background-color:  #3282be;\n",
       "            color:  #000000;\n",
       "        }    #T_a598c1ca_e69e_11ea_a149_88e9fe6f225frow5_col0 {\n",
       "            background-color:  #f7fbff;\n",
       "            color:  #000000;\n",
       "        }    #T_a598c1ca_e69e_11ea_a149_88e9fe6f225frow5_col1 {\n",
       "            background-color:  #2676b8;\n",
       "            color:  #000000;\n",
       "        }    #T_a598c1ca_e69e_11ea_a149_88e9fe6f225frow5_col2 {\n",
       "            background-color:  #2a7ab9;\n",
       "            color:  #000000;\n",
       "        }    #T_a598c1ca_e69e_11ea_a149_88e9fe6f225frow5_col3 {\n",
       "            background-color:  #d0e2f2;\n",
       "            color:  #000000;\n",
       "        }    #T_a598c1ca_e69e_11ea_a149_88e9fe6f225frow5_col4 {\n",
       "            background-color:  #e5eff9;\n",
       "            color:  #000000;\n",
       "        }    #T_a598c1ca_e69e_11ea_a149_88e9fe6f225frow5_col5 {\n",
       "            background-color:  #b2d2e8;\n",
       "            color:  #000000;\n",
       "        }    #T_a598c1ca_e69e_11ea_a149_88e9fe6f225frow5_col6 {\n",
       "            background-color:  #dbe9f6;\n",
       "            color:  #000000;\n",
       "        }    #T_a598c1ca_e69e_11ea_a149_88e9fe6f225frow5_col7 {\n",
       "            background-color:  #eaf2fb;\n",
       "            color:  #000000;\n",
       "        }    #T_a598c1ca_e69e_11ea_a149_88e9fe6f225frow5_col8 {\n",
       "            background-color:  #a9cfe5;\n",
       "            color:  #000000;\n",
       "        }    #T_a598c1ca_e69e_11ea_a149_88e9fe6f225frow6_col0 {\n",
       "            background-color:  #f7fbff;\n",
       "            color:  #000000;\n",
       "        }    #T_a598c1ca_e69e_11ea_a149_88e9fe6f225frow6_col1 {\n",
       "            background-color:  #c4daee;\n",
       "            color:  #000000;\n",
       "        }    #T_a598c1ca_e69e_11ea_a149_88e9fe6f225frow6_col2 {\n",
       "            background-color:  #9ac8e0;\n",
       "            color:  #000000;\n",
       "        }    #T_a598c1ca_e69e_11ea_a149_88e9fe6f225frow6_col3 {\n",
       "            background-color:  #dce9f6;\n",
       "            color:  #000000;\n",
       "        }    #T_a598c1ca_e69e_11ea_a149_88e9fe6f225frow6_col4 {\n",
       "            background-color:  #c9ddf0;\n",
       "            color:  #000000;\n",
       "        }    #T_a598c1ca_e69e_11ea_a149_88e9fe6f225frow6_col5 {\n",
       "            background-color:  #edf4fc;\n",
       "            color:  #000000;\n",
       "        }    #T_a598c1ca_e69e_11ea_a149_88e9fe6f225frow6_col6 {\n",
       "            background-color:  #f7fbff;\n",
       "            color:  #000000;\n",
       "        }    #T_a598c1ca_e69e_11ea_a149_88e9fe6f225frow6_col7 {\n",
       "            background-color:  #eaf2fb;\n",
       "            color:  #000000;\n",
       "        }    #T_a598c1ca_e69e_11ea_a149_88e9fe6f225frow6_col8 {\n",
       "            background-color:  #3989c1;\n",
       "            color:  #000000;\n",
       "        }    #T_a598c1ca_e69e_11ea_a149_88e9fe6f225frow7_col0 {\n",
       "            background-color:  #f7fbff;\n",
       "            color:  #000000;\n",
       "        }    #T_a598c1ca_e69e_11ea_a149_88e9fe6f225frow7_col1 {\n",
       "            background-color:  #68acd5;\n",
       "            color:  #000000;\n",
       "        }    #T_a598c1ca_e69e_11ea_a149_88e9fe6f225frow7_col2 {\n",
       "            background-color:  #5ca4d0;\n",
       "            color:  #000000;\n",
       "        }    #T_a598c1ca_e69e_11ea_a149_88e9fe6f225frow7_col3 {\n",
       "            background-color:  #e7f1fa;\n",
       "            color:  #000000;\n",
       "        }    #T_a598c1ca_e69e_11ea_a149_88e9fe6f225frow7_col4 {\n",
       "            background-color:  #68acd5;\n",
       "            color:  #000000;\n",
       "        }    #T_a598c1ca_e69e_11ea_a149_88e9fe6f225frow7_col5 {\n",
       "            background-color:  #c9ddf0;\n",
       "            color:  #000000;\n",
       "        }    #T_a598c1ca_e69e_11ea_a149_88e9fe6f225frow7_col6 {\n",
       "            background-color:  #dbe9f6;\n",
       "            color:  #000000;\n",
       "        }    #T_a598c1ca_e69e_11ea_a149_88e9fe6f225frow7_col7 {\n",
       "            background-color:  #eaf2fb;\n",
       "            color:  #000000;\n",
       "        }    #T_a598c1ca_e69e_11ea_a149_88e9fe6f225frow7_col8 {\n",
       "            background-color:  #e7f0fa;\n",
       "            color:  #000000;\n",
       "        }    #T_a598c1ca_e69e_11ea_a149_88e9fe6f225frow8_col0 {\n",
       "            background-color:  #f7fbff;\n",
       "            color:  #000000;\n",
       "        }    #T_a598c1ca_e69e_11ea_a149_88e9fe6f225frow8_col1 {\n",
       "            background-color:  #e1edf8;\n",
       "            color:  #000000;\n",
       "        }    #T_a598c1ca_e69e_11ea_a149_88e9fe6f225frow8_col2 {\n",
       "            background-color:  #f7fbff;\n",
       "            color:  #000000;\n",
       "        }    #T_a598c1ca_e69e_11ea_a149_88e9fe6f225frow8_col3 {\n",
       "            background-color:  #f3f8fe;\n",
       "            color:  #000000;\n",
       "        }    #T_a598c1ca_e69e_11ea_a149_88e9fe6f225frow8_col4 {\n",
       "            background-color:  #e3eef8;\n",
       "            color:  #000000;\n",
       "        }    #T_a598c1ca_e69e_11ea_a149_88e9fe6f225frow8_col5 {\n",
       "            background-color:  #ddeaf7;\n",
       "            color:  #000000;\n",
       "        }    #T_a598c1ca_e69e_11ea_a149_88e9fe6f225frow8_col6 {\n",
       "            background-color:  #4493c7;\n",
       "            color:  #000000;\n",
       "        }    #T_a598c1ca_e69e_11ea_a149_88e9fe6f225frow8_col7 {\n",
       "            background-color:  #eaf2fb;\n",
       "            color:  #000000;\n",
       "        }    #T_a598c1ca_e69e_11ea_a149_88e9fe6f225frow8_col8 {\n",
       "            background-color:  #f7fbff;\n",
       "            color:  #000000;\n",
       "        }    #T_a598c1ca_e69e_11ea_a149_88e9fe6f225frow9_col0 {\n",
       "            background-color:  #f7fbff;\n",
       "            color:  #000000;\n",
       "        }    #T_a598c1ca_e69e_11ea_a149_88e9fe6f225frow9_col1 {\n",
       "            background-color:  #eaf3fb;\n",
       "            color:  #000000;\n",
       "        }    #T_a598c1ca_e69e_11ea_a149_88e9fe6f225frow9_col2 {\n",
       "            background-color:  #68acd5;\n",
       "            color:  #000000;\n",
       "        }    #T_a598c1ca_e69e_11ea_a149_88e9fe6f225frow9_col3 {\n",
       "            background-color:  #f7fbff;\n",
       "            color:  #000000;\n",
       "        }    #T_a598c1ca_e69e_11ea_a149_88e9fe6f225frow9_col4 {\n",
       "            background-color:  #c4daee;\n",
       "            color:  #000000;\n",
       "        }    #T_a598c1ca_e69e_11ea_a149_88e9fe6f225frow9_col5 {\n",
       "            background-color:  #ddeaf7;\n",
       "            color:  #000000;\n",
       "        }    #T_a598c1ca_e69e_11ea_a149_88e9fe6f225frow9_col6 {\n",
       "            background-color:  #e4eff9;\n",
       "            color:  #000000;\n",
       "        }    #T_a598c1ca_e69e_11ea_a149_88e9fe6f225frow9_col7 {\n",
       "            background-color:  #dceaf6;\n",
       "            color:  #000000;\n",
       "        }    #T_a598c1ca_e69e_11ea_a149_88e9fe6f225frow9_col8 {\n",
       "            background-color:  #e0ecf8;\n",
       "            color:  #000000;\n",
       "        }</style><table id=\"T_a598c1ca_e69e_11ea_a149_88e9fe6f225f\" ><thead>    <tr>        <th class=\"blank level0\" ></th>        <th class=\"col_heading level0 col0\" >Min_Runs</th>        <th class=\"col_heading level0 col1\" >Max_Runs</th>        <th class=\"col_heading level0 col2\" >Avg_Runs</th>        <th class=\"col_heading level0 col3\" >Total_Runs</th>        <th class=\"col_heading level0 col4\" >ScoreRate</th>        <th class=\"col_heading level0 col5\" >Centuries</th>        <th class=\"col_heading level0 col6\" >Ducks</th>        <th class=\"col_heading level0 col7\" >Missed_Centuries</th>        <th class=\"col_heading level0 col8\" >Fifties</th>    </tr>    <tr>        <th class=\"index_name level0\" >Player</th>        <th class=\"blank\" ></th>        <th class=\"blank\" ></th>        <th class=\"blank\" ></th>        <th class=\"blank\" ></th>        <th class=\"blank\" ></th>        <th class=\"blank\" ></th>        <th class=\"blank\" ></th>        <th class=\"blank\" ></th>        <th class=\"blank\" ></th>    </tr></thead><tbody>\n",
       "                <tr>\n",
       "                        <th id=\"T_a598c1ca_e69e_11ea_a149_88e9fe6f225flevel0_row0\" class=\"row_heading level0 row0\" >Sachin R Tendulkar</th>\n",
       "                        <td id=\"T_a598c1ca_e69e_11ea_a149_88e9fe6f225frow0_col0\" class=\"data row0 col0\" >0</td>\n",
       "                        <td id=\"T_a598c1ca_e69e_11ea_a149_88e9fe6f225frow0_col1\" class=\"data row0 col1\" >200</td>\n",
       "                        <td id=\"T_a598c1ca_e69e_11ea_a149_88e9fe6f225frow0_col2\" class=\"data row0 col2\" >41</td>\n",
       "                        <td id=\"T_a598c1ca_e69e_11ea_a149_88e9fe6f225frow0_col3\" class=\"data row0 col3\" >18111</td>\n",
       "                        <td id=\"T_a598c1ca_e69e_11ea_a149_88e9fe6f225frow0_col4\" class=\"data row0 col4\" >75</td>\n",
       "                        <td id=\"T_a598c1ca_e69e_11ea_a149_88e9fe6f225frow0_col5\" class=\"data row0 col5\" >48</td>\n",
       "                        <td id=\"T_a598c1ca_e69e_11ea_a149_88e9fe6f225frow0_col6\" class=\"data row0 col6\" >20</td>\n",
       "                        <td id=\"T_a598c1ca_e69e_11ea_a149_88e9fe6f225frow0_col7\" class=\"data row0 col7\" >17</td>\n",
       "                        <td id=\"T_a598c1ca_e69e_11ea_a149_88e9fe6f225frow0_col8\" class=\"data row0 col8\" >95</td>\n",
       "            </tr>\n",
       "            <tr>\n",
       "                        <th id=\"T_a598c1ca_e69e_11ea_a149_88e9fe6f225flevel0_row1\" class=\"row_heading level0 row1\" >Ricky T Ponting</th>\n",
       "                        <td id=\"T_a598c1ca_e69e_11ea_a149_88e9fe6f225frow1_col0\" class=\"data row1 col0\" >0</td>\n",
       "                        <td id=\"T_a598c1ca_e69e_11ea_a149_88e9fe6f225frow1_col1\" class=\"data row1 col1\" >164</td>\n",
       "                        <td id=\"T_a598c1ca_e69e_11ea_a149_88e9fe6f225frow1_col2\" class=\"data row1 col2\" >38</td>\n",
       "                        <td id=\"T_a598c1ca_e69e_11ea_a149_88e9fe6f225frow1_col3\" class=\"data row1 col3\" >13686</td>\n",
       "                        <td id=\"T_a598c1ca_e69e_11ea_a149_88e9fe6f225frow1_col4\" class=\"data row1 col4\" >70</td>\n",
       "                        <td id=\"T_a598c1ca_e69e_11ea_a149_88e9fe6f225frow1_col5\" class=\"data row1 col5\" >30</td>\n",
       "                        <td id=\"T_a598c1ca_e69e_11ea_a149_88e9fe6f225frow1_col6\" class=\"data row1 col6\" >20</td>\n",
       "                        <td id=\"T_a598c1ca_e69e_11ea_a149_88e9fe6f225frow1_col7\" class=\"data row1 col7\" >5</td>\n",
       "                        <td id=\"T_a598c1ca_e69e_11ea_a149_88e9fe6f225frow1_col8\" class=\"data row1 col8\" >82</td>\n",
       "            </tr>\n",
       "            <tr>\n",
       "                        <th id=\"T_a598c1ca_e69e_11ea_a149_88e9fe6f225flevel0_row2\" class=\"row_heading level0 row2\" >Sanath T Jayasuriya</th>\n",
       "                        <td id=\"T_a598c1ca_e69e_11ea_a149_88e9fe6f225frow2_col0\" class=\"data row2 col0\" >0</td>\n",
       "                        <td id=\"T_a598c1ca_e69e_11ea_a149_88e9fe6f225frow2_col1\" class=\"data row2 col1\" >189</td>\n",
       "                        <td id=\"T_a598c1ca_e69e_11ea_a149_88e9fe6f225frow2_col2\" class=\"data row2 col2\" >31</td>\n",
       "                        <td id=\"T_a598c1ca_e69e_11ea_a149_88e9fe6f225frow2_col3\" class=\"data row2 col3\" >13430</td>\n",
       "                        <td id=\"T_a598c1ca_e69e_11ea_a149_88e9fe6f225frow2_col4\" class=\"data row2 col4\" >78</td>\n",
       "                        <td id=\"T_a598c1ca_e69e_11ea_a149_88e9fe6f225frow2_col5\" class=\"data row2 col5\" >28</td>\n",
       "                        <td id=\"T_a598c1ca_e69e_11ea_a149_88e9fe6f225frow2_col6\" class=\"data row2 col6\" >34</td>\n",
       "                        <td id=\"T_a598c1ca_e69e_11ea_a149_88e9fe6f225frow2_col7\" class=\"data row2 col7\" >6</td>\n",
       "                        <td id=\"T_a598c1ca_e69e_11ea_a149_88e9fe6f225frow2_col8\" class=\"data row2 col8\" >68</td>\n",
       "            </tr>\n",
       "            <tr>\n",
       "                        <th id=\"T_a598c1ca_e69e_11ea_a149_88e9fe6f225flevel0_row3\" class=\"row_heading level0 row3\" >Inzamam-ul-Haq</th>\n",
       "                        <td id=\"T_a598c1ca_e69e_11ea_a149_88e9fe6f225frow3_col0\" class=\"data row3 col0\" >0</td>\n",
       "                        <td id=\"T_a598c1ca_e69e_11ea_a149_88e9fe6f225frow3_col1\" class=\"data row3 col1\" >137</td>\n",
       "                        <td id=\"T_a598c1ca_e69e_11ea_a149_88e9fe6f225frow3_col2\" class=\"data row3 col2\" >34</td>\n",
       "                        <td id=\"T_a598c1ca_e69e_11ea_a149_88e9fe6f225frow3_col3\" class=\"data row3 col3\" >11739</td>\n",
       "                        <td id=\"T_a598c1ca_e69e_11ea_a149_88e9fe6f225frow3_col4\" class=\"data row3 col4\" >67</td>\n",
       "                        <td id=\"T_a598c1ca_e69e_11ea_a149_88e9fe6f225frow3_col5\" class=\"data row3 col5\" >10</td>\n",
       "                        <td id=\"T_a598c1ca_e69e_11ea_a149_88e9fe6f225frow3_col6\" class=\"data row3 col6\" >20</td>\n",
       "                        <td id=\"T_a598c1ca_e69e_11ea_a149_88e9fe6f225frow3_col7\" class=\"data row3 col7\" >2</td>\n",
       "                        <td id=\"T_a598c1ca_e69e_11ea_a149_88e9fe6f225frow3_col8\" class=\"data row3 col8\" >83</td>\n",
       "            </tr>\n",
       "            <tr>\n",
       "                        <th id=\"T_a598c1ca_e69e_11ea_a149_88e9fe6f225flevel0_row4\" class=\"row_heading level0 row4\" >Jacques H Kallis</th>\n",
       "                        <td id=\"T_a598c1ca_e69e_11ea_a149_88e9fe6f225frow4_col0\" class=\"data row4 col0\" >0</td>\n",
       "                        <td id=\"T_a598c1ca_e69e_11ea_a149_88e9fe6f225frow4_col1\" class=\"data row4 col1\" >139</td>\n",
       "                        <td id=\"T_a598c1ca_e69e_11ea_a149_88e9fe6f225frow4_col2\" class=\"data row4 col2\" >38</td>\n",
       "                        <td id=\"T_a598c1ca_e69e_11ea_a149_88e9fe6f225frow4_col3\" class=\"data row4 col3\" >11372</td>\n",
       "                        <td id=\"T_a598c1ca_e69e_11ea_a149_88e9fe6f225frow4_col4\" class=\"data row4 col4\" >64</td>\n",
       "                        <td id=\"T_a598c1ca_e69e_11ea_a149_88e9fe6f225frow4_col5\" class=\"data row4 col5\" >17</td>\n",
       "                        <td id=\"T_a598c1ca_e69e_11ea_a149_88e9fe6f225frow4_col6\" class=\"data row4 col6\" >17</td>\n",
       "                        <td id=\"T_a598c1ca_e69e_11ea_a149_88e9fe6f225frow4_col7\" class=\"data row4 col7\" >8</td>\n",
       "                        <td id=\"T_a598c1ca_e69e_11ea_a149_88e9fe6f225frow4_col8\" class=\"data row4 col8\" >84</td>\n",
       "            </tr>\n",
       "            <tr>\n",
       "                        <th id=\"T_a598c1ca_e69e_11ea_a149_88e9fe6f225flevel0_row5\" class=\"row_heading level0 row5\" >Sourav C Ganguly</th>\n",
       "                        <td id=\"T_a598c1ca_e69e_11ea_a149_88e9fe6f225frow5_col0\" class=\"data row5 col0\" >0</td>\n",
       "                        <td id=\"T_a598c1ca_e69e_11ea_a149_88e9fe6f225frow5_col1\" class=\"data row5 col1\" >183</td>\n",
       "                        <td id=\"T_a598c1ca_e69e_11ea_a149_88e9fe6f225frow5_col2\" class=\"data row5 col2\" >38</td>\n",
       "                        <td id=\"T_a598c1ca_e69e_11ea_a149_88e9fe6f225frow5_col3\" class=\"data row5 col3\" >11363</td>\n",
       "                        <td id=\"T_a598c1ca_e69e_11ea_a149_88e9fe6f225frow5_col4\" class=\"data row5 col4\" >65</td>\n",
       "                        <td id=\"T_a598c1ca_e69e_11ea_a149_88e9fe6f225frow5_col5\" class=\"data row5 col5\" >22</td>\n",
       "                        <td id=\"T_a598c1ca_e69e_11ea_a149_88e9fe6f225frow5_col6\" class=\"data row5 col6\" >16</td>\n",
       "                        <td id=\"T_a598c1ca_e69e_11ea_a149_88e9fe6f225frow5_col7\" class=\"data row5 col7\" >3</td>\n",
       "                        <td id=\"T_a598c1ca_e69e_11ea_a149_88e9fe6f225frow5_col8\" class=\"data row5 col8\" >72</td>\n",
       "            </tr>\n",
       "            <tr>\n",
       "                        <th id=\"T_a598c1ca_e69e_11ea_a149_88e9fe6f225flevel0_row6\" class=\"row_heading level0 row6\" >Rahul Dravid</th>\n",
       "                        <td id=\"T_a598c1ca_e69e_11ea_a149_88e9fe6f225frow6_col0\" class=\"data row6 col0\" >0</td>\n",
       "                        <td id=\"T_a598c1ca_e69e_11ea_a149_88e9fe6f225frow6_col1\" class=\"data row6 col1\" >153</td>\n",
       "                        <td id=\"T_a598c1ca_e69e_11ea_a149_88e9fe6f225frow6_col2\" class=\"data row6 col2\" >34</td>\n",
       "                        <td id=\"T_a598c1ca_e69e_11ea_a149_88e9fe6f225frow6_col3\" class=\"data row6 col3\" >10889</td>\n",
       "                        <td id=\"T_a598c1ca_e69e_11ea_a149_88e9fe6f225frow6_col4\" class=\"data row6 col4\" >67</td>\n",
       "                        <td id=\"T_a598c1ca_e69e_11ea_a149_88e9fe6f225frow6_col5\" class=\"data row6 col5\" >12</td>\n",
       "                        <td id=\"T_a598c1ca_e69e_11ea_a149_88e9fe6f225frow6_col6\" class=\"data row6 col6\" >13</td>\n",
       "                        <td id=\"T_a598c1ca_e69e_11ea_a149_88e9fe6f225frow6_col7\" class=\"data row6 col7\" >3</td>\n",
       "                        <td id=\"T_a598c1ca_e69e_11ea_a149_88e9fe6f225frow6_col8\" class=\"data row6 col8\" >83</td>\n",
       "            </tr>\n",
       "            <tr>\n",
       "                        <th id=\"T_a598c1ca_e69e_11ea_a149_88e9fe6f225flevel0_row7\" class=\"row_heading level0 row7\" >Brian C Lara</th>\n",
       "                        <td id=\"T_a598c1ca_e69e_11ea_a149_88e9fe6f225frow7_col0\" class=\"data row7 col0\" >0</td>\n",
       "                        <td id=\"T_a598c1ca_e69e_11ea_a149_88e9fe6f225frow7_col1\" class=\"data row7 col1\" >169</td>\n",
       "                        <td id=\"T_a598c1ca_e69e_11ea_a149_88e9fe6f225frow7_col2\" class=\"data row7 col2\" >36</td>\n",
       "                        <td id=\"T_a598c1ca_e69e_11ea_a149_88e9fe6f225frow7_col3\" class=\"data row7 col3\" >10405</td>\n",
       "                        <td id=\"T_a598c1ca_e69e_11ea_a149_88e9fe6f225frow7_col4\" class=\"data row7 col4\" >71</td>\n",
       "                        <td id=\"T_a598c1ca_e69e_11ea_a149_88e9fe6f225frow7_col5\" class=\"data row7 col5\" >19</td>\n",
       "                        <td id=\"T_a598c1ca_e69e_11ea_a149_88e9fe6f225frow7_col6\" class=\"data row7 col6\" >16</td>\n",
       "                        <td id=\"T_a598c1ca_e69e_11ea_a149_88e9fe6f225frow7_col7\" class=\"data row7 col7\" >3</td>\n",
       "                        <td id=\"T_a598c1ca_e69e_11ea_a149_88e9fe6f225frow7_col8\" class=\"data row7 col8\" >63</td>\n",
       "            </tr>\n",
       "            <tr>\n",
       "                        <th id=\"T_a598c1ca_e69e_11ea_a149_88e9fe6f225flevel0_row8\" class=\"row_heading level0 row8\" >D P Mahela Jayawardene</th>\n",
       "                        <td id=\"T_a598c1ca_e69e_11ea_a149_88e9fe6f225frow8_col0\" class=\"data row8 col0\" >0</td>\n",
       "                        <td id=\"T_a598c1ca_e69e_11ea_a149_88e9fe6f225frow8_col1\" class=\"data row8 col1\" >144</td>\n",
       "                        <td id=\"T_a598c1ca_e69e_11ea_a149_88e9fe6f225frow8_col2\" class=\"data row8 col2\" >30</td>\n",
       "                        <td id=\"T_a598c1ca_e69e_11ea_a149_88e9fe6f225frow8_col3\" class=\"data row8 col3\" >9913</td>\n",
       "                        <td id=\"T_a598c1ca_e69e_11ea_a149_88e9fe6f225frow8_col4\" class=\"data row8 col4\" >65</td>\n",
       "                        <td id=\"T_a598c1ca_e69e_11ea_a149_88e9fe6f225frow8_col5\" class=\"data row8 col5\" >15</td>\n",
       "                        <td id=\"T_a598c1ca_e69e_11ea_a149_88e9fe6f225frow8_col6\" class=\"data row8 col6\" >26</td>\n",
       "                        <td id=\"T_a598c1ca_e69e_11ea_a149_88e9fe6f225frow8_col7\" class=\"data row8 col7\" >3</td>\n",
       "                        <td id=\"T_a598c1ca_e69e_11ea_a149_88e9fe6f225frow8_col8\" class=\"data row8 col8\" >60</td>\n",
       "            </tr>\n",
       "            <tr>\n",
       "                        <th id=\"T_a598c1ca_e69e_11ea_a149_88e9fe6f225flevel0_row9\" class=\"row_heading level0 row9\" >Mohammad Yousuf</th>\n",
       "                        <td id=\"T_a598c1ca_e69e_11ea_a149_88e9fe6f225frow9_col0\" class=\"data row9 col0\" >0</td>\n",
       "                        <td id=\"T_a598c1ca_e69e_11ea_a149_88e9fe6f225frow9_col1\" class=\"data row9 col1\" >141</td>\n",
       "                        <td id=\"T_a598c1ca_e69e_11ea_a149_88e9fe6f225frow9_col2\" class=\"data row9 col2\" >36</td>\n",
       "                        <td id=\"T_a598c1ca_e69e_11ea_a149_88e9fe6f225frow9_col3\" class=\"data row9 col3\" >9720</td>\n",
       "                        <td id=\"T_a598c1ca_e69e_11ea_a149_88e9fe6f225frow9_col4\" class=\"data row9 col4\" >67</td>\n",
       "                        <td id=\"T_a598c1ca_e69e_11ea_a149_88e9fe6f225frow9_col5\" class=\"data row9 col5\" >15</td>\n",
       "                        <td id=\"T_a598c1ca_e69e_11ea_a149_88e9fe6f225frow9_col6\" class=\"data row9 col6\" >15</td>\n",
       "                        <td id=\"T_a598c1ca_e69e_11ea_a149_88e9fe6f225frow9_col7\" class=\"data row9 col7\" >4</td>\n",
       "                        <td id=\"T_a598c1ca_e69e_11ea_a149_88e9fe6f225frow9_col8\" class=\"data row9 col8\" >64</td>\n",
       "            </tr>\n",
       "    </tbody></table>"
      ],
      "text/plain": [
       "<pandas.io.formats.style.Styler at 0x127021d90>"
      ]
     },
     "execution_count": 108,
     "metadata": {},
     "output_type": "execute_result"
    }
   ],
   "source": [
    "players_summary = odi.groupby(['Player']).agg(\n",
    "    Min_Runs=('Runs', min),\n",
    "    Max_Runs=('Runs', max),\n",
    "    Avg_Runs=('Runs', 'mean'),\n",
    "    Total_Runs=('Runs', sum),\n",
    "    ScoreRate= ('ScoreRate', 'mean'),\n",
    "    Centuries=('is_century', sum),\n",
    "    Ducks=('is_duck', sum),\n",
    "    Missed_Centuries=('is_missed_century',sum),\n",
    "    Fifties=('is_fifty', sum),\n",
    ")\n",
    "top_players = players_summary.sort_values(by='Total_Runs',\n",
    "                            ascending=False).head(10)\n",
    "\n",
    "top_players.style.background_gradient(cmap='Blues').format(\"{:.0f}\")"
   ]
  },
  {
   "cell_type": "code",
   "execution_count": 70,
   "metadata": {},
   "outputs": [],
   "source": [
    "#pd.__version__"
   ]
  },
  {
   "cell_type": "markdown",
   "metadata": {},
   "source": [
    "### Filtering"
   ]
  },
  {
   "cell_type": "code",
   "execution_count": null,
   "metadata": {},
   "outputs": [],
   "source": [
    "### single column single value\n",
    "### Single column mulitple value\n",
    "### Multiple columns filtering"
   ]
  },
  {
   "cell_type": "code",
   "execution_count": 101,
   "metadata": {},
   "outputs": [
    {
     "data": {
      "text/plain": [
       "(55926, 12)"
      ]
     },
     "execution_count": 101,
     "metadata": {},
     "output_type": "execute_result"
    }
   ],
   "source": [
    "odi.shape"
   ]
  },
  {
   "cell_type": "code",
   "execution_count": 105,
   "metadata": {},
   "outputs": [
    {
     "data": {
      "text/plain": [
       "(442, 12)"
      ]
     },
     "execution_count": 105,
     "metadata": {},
     "output_type": "execute_result"
    }
   ],
   "source": [
    "# Single column single value\n",
    "player = 'Sachin R Tendulkar'\n",
    "sachin = odi[odi['Player'] == player]\n",
    "sachin.shape"
   ]
  },
  {
   "cell_type": "code",
   "execution_count": 106,
   "metadata": {},
   "outputs": [
    {
     "data": {
      "text/plain": [
       "(760, 12)"
      ]
     },
     "execution_count": 106,
     "metadata": {},
     "output_type": "execute_result"
    }
   ],
   "source": [
    "# single column multiple values\n",
    "players = ['Sachin R Tendulkar', 'Rahul Dravid']\n",
    "odi_subset = odi[odi['Player'].isin(players)]\n",
    "odi_subset.shape"
   ]
  },
  {
   "cell_type": "code",
   "execution_count": 109,
   "metadata": {},
   "outputs": [
    {
     "data": {
      "text/plain": [
       "(48, 12)"
      ]
     },
     "execution_count": 109,
     "metadata": {},
     "output_type": "execute_result"
    }
   ],
   "source": [
    "# multiple columns filtering\n",
    "player = 'Sachin R Tendulkar'\n",
    "\n",
    "sachin_centuries = odi[(odi['Player'] == player) &\n",
    "                       (odi['Runs'] > 99)]\n",
    "sachin_centuries.shape"
   ]
  },
  {
   "cell_type": "code",
   "execution_count": null,
   "metadata": {},
   "outputs": [],
   "source": [
    "## Filter for\n",
    "## player -> Sachin R Tendulkar\n",
    "## Versus -> Australia\n",
    "## Ground -> Sharjah CA Stadium\n",
    "## Runs -> less than 10"
   ]
  },
  {
   "cell_type": "code",
   "execution_count": 111,
   "metadata": {},
   "outputs": [
    {
     "data": {
      "text/plain": [
       "(1, 12)"
      ]
     },
     "execution_count": 111,
     "metadata": {},
     "output_type": "execute_result"
    }
   ],
   "source": [
    "odi[(odi['Player'] == 'Sachin R Tendulkar') &\n",
    "    (odi['Ground'] == 'Sharjah CA Stadium') &\n",
    "    (odi['Runs'] < 10) &\n",
    "    (odi['Versus'] == 'Australia')].shape"
   ]
  },
  {
   "cell_type": "markdown",
   "metadata": {},
   "source": [
    "## String Operations"
   ]
  },
  {
   "cell_type": "code",
   "execution_count": 113,
   "metadata": {},
   "outputs": [
    {
     "data": {
      "text/plain": [
       "(3220, 14)"
      ]
     },
     "execution_count": 113,
     "metadata": {},
     "output_type": "execute_result"
    }
   ],
   "source": [
    "url = 'https://github.com/skathirmani/datasets/raw/master/narendramodi_tweets.csv'\n",
    "tweets = pd.read_csv(url)\n",
    "tweets.shape"
   ]
  },
  {
   "cell_type": "code",
   "execution_count": 115,
   "metadata": {},
   "outputs": [],
   "source": [
    "# twitter developer account\n",
    "# tweepy - REST API, Streaming API"
   ]
  },
  {
   "cell_type": "code",
   "execution_count": 119,
   "metadata": {},
   "outputs": [],
   "source": [
    "tweets['created_at'] = pd.to_datetime(tweets['created_at'],\n",
    "                                     format=\"%Y-%m-%d %H:%M:%S\",\n",
    "                                     )"
   ]
  },
  {
   "cell_type": "code",
   "execution_count": 121,
   "metadata": {},
   "outputs": [
    {
     "data": {
      "text/plain": [
       "(Timestamp('2016-03-09 12:22:10'), Timestamp('2017-01-31 11:00:07'))"
      ]
     },
     "execution_count": 121,
     "metadata": {},
     "output_type": "execute_result"
    }
   ],
   "source": [
    "tweets['created_at'].min(), tweets['created_at'].max()"
   ]
  },
  {
   "cell_type": "code",
   "execution_count": 152,
   "metadata": {},
   "outputs": [
    {
     "data": {
      "text/plain": [
       "<matplotlib.axes._subplots.AxesSubplot at 0x128132710>"
      ]
     },
     "execution_count": 152,
     "metadata": {},
     "output_type": "execute_result"
    },
    {
     "data": {
      "image/png": "[encoded data removed]",
      "text/plain": [
       "<Figure size 432x288 with 1 Axes>"
      ]
     },
     "metadata": {
      "needs_background": "light"
     },
     "output_type": "display_data"
    }
   ],
   "source": [
    "# Distribution of number of characters\n",
    "tweets['text'].str.len().plot.box()"
   ]
  },
  {
   "cell_type": "code",
   "execution_count": 155,
   "metadata": {},
   "outputs": [
    {
     "data": {
      "text/plain": [
       "<matplotlib.axes._subplots.AxesSubplot at 0x129e3cd90>"
      ]
     },
     "execution_count": 155,
     "metadata": {},
     "output_type": "execute_result"
    },
    {
     "data": {
      "image/png": "[encoded data removed]",
      "text/plain": [
       "<Figure size 432x288 with 1 Axes>"
      ]
     },
     "metadata": {
      "needs_background": "light"
     },
     "output_type": "display_data"
    }
   ],
   "source": [
    "# Distribution of no. of words per tweet\n",
    "#tweets['text'].str.split('\\s').apply(lambda v: len(v))\n",
    "tweets['text'].str.split('\\s').str.len().plot.box()"
   ]
  },
  {
   "cell_type": "code",
   "execution_count": 166,
   "metadata": {},
   "outputs": [],
   "source": [
    "rows_words = tweets['text'].str.lower().str.split('\\s').values.tolist()\n",
    "## Word frequency\n",
    "## Top 10 words based on their frequency\n",
    "## For loop, append/extend\n",
    "## Frequency count"
   ]
  },
  {
   "cell_type": "code",
   "execution_count": null,
   "metadata": {},
   "outputs": [],
   "source": [
    "## Top 10 hashtags along with their frequency"
   ]
  },
  {
   "cell_type": "code",
   "execution_count": null,
   "metadata": {},
   "outputs": [],
   "source": [
    "words_all = []"
   ]
  },
  {
   "cell_type": "code",
   "execution_count": 161,
   "metadata": {},
   "outputs": [
    {
     "data": {
      "text/plain": [
       "[10, 30, 50, 60]"
      ]
     },
     "execution_count": 161,
     "metadata": {},
     "output_type": "execute_result"
    }
   ],
   "source": [
    "pd.Series([10, 30, 50, 60]).values.tolist()"
   ]
  }
 ],
 "metadata": {
  "kernelspec": {
   "display_name": "Python 3",
   "language": "python",
   "name": "python3"
  },
  "language_info": {
   "codemirror_mode": {
    "name": "ipython",
    "version": 3
   },
   "file_extension": ".py",
   "mimetype": "text/x-python",
   "name": "python",
   "nbconvert_exporter": "python",
   "pygments_lexer": "ipython3",
   "version": "3.7.4"
  }
 },
 "nbformat": 4,
 "nbformat_minor": 2
}
