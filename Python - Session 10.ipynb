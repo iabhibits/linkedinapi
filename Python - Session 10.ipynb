{
 "cells": [
  {
   "cell_type": "code",
   "execution_count": 1,
   "metadata": {},
   "outputs": [],
   "source": [
    "import pandas as pd\n",
    "import numpy as np\n",
    "import scipy.stats as st\n",
    "import matplotlib.pyplot as plt\n",
    "import seaborn as sns\n",
    "import nltk\n",
    "from nltk.sentiment import SentimentIntensityAnalyzer\n",
    "import gensim\n",
    "from sklearn.feature_extraction.text import CountVectorizer, TfidfVectorizer\n",
    "from sklearn.model_selection import train_test_split\n",
    "from gensim.parsing.porter import PorterStemmer\n",
    "%matplotlib inline"
   ]
  },
  {
   "cell_type": "markdown",
   "metadata": {},
   "source": [
    "## Agenda\n",
    "- Missing value treatment\n",
    "- PCA\n",
    "- Pandas functions\n",
    "    - apply method can be used along with more than two columns\n",
    "    - Append data row-wise \n",
    "- Python\n",
    "    - Class\n",
    "    - Execute python files from command prompt\n",
    "- Exercises "
   ]
  },
  {
   "cell_type": "markdown",
   "metadata": {},
   "source": [
    "## Missing value treatment"
   ]
  },
  {
   "cell_type": "code",
   "execution_count": 4,
   "metadata": {},
   "outputs": [
    {
     "data": {
      "text/html": [
       "<div>\n",
       "<style scoped>\n",
       "    .dataframe tbody tr th:only-of-type {\n",
       "        vertical-align: middle;\n",
       "    }\n",
       "\n",
       "    .dataframe tbody tr th {\n",
       "        vertical-align: top;\n",
       "    }\n",
       "\n",
       "    .dataframe thead th {\n",
       "        text-align: right;\n",
       "    }\n",
       "</style>\n",
       "<table border=\"1\" class=\"dataframe\">\n",
       "  <thead>\n",
       "    <tr style=\"text-align: right;\">\n",
       "      <th></th>\n",
       "      <th>A</th>\n",
       "      <th>B</th>\n",
       "      <th>C</th>\n",
       "    </tr>\n",
       "  </thead>\n",
       "  <tbody>\n",
       "    <tr>\n",
       "      <td>0</td>\n",
       "      <td>7</td>\n",
       "      <td>10.0</td>\n",
       "      <td>a</td>\n",
       "    </tr>\n",
       "    <tr>\n",
       "      <td>1</td>\n",
       "      <td>9</td>\n",
       "      <td>20.0</td>\n",
       "      <td>b</td>\n",
       "    </tr>\n",
       "    <tr>\n",
       "      <td>2</td>\n",
       "      <td>1</td>\n",
       "      <td>30.0</td>\n",
       "      <td>c</td>\n",
       "    </tr>\n",
       "    <tr>\n",
       "      <td>3</td>\n",
       "      <td>7</td>\n",
       "      <td>NaN</td>\n",
       "      <td>a</td>\n",
       "    </tr>\n",
       "    <tr>\n",
       "      <td>4</td>\n",
       "      <td>5</td>\n",
       "      <td>50.0</td>\n",
       "      <td>None</td>\n",
       "    </tr>\n",
       "  </tbody>\n",
       "</table>\n",
       "</div>"
      ],
      "text/plain": [
       "   A     B     C\n",
       "0  7  10.0     a\n",
       "1  9  20.0     b\n",
       "2  1  30.0     c\n",
       "3  7   NaN     a\n",
       "4  5  50.0  None"
      ]
     },
     "execution_count": 4,
     "metadata": {},
     "output_type": "execute_result"
    }
   ],
   "source": [
    "df = pd.DataFrame({\n",
    "    'A': np.random.randint(1,10,5),\n",
    "    'B': [10, 20, 30, None, 50, ],\n",
    "    'C': ['a', 'b', 'c', 'a', None]\n",
    "})\n",
    "df"
   ]
  },
  {
   "cell_type": "code",
   "execution_count": 5,
   "metadata": {},
   "outputs": [
    {
     "data": {
      "text/html": [
       "<div>\n",
       "<style scoped>\n",
       "    .dataframe tbody tr th:only-of-type {\n",
       "        vertical-align: middle;\n",
       "    }\n",
       "\n",
       "    .dataframe tbody tr th {\n",
       "        vertical-align: top;\n",
       "    }\n",
       "\n",
       "    .dataframe thead th {\n",
       "        text-align: right;\n",
       "    }\n",
       "</style>\n",
       "<table border=\"1\" class=\"dataframe\">\n",
       "  <thead>\n",
       "    <tr style=\"text-align: right;\">\n",
       "      <th></th>\n",
       "      <th>A</th>\n",
       "      <th>B</th>\n",
       "      <th>C</th>\n",
       "    </tr>\n",
       "  </thead>\n",
       "  <tbody>\n",
       "    <tr>\n",
       "      <td>0</td>\n",
       "      <td>7</td>\n",
       "      <td>10.0</td>\n",
       "      <td>a</td>\n",
       "    </tr>\n",
       "    <tr>\n",
       "      <td>1</td>\n",
       "      <td>9</td>\n",
       "      <td>20.0</td>\n",
       "      <td>b</td>\n",
       "    </tr>\n",
       "    <tr>\n",
       "      <td>2</td>\n",
       "      <td>1</td>\n",
       "      <td>30.0</td>\n",
       "      <td>c</td>\n",
       "    </tr>\n",
       "  </tbody>\n",
       "</table>\n",
       "</div>"
      ],
      "text/plain": [
       "   A     B  C\n",
       "0  7  10.0  a\n",
       "1  9  20.0  b\n",
       "2  1  30.0  c"
      ]
     },
     "execution_count": 5,
     "metadata": {},
     "output_type": "execute_result"
    }
   ],
   "source": [
    "df.dropna()"
   ]
  },
  {
   "cell_type": "markdown",
   "metadata": {},
   "source": [
    "#### Missing value imputation\n",
    "- Simple imputing\n",
    "    - Numerical columns\n",
    "        - mean, median, forward & backward filling\n",
    "    - Non-numerical columns\n",
    "        - mode\n",
    "- Grouping filling(take help from other columns)\n",
    "- Machine learning models\n",
    "    - KNN\n",
    "    - Hybrid"
   ]
  },
  {
   "cell_type": "code",
   "execution_count": 11,
   "metadata": {},
   "outputs": [
    {
     "data": {
      "text/plain": [
       "A    0\n",
       "B    1\n",
       "C    1\n",
       "dtype: int64"
      ]
     },
     "execution_count": 11,
     "metadata": {},
     "output_type": "execute_result"
    }
   ],
   "source": [
    "#### Columnwise no. of missing values\n",
    "df.isna().sum()"
   ]
  },
  {
   "cell_type": "code",
   "execution_count": 15,
   "metadata": {},
   "outputs": [
    {
     "data": {
      "text/plain": [
       "A     0.0\n",
       "B    20.0\n",
       "C    20.0\n",
       "dtype: float64"
      ]
     },
     "execution_count": 15,
     "metadata": {},
     "output_type": "execute_result"
    }
   ],
   "source": [
    "# column wise missing values\n",
    "df.isna().sum() / df.shape[0] * 100"
   ]
  },
  {
   "cell_type": "code",
   "execution_count": 14,
   "metadata": {},
   "outputs": [
    {
     "data": {
      "text/plain": [
       "13.333333333333334"
      ]
     },
     "execution_count": 14,
     "metadata": {},
     "output_type": "execute_result"
    }
   ],
   "source": [
    "### % of missing values in your dataframe\n",
    "df.isna().sum().sum() / (df.shape[0]*df.shape[1]) * 100"
   ]
  },
  {
   "cell_type": "code",
   "execution_count": 17,
   "metadata": {},
   "outputs": [],
   "source": [
    "#!pip install missingno"
   ]
  },
  {
   "cell_type": "code",
   "execution_count": 18,
   "metadata": {},
   "outputs": [
    {
     "data": {
      "text/plain": [
       "<matplotlib.axes._subplots.AxesSubplot at 0x1270a4350>"
      ]
     },
     "execution_count": 18,
     "metadata": {},
     "output_type": "execute_result"
    },
    {
     "data": {
      "image/png": "[encoded data removed]",
      "text/plain": [
       "<Figure size 1800x720 with 2 Axes>"
      ]
     },
     "metadata": {
      "needs_background": "light"
     },
     "output_type": "display_data"
    }
   ],
   "source": [
    "import missingno\n",
    "missingno.matrix(df)"
   ]
  },
  {
   "cell_type": "code",
   "execution_count": 22,
   "metadata": {},
   "outputs": [],
   "source": [
    "url = 'https://github.com/skathirmani/datasets/raw/master/parliament.csv'\n",
    "parliament = pd.read_csv(url)"
   ]
  },
  {
   "cell_type": "code",
   "execution_count": 24,
   "metadata": {},
   "outputs": [
    {
     "data": {
      "text/plain": [
       "YEAR         0.000000\n",
       "STATE        0.000000\n",
       "PC           0.000000\n",
       "NAME         0.000000\n",
       "SEX          4.628320\n",
       "PARTY        0.000000\n",
       "AGE         81.976511\n",
       "CATEGORY    81.976511\n",
       "VOTES        0.000000\n",
       "ELECTORS     7.253437\n",
       "Position     0.000000\n",
       "dtype: float64"
      ]
     },
     "execution_count": 24,
     "metadata": {},
     "output_type": "execute_result"
    }
   ],
   "source": [
    "parliament.isna().sum() / parliament.shape[0] * 100"
   ]
  },
  {
   "cell_type": "code",
   "execution_count": 25,
   "metadata": {},
   "outputs": [
    {
     "data": {
      "text/plain": [
       "<matplotlib.axes._subplots.AxesSubplot at 0x1270f9c10>"
      ]
     },
     "execution_count": 25,
     "metadata": {},
     "output_type": "execute_result"
    },
    {
     "data": {
      "image/png": "[encoded data removed]",
      "text/plain": [
       "<Figure size 1800x720 with 2 Axes>"
      ]
     },
     "metadata": {
      "needs_background": "light"
     },
     "output_type": "display_data"
    }
   ],
   "source": [
    "missingno.matrix(parliament)"
   ]
  },
  {
   "cell_type": "code",
   "execution_count": 26,
   "metadata": {},
   "outputs": [
    {
     "data": {
      "text/html": [
       "<div>\n",
       "<style scoped>\n",
       "    .dataframe tbody tr th:only-of-type {\n",
       "        vertical-align: middle;\n",
       "    }\n",
       "\n",
       "    .dataframe tbody tr th {\n",
       "        vertical-align: top;\n",
       "    }\n",
       "\n",
       "    .dataframe thead th {\n",
       "        text-align: right;\n",
       "    }\n",
       "</style>\n",
       "<table border=\"1\" class=\"dataframe\">\n",
       "  <thead>\n",
       "    <tr style=\"text-align: right;\">\n",
       "      <th></th>\n",
       "      <th>A</th>\n",
       "      <th>B</th>\n",
       "      <th>C</th>\n",
       "    </tr>\n",
       "  </thead>\n",
       "  <tbody>\n",
       "    <tr>\n",
       "      <td>0</td>\n",
       "      <td>7</td>\n",
       "      <td>10.0</td>\n",
       "      <td>a</td>\n",
       "    </tr>\n",
       "    <tr>\n",
       "      <td>1</td>\n",
       "      <td>9</td>\n",
       "      <td>20.0</td>\n",
       "      <td>b</td>\n",
       "    </tr>\n",
       "    <tr>\n",
       "      <td>2</td>\n",
       "      <td>1</td>\n",
       "      <td>30.0</td>\n",
       "      <td>c</td>\n",
       "    </tr>\n",
       "    <tr>\n",
       "      <td>3</td>\n",
       "      <td>7</td>\n",
       "      <td>NaN</td>\n",
       "      <td>a</td>\n",
       "    </tr>\n",
       "    <tr>\n",
       "      <td>4</td>\n",
       "      <td>5</td>\n",
       "      <td>50.0</td>\n",
       "      <td>None</td>\n",
       "    </tr>\n",
       "  </tbody>\n",
       "</table>\n",
       "</div>"
      ],
      "text/plain": [
       "   A     B     C\n",
       "0  7  10.0     a\n",
       "1  9  20.0     b\n",
       "2  1  30.0     c\n",
       "3  7   NaN     a\n",
       "4  5  50.0  None"
      ]
     },
     "execution_count": 26,
     "metadata": {},
     "output_type": "execute_result"
    }
   ],
   "source": [
    "### Simple imputation\n",
    "df"
   ]
  },
  {
   "cell_type": "code",
   "execution_count": 35,
   "metadata": {},
   "outputs": [
    {
     "data": {
      "text/html": [
       "<div>\n",
       "<style scoped>\n",
       "    .dataframe tbody tr th:only-of-type {\n",
       "        vertical-align: middle;\n",
       "    }\n",
       "\n",
       "    .dataframe tbody tr th {\n",
       "        vertical-align: top;\n",
       "    }\n",
       "\n",
       "    .dataframe thead th {\n",
       "        text-align: right;\n",
       "    }\n",
       "</style>\n",
       "<table border=\"1\" class=\"dataframe\">\n",
       "  <thead>\n",
       "    <tr style=\"text-align: right;\">\n",
       "      <th></th>\n",
       "      <th>A</th>\n",
       "      <th>B</th>\n",
       "      <th>C</th>\n",
       "      <th>B_1</th>\n",
       "      <th>C_1</th>\n",
       "    </tr>\n",
       "  </thead>\n",
       "  <tbody>\n",
       "    <tr>\n",
       "      <td>0</td>\n",
       "      <td>7</td>\n",
       "      <td>10.0</td>\n",
       "      <td>a</td>\n",
       "      <td>10.0</td>\n",
       "      <td>a</td>\n",
       "    </tr>\n",
       "    <tr>\n",
       "      <td>1</td>\n",
       "      <td>9</td>\n",
       "      <td>20.0</td>\n",
       "      <td>b</td>\n",
       "      <td>20.0</td>\n",
       "      <td>b</td>\n",
       "    </tr>\n",
       "    <tr>\n",
       "      <td>2</td>\n",
       "      <td>1</td>\n",
       "      <td>30.0</td>\n",
       "      <td>c</td>\n",
       "      <td>30.0</td>\n",
       "      <td>c</td>\n",
       "    </tr>\n",
       "    <tr>\n",
       "      <td>3</td>\n",
       "      <td>7</td>\n",
       "      <td>NaN</td>\n",
       "      <td>a</td>\n",
       "      <td>27.5</td>\n",
       "      <td>a</td>\n",
       "    </tr>\n",
       "    <tr>\n",
       "      <td>4</td>\n",
       "      <td>5</td>\n",
       "      <td>50.0</td>\n",
       "      <td>None</td>\n",
       "      <td>50.0</td>\n",
       "      <td>a</td>\n",
       "    </tr>\n",
       "  </tbody>\n",
       "</table>\n",
       "</div>"
      ],
      "text/plain": [
       "   A     B     C   B_1 C_1\n",
       "0  7  10.0     a  10.0   a\n",
       "1  9  20.0     b  20.0   b\n",
       "2  1  30.0     c  30.0   c\n",
       "3  7   NaN     a  27.5   a\n",
       "4  5  50.0  None  50.0   a"
      ]
     },
     "execution_count": 35,
     "metadata": {},
     "output_type": "execute_result"
    }
   ],
   "source": [
    "df['B_1'] = df['B'].fillna(df['B'].mean())\n",
    "df['C_1'] = df['C'].fillna(df['C'].mode().values[0])\n",
    "df"
   ]
  },
  {
   "cell_type": "code",
   "execution_count": 37,
   "metadata": {},
   "outputs": [
    {
     "data": {
      "text/html": [
       "<div>\n",
       "<style scoped>\n",
       "    .dataframe tbody tr th:only-of-type {\n",
       "        vertical-align: middle;\n",
       "    }\n",
       "\n",
       "    .dataframe tbody tr th {\n",
       "        vertical-align: top;\n",
       "    }\n",
       "\n",
       "    .dataframe thead th {\n",
       "        text-align: right;\n",
       "    }\n",
       "</style>\n",
       "<table border=\"1\" class=\"dataframe\">\n",
       "  <thead>\n",
       "    <tr style=\"text-align: right;\">\n",
       "      <th></th>\n",
       "      <th>A</th>\n",
       "      <th>B</th>\n",
       "      <th>C</th>\n",
       "      <th>B_1</th>\n",
       "      <th>C_1</th>\n",
       "      <th>B_2</th>\n",
       "      <th>B_ffill</th>\n",
       "      <th>B_bfill</th>\n",
       "    </tr>\n",
       "  </thead>\n",
       "  <tbody>\n",
       "    <tr>\n",
       "      <td>0</td>\n",
       "      <td>7</td>\n",
       "      <td>10.0</td>\n",
       "      <td>a</td>\n",
       "      <td>10.0</td>\n",
       "      <td>a</td>\n",
       "      <td>10.0</td>\n",
       "      <td>10.0</td>\n",
       "      <td>10.0</td>\n",
       "    </tr>\n",
       "    <tr>\n",
       "      <td>1</td>\n",
       "      <td>9</td>\n",
       "      <td>20.0</td>\n",
       "      <td>b</td>\n",
       "      <td>20.0</td>\n",
       "      <td>b</td>\n",
       "      <td>20.0</td>\n",
       "      <td>20.0</td>\n",
       "      <td>20.0</td>\n",
       "    </tr>\n",
       "    <tr>\n",
       "      <td>2</td>\n",
       "      <td>1</td>\n",
       "      <td>30.0</td>\n",
       "      <td>c</td>\n",
       "      <td>30.0</td>\n",
       "      <td>c</td>\n",
       "      <td>30.0</td>\n",
       "      <td>30.0</td>\n",
       "      <td>30.0</td>\n",
       "    </tr>\n",
       "    <tr>\n",
       "      <td>3</td>\n",
       "      <td>7</td>\n",
       "      <td>NaN</td>\n",
       "      <td>a</td>\n",
       "      <td>27.5</td>\n",
       "      <td>a</td>\n",
       "      <td>30.0</td>\n",
       "      <td>30.0</td>\n",
       "      <td>50.0</td>\n",
       "    </tr>\n",
       "    <tr>\n",
       "      <td>4</td>\n",
       "      <td>5</td>\n",
       "      <td>50.0</td>\n",
       "      <td>None</td>\n",
       "      <td>50.0</td>\n",
       "      <td>a</td>\n",
       "      <td>50.0</td>\n",
       "      <td>50.0</td>\n",
       "      <td>50.0</td>\n",
       "    </tr>\n",
       "  </tbody>\n",
       "</table>\n",
       "</div>"
      ],
      "text/plain": [
       "   A     B     C   B_1 C_1   B_2  B_ffill  B_bfill\n",
       "0  7  10.0     a  10.0   a  10.0     10.0     10.0\n",
       "1  9  20.0     b  20.0   b  20.0     20.0     20.0\n",
       "2  1  30.0     c  30.0   c  30.0     30.0     30.0\n",
       "3  7   NaN     a  27.5   a  30.0     30.0     50.0\n",
       "4  5  50.0  None  50.0   a  50.0     50.0     50.0"
      ]
     },
     "execution_count": 37,
     "metadata": {},
     "output_type": "execute_result"
    }
   ],
   "source": [
    "df['B_ffill'] = df['B'].fillna(method='ffill')\n",
    "df['B_bfill'] = df['B'].fillna(method='bfill')\n",
    "df"
   ]
  },
  {
   "cell_type": "code",
   "execution_count": 39,
   "metadata": {},
   "outputs": [
    {
     "data": {
      "text/html": [
       "<div>\n",
       "<style scoped>\n",
       "    .dataframe tbody tr th:only-of-type {\n",
       "        vertical-align: middle;\n",
       "    }\n",
       "\n",
       "    .dataframe tbody tr th {\n",
       "        vertical-align: top;\n",
       "    }\n",
       "\n",
       "    .dataframe thead th {\n",
       "        text-align: right;\n",
       "    }\n",
       "</style>\n",
       "<table border=\"1\" class=\"dataframe\">\n",
       "  <thead>\n",
       "    <tr style=\"text-align: right;\">\n",
       "      <th></th>\n",
       "      <th>A</th>\n",
       "      <th>B</th>\n",
       "      <th>C</th>\n",
       "      <th>B_1</th>\n",
       "      <th>C_1</th>\n",
       "      <th>B_2</th>\n",
       "      <th>B_ffill</th>\n",
       "      <th>B_bfill</th>\n",
       "      <th>B_interpolate</th>\n",
       "    </tr>\n",
       "  </thead>\n",
       "  <tbody>\n",
       "    <tr>\n",
       "      <td>0</td>\n",
       "      <td>7</td>\n",
       "      <td>10.0</td>\n",
       "      <td>a</td>\n",
       "      <td>10.0</td>\n",
       "      <td>a</td>\n",
       "      <td>10.0</td>\n",
       "      <td>10.0</td>\n",
       "      <td>10.0</td>\n",
       "      <td>10.0</td>\n",
       "    </tr>\n",
       "    <tr>\n",
       "      <td>1</td>\n",
       "      <td>9</td>\n",
       "      <td>20.0</td>\n",
       "      <td>b</td>\n",
       "      <td>20.0</td>\n",
       "      <td>b</td>\n",
       "      <td>20.0</td>\n",
       "      <td>20.0</td>\n",
       "      <td>20.0</td>\n",
       "      <td>20.0</td>\n",
       "    </tr>\n",
       "    <tr>\n",
       "      <td>2</td>\n",
       "      <td>1</td>\n",
       "      <td>30.0</td>\n",
       "      <td>c</td>\n",
       "      <td>30.0</td>\n",
       "      <td>c</td>\n",
       "      <td>30.0</td>\n",
       "      <td>30.0</td>\n",
       "      <td>30.0</td>\n",
       "      <td>30.0</td>\n",
       "    </tr>\n",
       "    <tr>\n",
       "      <td>3</td>\n",
       "      <td>7</td>\n",
       "      <td>NaN</td>\n",
       "      <td>a</td>\n",
       "      <td>27.5</td>\n",
       "      <td>a</td>\n",
       "      <td>30.0</td>\n",
       "      <td>30.0</td>\n",
       "      <td>50.0</td>\n",
       "      <td>40.0</td>\n",
       "    </tr>\n",
       "    <tr>\n",
       "      <td>4</td>\n",
       "      <td>5</td>\n",
       "      <td>50.0</td>\n",
       "      <td>None</td>\n",
       "      <td>50.0</td>\n",
       "      <td>a</td>\n",
       "      <td>50.0</td>\n",
       "      <td>50.0</td>\n",
       "      <td>50.0</td>\n",
       "      <td>50.0</td>\n",
       "    </tr>\n",
       "  </tbody>\n",
       "</table>\n",
       "</div>"
      ],
      "text/plain": [
       "   A     B     C   B_1 C_1   B_2  B_ffill  B_bfill  B_interpolate\n",
       "0  7  10.0     a  10.0   a  10.0     10.0     10.0           10.0\n",
       "1  9  20.0     b  20.0   b  20.0     20.0     20.0           20.0\n",
       "2  1  30.0     c  30.0   c  30.0     30.0     30.0           30.0\n",
       "3  7   NaN     a  27.5   a  30.0     30.0     50.0           40.0\n",
       "4  5  50.0  None  50.0   a  50.0     50.0     50.0           50.0"
      ]
     },
     "execution_count": 39,
     "metadata": {},
     "output_type": "execute_result"
    }
   ],
   "source": [
    "df['B_interpolate'] = df['B'].interpolate()\n",
    "df"
   ]
  },
  {
   "cell_type": "code",
   "execution_count": 42,
   "metadata": {},
   "outputs": [
    {
     "data": {
      "text/plain": [
       "5435"
      ]
     },
     "execution_count": 42,
     "metadata": {},
     "output_type": "execute_result"
    }
   ],
   "source": [
    "parliament['ELECTORS'].isna().sum()"
   ]
  },
  {
   "cell_type": "code",
   "execution_count": 44,
   "metadata": {},
   "outputs": [
    {
     "data": {
      "text/html": [
       "<div>\n",
       "<style scoped>\n",
       "    .dataframe tbody tr th:only-of-type {\n",
       "        vertical-align: middle;\n",
       "    }\n",
       "\n",
       "    .dataframe tbody tr th {\n",
       "        vertical-align: top;\n",
       "    }\n",
       "\n",
       "    .dataframe thead th {\n",
       "        text-align: right;\n",
       "    }\n",
       "</style>\n",
       "<table border=\"1\" class=\"dataframe\">\n",
       "  <thead>\n",
       "    <tr style=\"text-align: right;\">\n",
       "      <th></th>\n",
       "      <th>YEAR</th>\n",
       "      <th>STATE</th>\n",
       "      <th>PC</th>\n",
       "      <th>NAME</th>\n",
       "      <th>SEX</th>\n",
       "      <th>PARTY</th>\n",
       "      <th>AGE</th>\n",
       "      <th>CATEGORY</th>\n",
       "      <th>VOTES</th>\n",
       "      <th>ELECTORS</th>\n",
       "      <th>Position</th>\n",
       "    </tr>\n",
       "  </thead>\n",
       "  <tbody>\n",
       "    <tr>\n",
       "      <td>0</td>\n",
       "      <td>1951</td>\n",
       "      <td>AJMER</td>\n",
       "      <td>AJMER NORTH</td>\n",
       "      <td>JAWALA PRASHAD</td>\n",
       "      <td>NaN</td>\n",
       "      <td>INC</td>\n",
       "      <td>NaN</td>\n",
       "      <td>NaN</td>\n",
       "      <td>46679</td>\n",
       "      <td>162327.0</td>\n",
       "      <td>1</td>\n",
       "    </tr>\n",
       "    <tr>\n",
       "      <td>1</td>\n",
       "      <td>1951</td>\n",
       "      <td>AJMER</td>\n",
       "      <td>AJMER NORTH</td>\n",
       "      <td>CHAND KARAN</td>\n",
       "      <td>NaN</td>\n",
       "      <td>BJS</td>\n",
       "      <td>NaN</td>\n",
       "      <td>NaN</td>\n",
       "      <td>28990</td>\n",
       "      <td>162327.0</td>\n",
       "      <td>2</td>\n",
       "    </tr>\n",
       "    <tr>\n",
       "      <td>2</td>\n",
       "      <td>1951</td>\n",
       "      <td>AJMER</td>\n",
       "      <td>AJMER NORTH</td>\n",
       "      <td>DINO MAL</td>\n",
       "      <td>NaN</td>\n",
       "      <td>PURP</td>\n",
       "      <td>NaN</td>\n",
       "      <td>NaN</td>\n",
       "      <td>10778</td>\n",
       "      <td>162327.0</td>\n",
       "      <td>3</td>\n",
       "    </tr>\n",
       "    <tr>\n",
       "      <td>3</td>\n",
       "      <td>1951</td>\n",
       "      <td>AJMER</td>\n",
       "      <td>AJMER NORTH</td>\n",
       "      <td>BAJORIA BADRIDAS</td>\n",
       "      <td>NaN</td>\n",
       "      <td>IND</td>\n",
       "      <td>NaN</td>\n",
       "      <td>NaN</td>\n",
       "      <td>6153</td>\n",
       "      <td>162327.0</td>\n",
       "      <td>4</td>\n",
       "    </tr>\n",
       "    <tr>\n",
       "      <td>4</td>\n",
       "      <td>1951</td>\n",
       "      <td>AJMER</td>\n",
       "      <td>AJMER NORTH</td>\n",
       "      <td>RANG RAJ MEHTA</td>\n",
       "      <td>NaN</td>\n",
       "      <td>IND</td>\n",
       "      <td>NaN</td>\n",
       "      <td>NaN</td>\n",
       "      <td>4565</td>\n",
       "      <td>162327.0</td>\n",
       "      <td>5</td>\n",
       "    </tr>\n",
       "  </tbody>\n",
       "</table>\n",
       "</div>"
      ],
      "text/plain": [
       "   YEAR  STATE           PC              NAME  SEX PARTY  AGE CATEGORY  VOTES  \\\n",
       "0  1951  AJMER  AJMER NORTH    JAWALA PRASHAD  NaN   INC  NaN      NaN  46679   \n",
       "1  1951  AJMER  AJMER NORTH       CHAND KARAN  NaN   BJS  NaN      NaN  28990   \n",
       "2  1951  AJMER  AJMER NORTH          DINO MAL  NaN  PURP  NaN      NaN  10778   \n",
       "3  1951  AJMER  AJMER NORTH  BAJORIA BADRIDAS  NaN   IND  NaN      NaN   6153   \n",
       "4  1951  AJMER  AJMER NORTH    RANG RAJ MEHTA  NaN   IND  NaN      NaN   4565   \n",
       "\n",
       "   ELECTORS  Position  \n",
       "0  162327.0         1  \n",
       "1  162327.0         2  \n",
       "2  162327.0         3  \n",
       "3  162327.0         4  \n",
       "4  162327.0         5  "
      ]
     },
     "execution_count": 44,
     "metadata": {},
     "output_type": "execute_result"
    }
   ],
   "source": [
    "parliament[(parliament['PC'] == 'AJMER NORTH') & \n",
    "           (parliament['YEAR'] == 1951)]"
   ]
  },
  {
   "cell_type": "code",
   "execution_count": 45,
   "metadata": {},
   "outputs": [
    {
     "data": {
      "text/plain": [
       "5435"
      ]
     },
     "execution_count": 45,
     "metadata": {},
     "output_type": "execute_result"
    }
   ],
   "source": [
    "parliament['ELECTORS'].isna().sum()"
   ]
  },
  {
   "cell_type": "markdown",
   "metadata": {},
   "source": [
    "## Principal Component Analysis (PCA)"
   ]
  },
  {
   "cell_type": "code",
   "execution_count": 70,
   "metadata": {},
   "outputs": [],
   "source": [
    "from sklearn.preprocessing import StandardScaler"
   ]
  },
  {
   "cell_type": "code",
   "execution_count": 72,
   "metadata": {},
   "outputs": [
    {
     "data": {
      "text/html": [
       "<div>\n",
       "<style scoped>\n",
       "    .dataframe tbody tr th:only-of-type {\n",
       "        vertical-align: middle;\n",
       "    }\n",
       "\n",
       "    .dataframe tbody tr th {\n",
       "        vertical-align: top;\n",
       "    }\n",
       "\n",
       "    .dataframe thead th {\n",
       "        text-align: right;\n",
       "    }\n",
       "</style>\n",
       "<table border=\"1\" class=\"dataframe\">\n",
       "  <thead>\n",
       "    <tr style=\"text-align: right;\">\n",
       "      <th></th>\n",
       "      <th>x</th>\n",
       "      <th>y</th>\n",
       "    </tr>\n",
       "  </thead>\n",
       "  <tbody>\n",
       "    <tr>\n",
       "      <td>0</td>\n",
       "      <td>1.160994</td>\n",
       "      <td>1.311131</td>\n",
       "    </tr>\n",
       "    <tr>\n",
       "      <td>1</td>\n",
       "      <td>1.152883</td>\n",
       "      <td>1.316316</td>\n",
       "    </tr>\n",
       "    <tr>\n",
       "      <td>2</td>\n",
       "      <td>1.144658</td>\n",
       "      <td>1.321369</td>\n",
       "    </tr>\n",
       "    <tr>\n",
       "      <td>3</td>\n",
       "      <td>1.136317</td>\n",
       "      <td>1.326289</td>\n",
       "    </tr>\n",
       "    <tr>\n",
       "      <td>4</td>\n",
       "      <td>1.127863</td>\n",
       "      <td>1.331077</td>\n",
       "    </tr>\n",
       "  </tbody>\n",
       "</table>\n",
       "</div>"
      ],
      "text/plain": [
       "          x         y\n",
       "0  1.160994  1.311131\n",
       "1  1.152883  1.316316\n",
       "2  1.144658  1.321369\n",
       "3  1.136317  1.326289\n",
       "4  1.127863  1.331077"
      ]
     },
     "execution_count": 72,
     "metadata": {},
     "output_type": "execute_result"
    }
   ],
   "source": [
    "url = 'https://raw.githubusercontent.com/skathirmani/datasets/master/ellipse.csv'\n",
    "df = pd.read_csv(url)\n",
    "scaler = StandardScaler().fit(df)\n",
    "df_scaled = pd.DataFrame(scaler.transform(df),\n",
    "                         columns=df.columns,\n",
    "                         index=df.index)\n",
    "df_scaled.head()"
   ]
  },
  {
   "cell_type": "code",
   "execution_count": 73,
   "metadata": {},
   "outputs": [
    {
     "data": {
      "text/plain": [
       "[<matplotlib.lines.Line2D at 0x12771e650>]"
      ]
     },
     "execution_count": 73,
     "metadata": {},
     "output_type": "execute_result"
    },
    {
     "data": {
      "image/png": "[encoded data removed]",
      "text/plain": [
       "<Figure size 432x288 with 1 Axes>"
      ]
     },
     "metadata": {
      "needs_background": "light"
     },
     "output_type": "display_data"
    }
   ],
   "source": [
    "plt.plot(df['x'], df['y'])"
   ]
  },
  {
   "cell_type": "code",
   "execution_count": 50,
   "metadata": {},
   "outputs": [],
   "source": [
    "from sklearn.decomposition import PCA\n"
   ]
  },
  {
   "cell_type": "code",
   "execution_count": null,
   "metadata": {},
   "outputs": [],
   "source": [
    "# correlation matrix of data\n",
    "# eigen values & eigen vectors for your correlation matrix\n",
    "# dot product b/w scaled data & evectors"
   ]
  },
  {
   "cell_type": "code",
   "execution_count": 93,
   "metadata": {},
   "outputs": [
    {
     "data": {
      "text/plain": [
       "array([ 1.40000000e+01,  2.58591657e-16, -5.28378741e-16])"
      ]
     },
     "execution_count": 93,
     "metadata": {},
     "output_type": "execute_result"
    }
   ],
   "source": [
    "inp = [[1,2,3], [2,4,6], [3,6,9]]\n",
    "evalues, evectors = np.linalg.eig(inp)\n",
    "evalues"
   ]
  },
  {
   "cell_type": "code",
   "execution_count": 80,
   "metadata": {},
   "outputs": [
    {
     "data": {
      "text/plain": [
       "[<matplotlib.lines.Line2D at 0x12a275690>]"
      ]
     },
     "execution_count": 80,
     "metadata": {},
     "output_type": "execute_result"
    },
    {
     "data": {
      "image/png": "[encoded data removed]",
      "text/plain": [
       "<Figure size 432x288 with 1 Axes>"
      ]
     },
     "metadata": {
      "needs_background": "light"
     },
     "output_type": "display_data"
    }
   ],
   "source": [
    "pca_model = PCA(n_components=2).fit(df_scaled)\n",
    "pcs = pca_model.transform(df_scaled)\n",
    "pcs = pd.DataFrame(pcs, columns=['PC1', 'PC2'])\n",
    "plt.plot(pcs['PC1'], pcs['PC2'])"
   ]
  },
  {
   "cell_type": "code",
   "execution_count": 88,
   "metadata": {},
   "outputs": [
    {
     "data": {
      "text/plain": [
       "array([[1.74805631, 0.10616335],\n",
       "       [1.74598745, 0.1155642 ],\n",
       "       [1.7437438 , 0.12495348],\n",
       "       ...,\n",
       "       [1.75217951, 0.08432791],\n",
       "       [1.75051666, 0.09375196],\n",
       "       [1.74867857, 0.10316662]])"
      ]
     },
     "execution_count": 88,
     "metadata": {},
     "output_type": "execute_result"
    }
   ],
   "source": [
    "corr_matrix = df_scaled.corr()\n",
    "evalues, evectors = np.linalg.eig(corr_matrix)\n",
    "np.dot(df_scaled, evectors)"
   ]
  },
  {
   "cell_type": "code",
   "execution_count": 89,
   "metadata": {},
   "outputs": [
    {
     "data": {
      "text/html": [
       "<div>\n",
       "<style scoped>\n",
       "    .dataframe tbody tr th:only-of-type {\n",
       "        vertical-align: middle;\n",
       "    }\n",
       "\n",
       "    .dataframe tbody tr th {\n",
       "        vertical-align: top;\n",
       "    }\n",
       "\n",
       "    .dataframe thead th {\n",
       "        text-align: right;\n",
       "    }\n",
       "</style>\n",
       "<table border=\"1\" class=\"dataframe\">\n",
       "  <thead>\n",
       "    <tr style=\"text-align: right;\">\n",
       "      <th></th>\n",
       "      <th>PC1</th>\n",
       "      <th>PC2</th>\n",
       "    </tr>\n",
       "  </thead>\n",
       "  <tbody>\n",
       "    <tr>\n",
       "      <td>PC1</td>\n",
       "      <td>1.000000e+00</td>\n",
       "      <td>-2.588117e-16</td>\n",
       "    </tr>\n",
       "    <tr>\n",
       "      <td>PC2</td>\n",
       "      <td>-2.588117e-16</td>\n",
       "      <td>1.000000e+00</td>\n",
       "    </tr>\n",
       "  </tbody>\n",
       "</table>\n",
       "</div>"
      ],
      "text/plain": [
       "              PC1           PC2\n",
       "PC1  1.000000e+00 -2.588117e-16\n",
       "PC2 -2.588117e-16  1.000000e+00"
      ]
     },
     "execution_count": 89,
     "metadata": {},
     "output_type": "execute_result"
    }
   ],
   "source": [
    "pcs.corr()"
   ]
  },
  {
   "cell_type": "code",
   "execution_count": 90,
   "metadata": {},
   "outputs": [
    {
     "data": {
      "text/plain": [
       "array([1.552432, 0.447568])"
      ]
     },
     "execution_count": 90,
     "metadata": {},
     "output_type": "execute_result"
    }
   ],
   "source": [
    "evalues"
   ]
  },
  {
   "cell_type": "code",
   "execution_count": 91,
   "metadata": {},
   "outputs": [
    {
     "data": {
      "text/plain": [
       "PC1    1.554904\n",
       "PC2    0.448281\n",
       "dtype: float64"
      ]
     },
     "execution_count": 91,
     "metadata": {},
     "output_type": "execute_result"
    }
   ],
   "source": [
    "pcs.var()"
   ]
  },
  {
   "cell_type": "code",
   "execution_count": 94,
   "metadata": {},
   "outputs": [
    {
     "data": {
      "text/html": [
       "<div>\n",
       "<style scoped>\n",
       "    .dataframe tbody tr th:only-of-type {\n",
       "        vertical-align: middle;\n",
       "    }\n",
       "\n",
       "    .dataframe tbody tr th {\n",
       "        vertical-align: top;\n",
       "    }\n",
       "\n",
       "    .dataframe thead th {\n",
       "        text-align: right;\n",
       "    }\n",
       "</style>\n",
       "<table border=\"1\" class=\"dataframe\">\n",
       "  <thead>\n",
       "    <tr style=\"text-align: right;\">\n",
       "      <th></th>\n",
       "      <th>Sensor1</th>\n",
       "      <th>Sensor2</th>\n",
       "      <th>Sensor3</th>\n",
       "      <th>Sensor4</th>\n",
       "      <th>Sensor5</th>\n",
       "      <th>Sensor6</th>\n",
       "      <th>Sensor7</th>\n",
       "      <th>Sensor8</th>\n",
       "      <th>Sensor9</th>\n",
       "      <th>Sensor10</th>\n",
       "      <th>...</th>\n",
       "      <th>Sensor41</th>\n",
       "      <th>Sensor42</th>\n",
       "      <th>Sensor43</th>\n",
       "      <th>Sensor44</th>\n",
       "      <th>Sensor45</th>\n",
       "      <th>Sensor46</th>\n",
       "      <th>Sensor47</th>\n",
       "      <th>Sensor48</th>\n",
       "      <th>Sensor49</th>\n",
       "      <th>Sensor50</th>\n",
       "    </tr>\n",
       "  </thead>\n",
       "  <tbody>\n",
       "    <tr>\n",
       "      <td>0</td>\n",
       "      <td>23.33984</td>\n",
       "      <td>23.33984</td>\n",
       "      <td>23.63281</td>\n",
       "      <td>23.63281</td>\n",
       "      <td>23.53516</td>\n",
       "      <td>23.33984</td>\n",
       "      <td>22.94922</td>\n",
       "      <td>23.04688</td>\n",
       "      <td>23.14453</td>\n",
       "      <td>23.14453</td>\n",
       "      <td>...</td>\n",
       "      <td>23.53516</td>\n",
       "      <td>23.14453</td>\n",
       "      <td>23.24219</td>\n",
       "      <td>23.53516</td>\n",
       "      <td>23.73047</td>\n",
       "      <td>23.63281</td>\n",
       "      <td>23.43750</td>\n",
       "      <td>22.94922</td>\n",
       "      <td>22.94922</td>\n",
       "      <td>23.04688</td>\n",
       "    </tr>\n",
       "    <tr>\n",
       "      <td>1</td>\n",
       "      <td>23.33984</td>\n",
       "      <td>23.33984</td>\n",
       "      <td>23.73047</td>\n",
       "      <td>23.63281</td>\n",
       "      <td>23.53516</td>\n",
       "      <td>23.43750</td>\n",
       "      <td>23.04688</td>\n",
       "      <td>23.14453</td>\n",
       "      <td>23.24219</td>\n",
       "      <td>23.24219</td>\n",
       "      <td>...</td>\n",
       "      <td>23.43750</td>\n",
       "      <td>23.14453</td>\n",
       "      <td>23.14453</td>\n",
       "      <td>23.53516</td>\n",
       "      <td>23.73047</td>\n",
       "      <td>23.63281</td>\n",
       "      <td>23.53516</td>\n",
       "      <td>23.04688</td>\n",
       "      <td>22.94922</td>\n",
       "      <td>23.04688</td>\n",
       "    </tr>\n",
       "    <tr>\n",
       "      <td>2</td>\n",
       "      <td>23.43750</td>\n",
       "      <td>23.43750</td>\n",
       "      <td>23.63281</td>\n",
       "      <td>23.63281</td>\n",
       "      <td>23.53516</td>\n",
       "      <td>23.33984</td>\n",
       "      <td>22.94922</td>\n",
       "      <td>23.14453</td>\n",
       "      <td>23.24219</td>\n",
       "      <td>23.24219</td>\n",
       "      <td>...</td>\n",
       "      <td>23.53516</td>\n",
       "      <td>23.24219</td>\n",
       "      <td>23.24219</td>\n",
       "      <td>23.63281</td>\n",
       "      <td>23.73047</td>\n",
       "      <td>23.73047</td>\n",
       "      <td>23.53516</td>\n",
       "      <td>23.24219</td>\n",
       "      <td>23.04688</td>\n",
       "      <td>23.04688</td>\n",
       "    </tr>\n",
       "    <tr>\n",
       "      <td>3</td>\n",
       "      <td>23.33984</td>\n",
       "      <td>23.33984</td>\n",
       "      <td>23.63281</td>\n",
       "      <td>23.63281</td>\n",
       "      <td>23.53516</td>\n",
       "      <td>23.33984</td>\n",
       "      <td>22.94922</td>\n",
       "      <td>23.14453</td>\n",
       "      <td>23.24219</td>\n",
       "      <td>23.24219</td>\n",
       "      <td>...</td>\n",
       "      <td>23.53516</td>\n",
       "      <td>23.14453</td>\n",
       "      <td>23.33984</td>\n",
       "      <td>23.63281</td>\n",
       "      <td>23.73047</td>\n",
       "      <td>23.73047</td>\n",
       "      <td>23.43750</td>\n",
       "      <td>23.04688</td>\n",
       "      <td>23.04688</td>\n",
       "      <td>23.04688</td>\n",
       "    </tr>\n",
       "    <tr>\n",
       "      <td>4</td>\n",
       "      <td>23.43750</td>\n",
       "      <td>23.43750</td>\n",
       "      <td>23.73047</td>\n",
       "      <td>23.73047</td>\n",
       "      <td>23.63281</td>\n",
       "      <td>23.43750</td>\n",
       "      <td>23.04688</td>\n",
       "      <td>23.24219</td>\n",
       "      <td>23.24219</td>\n",
       "      <td>23.24219</td>\n",
       "      <td>...</td>\n",
       "      <td>23.53516</td>\n",
       "      <td>23.24219</td>\n",
       "      <td>23.33984</td>\n",
       "      <td>23.63281</td>\n",
       "      <td>23.73047</td>\n",
       "      <td>23.63281</td>\n",
       "      <td>23.53516</td>\n",
       "      <td>22.94922</td>\n",
       "      <td>23.04688</td>\n",
       "      <td>23.14453</td>\n",
       "    </tr>\n",
       "  </tbody>\n",
       "</table>\n",
       "<p>5 rows × 50 columns</p>\n",
       "</div>"
      ],
      "text/plain": [
       "    Sensor1   Sensor2   Sensor3   Sensor4   Sensor5   Sensor6   Sensor7  \\\n",
       "0  23.33984  23.33984  23.63281  23.63281  23.53516  23.33984  22.94922   \n",
       "1  23.33984  23.33984  23.73047  23.63281  23.53516  23.43750  23.04688   \n",
       "2  23.43750  23.43750  23.63281  23.63281  23.53516  23.33984  22.94922   \n",
       "3  23.33984  23.33984  23.63281  23.63281  23.53516  23.33984  22.94922   \n",
       "4  23.43750  23.43750  23.73047  23.73047  23.63281  23.43750  23.04688   \n",
       "\n",
       "    Sensor8   Sensor9  Sensor10  ...  Sensor41  Sensor42  Sensor43  Sensor44  \\\n",
       "0  23.04688  23.14453  23.14453  ...  23.53516  23.14453  23.24219  23.53516   \n",
       "1  23.14453  23.24219  23.24219  ...  23.43750  23.14453  23.14453  23.53516   \n",
       "2  23.14453  23.24219  23.24219  ...  23.53516  23.24219  23.24219  23.63281   \n",
       "3  23.14453  23.24219  23.24219  ...  23.53516  23.14453  23.33984  23.63281   \n",
       "4  23.24219  23.24219  23.24219  ...  23.53516  23.24219  23.33984  23.63281   \n",
       "\n",
       "   Sensor45  Sensor46  Sensor47  Sensor48  Sensor49  Sensor50  \n",
       "0  23.73047  23.63281  23.43750  22.94922  22.94922  23.04688  \n",
       "1  23.73047  23.63281  23.53516  23.04688  22.94922  23.04688  \n",
       "2  23.73047  23.73047  23.53516  23.24219  23.04688  23.04688  \n",
       "3  23.73047  23.73047  23.43750  23.04688  23.04688  23.04688  \n",
       "4  23.73047  23.63281  23.53516  22.94922  23.04688  23.14453  \n",
       "\n",
       "[5 rows x 50 columns]"
      ]
     },
     "execution_count": 94,
     "metadata": {},
     "output_type": "execute_result"
    }
   ],
   "source": [
    "url = 'https://raw.githubusercontent.com/skathirmani/datasets/master/data_pca.csv'\n",
    "sensors = pd.read_csv(url)\n",
    "sensors.head()"
   ]
  },
  {
   "cell_type": "code",
   "execution_count": 96,
   "metadata": {},
   "outputs": [],
   "source": [
    "scaler = StandardScaler().fit(sensors)\n",
    "sensors_scaled = pd.DataFrame(scaler.transform(sensors),\n",
    "                         columns=sensors.columns,\n",
    "                         index=sensors.index)"
   ]
  },
  {
   "cell_type": "code",
   "execution_count": 98,
   "metadata": {},
   "outputs": [
    {
     "data": {
      "text/plain": [
       "[<matplotlib.lines.Line2D at 0x12a5101d0>]"
      ]
     },
     "execution_count": 98,
     "metadata": {},
     "output_type": "execute_result"
    },
    {
     "data": {
      "image/png": "[encoded data removed]",
      "text/plain": [
       "<Figure size 432x288 with 1 Axes>"
      ]
     },
     "metadata": {
      "needs_background": "light"
     },
     "output_type": "display_data"
    }
   ],
   "source": [
    "corr_matrix = sensors_scaled.corr()\n",
    "\n",
    "evalues, evectors = np.linalg.eig(corr_matrix)\n",
    "plt.plot(evalues)"
   ]
  },
  {
   "cell_type": "code",
   "execution_count": 106,
   "metadata": {},
   "outputs": [
    {
     "data": {
      "text/plain": [
       "array([3.99631174e+01, 3.82787291e+00, 1.92054906e+00, 8.24963784e-01,\n",
       "       4.96783332e-01, 3.27546052e-01, 2.47969344e-01, 2.08158544e-01,\n",
       "       1.32220707e-01, 1.19546477e-01, 1.02443193e-01, 1.01424781e-01,\n",
       "       9.89699230e-02, 9.11426503e-02, 3.34280016e-16, 8.49546534e-02,\n",
       "       7.83831135e-02, 7.39401675e-02, 6.92763536e-02, 6.56282807e-02,\n",
       "       6.21113884e-02, 6.08690454e-02, 1.80008137e-02, 1.94791308e-02,\n",
       "       5.70684494e-02, 5.56288907e-02, 5.49733216e-02, 5.41435689e-02,\n",
       "       5.28382703e-02, 5.18549615e-02, 2.14840034e-02, 2.26410431e-02,\n",
       "       4.80527737e-02, 4.63806758e-02, 2.36227223e-02, 4.39259055e-02,\n",
       "       4.24066260e-02, 4.11499125e-02, 3.99591425e-02, 3.94418918e-02,\n",
       "       3.69244032e-02, 3.49407785e-02, 2.61868820e-02, 2.69304296e-02,\n",
       "       3.30066397e-02, 2.87768980e-02, 2.94210383e-02, 3.00254718e-02,\n",
       "       3.11734238e-02, 3.16907334e-02])"
      ]
     },
     "execution_count": 106,
     "metadata": {},
     "output_type": "execute_result"
    }
   ],
   "source": [
    "#evalues.cumsum()/sum(evalues)\n",
    "evalues"
   ]
  },
  {
   "cell_type": "code",
   "execution_count": 107,
   "metadata": {},
   "outputs": [],
   "source": [
    "pca_model = PCA(n_components=7)"
   ]
  },
  {
   "cell_type": "code",
   "execution_count": 105,
   "metadata": {},
   "outputs": [
    {
     "data": {
      "text/plain": [
       "0    40.002724\n",
       "1     3.831667\n",
       "2     1.922452\n",
       "3     0.825781\n",
       "4     0.497276\n",
       "5     0.327870\n",
       "6     0.248215\n",
       "dtype: float64"
      ]
     },
     "execution_count": 105,
     "metadata": {},
     "output_type": "execute_result"
    }
   ],
   "source": [
    "pca_model = PCA(n_components=7).fit(sensors_scaled)\n",
    "df_pcs = pd.DataFrame(pca_model.transform(sensors_scaled))\n",
    "df_pcs.var()"
   ]
  },
  {
   "cell_type": "code",
   "execution_count": 111,
   "metadata": {},
   "outputs": [
    {
     "data": {
      "text/html": [
       "<div>\n",
       "<style scoped>\n",
       "    .dataframe tbody tr th:only-of-type {\n",
       "        vertical-align: middle;\n",
       "    }\n",
       "\n",
       "    .dataframe tbody tr th {\n",
       "        vertical-align: top;\n",
       "    }\n",
       "\n",
       "    .dataframe thead th {\n",
       "        text-align: right;\n",
       "    }\n",
       "</style>\n",
       "<table border=\"1\" class=\"dataframe\">\n",
       "  <thead>\n",
       "    <tr style=\"text-align: right;\">\n",
       "      <th></th>\n",
       "      <th>x</th>\n",
       "      <th>y</th>\n",
       "    </tr>\n",
       "  </thead>\n",
       "  <tbody>\n",
       "    <tr>\n",
       "      <td>0</td>\n",
       "      <td>3.500000</td>\n",
       "      <td>4.500000</td>\n",
       "    </tr>\n",
       "    <tr>\n",
       "      <td>1</td>\n",
       "      <td>3.482555</td>\n",
       "      <td>4.509875</td>\n",
       "    </tr>\n",
       "    <tr>\n",
       "      <td>2</td>\n",
       "      <td>3.464861</td>\n",
       "      <td>4.519499</td>\n",
       "    </tr>\n",
       "    <tr>\n",
       "      <td>3</td>\n",
       "      <td>3.446921</td>\n",
       "      <td>4.528871</td>\n",
       "    </tr>\n",
       "    <tr>\n",
       "      <td>4</td>\n",
       "      <td>3.428737</td>\n",
       "      <td>4.537990</td>\n",
       "    </tr>\n",
       "  </tbody>\n",
       "</table>\n",
       "</div>"
      ],
      "text/plain": [
       "          x         y\n",
       "0  3.500000  4.500000\n",
       "1  3.482555  4.509875\n",
       "2  3.464861  4.519499\n",
       "3  3.446921  4.528871\n",
       "4  3.428737  4.537990"
      ]
     },
     "execution_count": 111,
     "metadata": {},
     "output_type": "execute_result"
    }
   ],
   "source": [
    "df.head()"
   ]
  },
  {
   "cell_type": "code",
   "execution_count": 125,
   "metadata": {},
   "outputs": [
    {
     "data": {
      "text/plain": [
       "(629, 2)"
      ]
     },
     "execution_count": 125,
     "metadata": {},
     "output_type": "execute_result"
    }
   ],
   "source": [
    "df.shape"
   ]
  },
  {
   "cell_type": "markdown",
   "metadata": {},
   "source": [
    "## Class"
   ]
  },
  {
   "cell_type": "code",
   "execution_count": 122,
   "metadata": {},
   "outputs": [],
   "source": [
    "class data_explorer:\n",
    "    def __init__(self, data):\n",
    "        self.data = data\n",
    "        self.x  = 10 \n",
    "    \n",
    "    def get_data_types(self):\n",
    "        return {'numerics': self.data._get_numeric_data().columns.tolist(),\n",
    "                'categories': [],\n",
    "                'dates': [],\n",
    "                'texts': [],\n",
    "                'geographical': []}\n",
    "    def get_correlated_metrics(self, thresh=0.6):\n",
    "        df = self.data\n",
    "        corr_matrix = df.corr()\n",
    "        thresh=0.6\n",
    "        df_corr = pd.DataFrame(np.tril(corr_matrix, -1),\n",
    "                              columns=corr_matrix.columns,\n",
    "                              index=corr_matrix.index)\n",
    "        df_corr_melted = df_corr.reset_index().melt(id_vars='index')\n",
    "        df_corr_melted = df_corr_melted[df_corr_melted['value']>= thresh]\n",
    "        df_corr_melted = df_corr_melted.rename(columns={'index': 'col1',\n",
    "                                                        'variable': 'col2',\n",
    "                                                        'value': 'corr'})\n",
    "        df_corr_melted = df_corr_melted.reset_index(drop=True)\n",
    "        return df_corr_melted\n",
    "    \n",
    "analyzer = data_explorer(df)"
   ]
  },
  {
   "cell_type": "code",
   "execution_count": 117,
   "metadata": {},
   "outputs": [
    {
     "data": {
      "text/plain": [
       "{'numerics': ['x', 'y'],\n",
       " 'categories': [],\n",
       " 'dates': [],\n",
       " 'texts': [],\n",
       " 'geographical': []}"
      ]
     },
     "execution_count": 117,
     "metadata": {},
     "output_type": "execute_result"
    }
   ],
   "source": [
    "analyzer.get_data_types()"
   ]
  },
  {
   "cell_type": "code",
   "execution_count": 123,
   "metadata": {},
   "outputs": [
    {
     "data": {
      "text/plain": [
       "{'numerics': ['YEAR', 'AGE', 'VOTES', 'ELECTORS', 'Position'],\n",
       " 'categories': [],\n",
       " 'dates': [],\n",
       " 'texts': [],\n",
       " 'geographical': []}"
      ]
     },
     "execution_count": 123,
     "metadata": {},
     "output_type": "execute_result"
    }
   ],
   "source": [
    "analyzer = data_explorer(parliament)\n",
    "analyzer.get_data_types()"
   ]
  },
  {
   "cell_type": "code",
   "execution_count": 124,
   "metadata": {},
   "outputs": [
    {
     "data": {
      "text/html": [
       "<div>\n",
       "<style scoped>\n",
       "    .dataframe tbody tr th:only-of-type {\n",
       "        vertical-align: middle;\n",
       "    }\n",
       "\n",
       "    .dataframe tbody tr th {\n",
       "        vertical-align: top;\n",
       "    }\n",
       "\n",
       "    .dataframe thead th {\n",
       "        text-align: right;\n",
       "    }\n",
       "</style>\n",
       "<table border=\"1\" class=\"dataframe\">\n",
       "  <thead>\n",
       "    <tr style=\"text-align: right;\">\n",
       "      <th></th>\n",
       "      <th>col1</th>\n",
       "      <th>col2</th>\n",
       "      <th>corr</th>\n",
       "    </tr>\n",
       "  </thead>\n",
       "  <tbody>\n",
       "    <tr>\n",
       "      <td>0</td>\n",
       "      <td>ELECTORS</td>\n",
       "      <td>YEAR</td>\n",
       "      <td>0.763377</td>\n",
       "    </tr>\n",
       "  </tbody>\n",
       "</table>\n",
       "</div>"
      ],
      "text/plain": [
       "       col1  col2      corr\n",
       "0  ELECTORS  YEAR  0.763377"
      ]
     },
     "execution_count": 124,
     "metadata": {},
     "output_type": "execute_result"
    }
   ],
   "source": [
    "analyzer.get_correlated_metrics()"
   ]
  },
  {
   "cell_type": "code",
   "execution_count": 126,
   "metadata": {},
   "outputs": [],
   "source": [
    "import auto_eda"
   ]
  },
  {
   "cell_type": "code",
   "execution_count": 128,
   "metadata": {},
   "outputs": [],
   "source": [
    "insurance = pd.read_csv('https://raw.githubusercontent.com/skathirmani/datasets/master/insurance.csv')\n",
    "analyzer = auto_eda.data_explorer(insurance)"
   ]
  },
  {
   "cell_type": "code",
   "execution_count": 129,
   "metadata": {},
   "outputs": [
    {
     "data": {
      "text/html": [
       "<div>\n",
       "<style scoped>\n",
       "    .dataframe tbody tr th:only-of-type {\n",
       "        vertical-align: middle;\n",
       "    }\n",
       "\n",
       "    .dataframe tbody tr th {\n",
       "        vertical-align: top;\n",
       "    }\n",
       "\n",
       "    .dataframe thead th {\n",
       "        text-align: right;\n",
       "    }\n",
       "</style>\n",
       "<table border=\"1\" class=\"dataframe\">\n",
       "  <thead>\n",
       "    <tr style=\"text-align: right;\">\n",
       "      <th></th>\n",
       "      <th>categorical</th>\n",
       "      <th>numerical</th>\n",
       "    </tr>\n",
       "  </thead>\n",
       "  <tbody>\n",
       "    <tr>\n",
       "      <td>0</td>\n",
       "      <td>region</td>\n",
       "      <td>bmi</td>\n",
       "    </tr>\n",
       "    <tr>\n",
       "      <td>1</td>\n",
       "      <td>sex</td>\n",
       "      <td>expenses</td>\n",
       "    </tr>\n",
       "    <tr>\n",
       "      <td>2</td>\n",
       "      <td>smoker</td>\n",
       "      <td>expenses</td>\n",
       "    </tr>\n",
       "  </tbody>\n",
       "</table>\n",
       "</div>"
      ],
      "text/plain": [
       "  categorical numerical\n",
       "0      region       bmi\n",
       "1         sex  expenses\n",
       "2      smoker  expenses"
      ]
     },
     "execution_count": 129,
     "metadata": {},
     "output_type": "execute_result"
    }
   ],
   "source": [
    "analyzer.get_anova_results()"
   ]
  },
  {
   "cell_type": "code",
   "execution_count": 130,
   "metadata": {},
   "outputs": [
    {
     "data": {
      "text/html": [
       "<div>\n",
       "<style scoped>\n",
       "    .dataframe tbody tr th:only-of-type {\n",
       "        vertical-align: middle;\n",
       "    }\n",
       "\n",
       "    .dataframe tbody tr th {\n",
       "        vertical-align: top;\n",
       "    }\n",
       "\n",
       "    .dataframe thead th {\n",
       "        text-align: right;\n",
       "    }\n",
       "</style>\n",
       "<table border=\"1\" class=\"dataframe\">\n",
       "  <thead>\n",
       "    <tr style=\"text-align: right;\">\n",
       "      <th></th>\n",
       "      <th>col1</th>\n",
       "      <th>col2</th>\n",
       "      <th>corr</th>\n",
       "    </tr>\n",
       "  </thead>\n",
       "  <tbody>\n",
       "  </tbody>\n",
       "</table>\n",
       "</div>"
      ],
      "text/plain": [
       "Empty DataFrame\n",
       "Columns: [col1, col2, corr]\n",
       "Index: []"
      ]
     },
     "execution_count": 130,
     "metadata": {},
     "output_type": "execute_result"
    }
   ],
   "source": [
    "analyzer.get_correlated_metrics()"
   ]
  },
  {
   "cell_type": "code",
   "execution_count": null,
   "metadata": {},
   "outputs": [],
   "source": [
    "# handle error\n",
    "#try:\n",
    "#except:\n",
    "# debugging: pdb"
   ]
  },
  {
   "cell_type": "code",
   "execution_count": 146,
   "metadata": {},
   "outputs": [],
   "source": [
    "class new_data_explorer(auto_eda.data_explorer):\n",
    "    def get_data_types(self):\n",
    "        return {'numerics': self.df._get_numeric_data().columns.tolist(),\n",
    "                'categories': [],\n",
    "                'dates': [],\n",
    "                'texts': [],\n",
    "                'geographical': []}"
   ]
  },
  {
   "cell_type": "code",
   "execution_count": 147,
   "metadata": {},
   "outputs": [],
   "source": [
    "analyzer = new_data_explorer(insurance)"
   ]
  },
  {
   "cell_type": "code",
   "execution_count": 148,
   "metadata": {},
   "outputs": [
    {
     "data": {
      "text/plain": [
       "{'numerics': ['age', 'bmi', 'children', 'expenses'],\n",
       " 'categories': [],\n",
       " 'dates': [],\n",
       " 'texts': [],\n",
       " 'geographical': []}"
      ]
     },
     "execution_count": 148,
     "metadata": {},
     "output_type": "execute_result"
    }
   ],
   "source": [
    "analyzer.get_data_types()"
   ]
  },
  {
   "cell_type": "code",
   "execution_count": 149,
   "metadata": {},
   "outputs": [],
   "source": [
    "class new_dataframe(pd.DataFrame):\n",
    "    @property\n",
    "    def get_data_types(self):\n",
    "        return {'numerics': [1,2,3]}"
   ]
  },
  {
   "cell_type": "code",
   "execution_count": 152,
   "metadata": {},
   "outputs": [
    {
     "data": {
      "text/plain": [
       "pandas.core.frame.DataFrame"
      ]
     },
     "execution_count": 152,
     "metadata": {},
     "output_type": "execute_result"
    }
   ],
   "source": [
    "type(insurance)"
   ]
  },
  {
   "cell_type": "code",
   "execution_count": 151,
   "metadata": {},
   "outputs": [
    {
     "data": {
      "text/plain": [
       "__main__.new_dataframe"
      ]
     },
     "execution_count": 151,
     "metadata": {},
     "output_type": "execute_result"
    }
   ],
   "source": [
    "df = new_dataframe(insurance)\n",
    "type(df)"
   ]
  },
  {
   "cell_type": "code",
   "execution_count": 153,
   "metadata": {},
   "outputs": [
    {
     "data": {
      "text/plain": [
       "{'numerics': [1, 2, 3]}"
      ]
     },
     "execution_count": 153,
     "metadata": {},
     "output_type": "execute_result"
    }
   ],
   "source": [
    "df.get_data_types"
   ]
  }
 ],
 "metadata": {
  "kernelspec": {
   "display_name": "Python 3",
   "language": "python",
   "name": "python3"
  },
  "language_info": {
   "codemirror_mode": {
    "name": "ipython",
    "version": 3
   },
   "file_extension": ".py",
   "mimetype": "text/x-python",
   "name": "python",
   "nbconvert_exporter": "python",
   "pygments_lexer": "ipython3",
   "version": "3.7.4"
  }
 },
 "nbformat": 4,
 "nbformat_minor": 2
}
